{
  "nbformat": 4,
  "nbformat_minor": 0,
  "metadata": {
    "colab": {
      "name": "DCGAN",
      "provenance": [],
      "collapsed_sections": []
    },
    "kernelspec": {
      "name": "python3",
      "display_name": "Python 3"
    },
    "accelerator": "GPU"
  },
  "cells": [
    {
      "cell_type": "code",
      "metadata": {
        "id": "gLM6o1DSjcXJ",
        "colab_type": "code",
        "colab": {}
      },
      "source": [
        "from __future__ import print_function\n",
        "#%matplotlib inline\n",
        "import argparse\n",
        "import datetime\n",
        "import os\n",
        "import os.path\n",
        "import random\n",
        "import torch\n",
        "import torch.nn as nn\n",
        "import torch.nn.parallel\n",
        "import torch.backends.cudnn as cudnn\n",
        "import torch.optim as optim\n",
        "import torch.utils.data\n",
        "import torchvision.datasets as datasets\n",
        "import torchvision.transforms as transforms\n",
        "import torchvision.utils as vutils\n",
        "from torchvision.utils import save_image\n",
        "from torch.utils.data import SubsetRandomSampler\n",
        "import numpy as np\n",
        "import matplotlib.pyplot as plt\n",
        "import matplotlib.animation as animation\n",
        "from IPython.display import HTML\n",
        "from IPython.display import clear_output\n",
        "from tqdm import tqdm"
      ],
      "execution_count": null,
      "outputs": []
    },
    {
      "cell_type": "code",
      "metadata": {
        "id": "hZ7QF4YbN1Pl",
        "colab_type": "code",
        "colab": {
          "base_uri": "https://localhost:8080/",
          "height": 139
        },
        "outputId": "fb1c388d-348b-433a-dbe1-8b0a31acb23a"
      },
      "source": [
        "from google.colab import drive\n",
        "drive.mount('/content/drive') \n",
        "%cd /content/drive/My\\ Drive/"
      ],
      "execution_count": null,
      "outputs": [
        {
          "output_type": "stream",
          "text": [
            "Go to this URL in a browser: https://accounts.google.com/o/oauth2/auth?client_id=947318989803-6bn6qk8qdgf4n4g3pfee6491hc0brc4i.apps.googleusercontent.com&redirect_uri=urn%3aietf%3awg%3aoauth%3a2.0%3aoob&scope=email%20https%3a%2f%2fwww.googleapis.com%2fauth%2fdocs.test%20https%3a%2f%2fwww.googleapis.com%2fauth%2fdrive%20https%3a%2f%2fwww.googleapis.com%2fauth%2fdrive.photos.readonly%20https%3a%2f%2fwww.googleapis.com%2fauth%2fpeopleapi.readonly&response_type=code\n",
            "\n",
            "Enter your authorization code:\n",
            "··········\n",
            "Mounted at /content/drive\n",
            "/content/drive/My Drive\n"
          ],
          "name": "stdout"
        }
      ]
    },
    {
      "cell_type": "code",
      "metadata": {
        "id": "n2VqTBZSeQH2",
        "colab_type": "code",
        "colab": {
          "base_uri": "https://localhost:8080/",
          "height": 34
        },
        "outputId": "672293cf-c247-406c-dcc2-69724ba629cf"
      },
      "source": [
        "!git clone https://github.com/vj2050/Transfer-Learning-COVID-19.git\n",
        "\n",
        "data_dir='Transfer-Learning-COVID-19/dataset_3_classes/'\n",
        "#data_dir='Transfer-Learning-COVID-19/ddd/'\n"
      ],
      "execution_count": null,
      "outputs": [
        {
          "output_type": "stream",
          "text": [
            "fatal: destination path 'Transfer-Learning-COVID-19' already exists and is not an empty directory.\n"
          ],
          "name": "stdout"
        }
      ]
    },
    {
      "cell_type": "code",
      "metadata": {
        "id": "5MdEuFt0nkmc",
        "colab_type": "code",
        "colab": {}
      },
      "source": [
        "device = torch.device('cuda' if torch.cuda.is_available() else 'cpu')\n",
        "#data_dir = 'div2k' #Just to check\n",
        "#data_dir = 'dataset_3_classes'\n",
        "batch_size = 32\n",
        "# Number of training epochs\n",
        "num_epochs = 200\n",
        "LOAD_MODEL = True\n",
        "#PATH='/content/drive/My Drive/augGAN/model/+1.668_+1.233_512_2020-08-15_05:56:37.dat' #Pneu_vir_512_3channel\n",
        "#PATH='/content/drive/My Drive/augGAN/model/+0.940_+1.145_512_2020-08-10_08:42:25.dat' #Pneu_bac_512_3channel\n",
        "#PATH='/content/drive/My Drive/augGAN/model/+3.615_+1.081_512_2020-08-10_08:31:47.dat' #Normal_512_3channel\n",
        "#PATH='/content/drive/My Drive/augGAN/model/+2.174_+0.557_512_2020-08-10_08:06:57.dat' #Covid_512_3channel\n",
        "#PATH='/content/drive/My Drive/augGAN/model/+0.858_+1.551_150_2020-08-06_17:40:14.dat' #Airplane_150(0.0002,0.0002/7)\n",
        "#PATH='/content/drive/My Drive/augGAN/model/+1.502_+1.416_50_2020-08-07_10:57:29.dat' #Normal_50(0.004,0.0002)\n",
        "#PATH='/content/drive/My Drive/augGAN/model/+8.511_+0.050_50_2020-08-07_06:55:40.dat' #Normal_50(0.0002,0.0001)\n",
        "#PATH='/content/drive/My Drive/augGAN/model/+8.030_+0.302_50_2020-08-07_06:50:39.dat' #Normal_50(0.0003,0.0002)\n",
        "#PATH='/content/drive/My Drive/augGAN/model/+4.242_+0.839_50_2020-08-07_06:33:27.dat' #Normal_50_0.0002(both)\n",
        "#PATH='/content/drive/My Drive/augGAN/model/+2.009_+1.165_50_2020-08-07_10:49:11.dat' #Normal_50\n",
        "#PATH='/content/drive/My Drive/augGAN/model/+0.654_+1.615_100_2020-08-07_11:18:28.dat' #Normal_100\n",
        "#PATH='/content/drive/My Drive/augGAN/model/+3.610_+0.208_512_2020-08-07_12:05:28.dat' #Normal_512\n",
        "#PATH='/content/drive/My Drive/augGAN/model/+4.966_+0.099_512_2020-08-07_14:54:02.dat' #Covid_512\n",
        "#PATH='/content/drive/My Drive/augGAN/model/+4.752_+0.221_512_2020-08-08_11:30:38.dat' #Pneu_bac_512\n",
        "#PATH='/content/drive/My Drive/augGAN/model/+2.112_+0.544_512_2020-08-15_05:39:37.dat' #Pneu_vir_512\n",
        "\n",
        "#PATH='/content/drive/My Drive/augGAN/model/+1.396_+0.967_400_2020-08-18_10:33:46.dat' #Pneu_bac_400\n",
        "\n",
        "#PATH='/content/drive/My Drive/augGAN/model/+1.439_+0.961_200_2020-08-17_10:47:43.dat' #Pneu_vir_200_0.5\n",
        "#PATH='/content/drive/My Drive/augGAN/model/+1.018_+1.384_200_2020-08-17_11:01:46.dat' #Pneu_vir_200\n",
        "#PATH='/content/drive/My Drive/augGAN/model/+1.583_+1.101_512_2020-08-21_10:27:08.dat' #Pneu_vir_512\n",
        "\n",
        "#PATH='/content/drive/My Drive/augGAN/model/+0.654_+1.615_100_2020-08-07_11:18:28.dat'\n",
        "#PATH='/content/drive/My Drive/augGAN/model/+2.625_+0.479_100_2020-08-07_17:27:13.dat'\n",
        "\n",
        "#PATH='/content/drive/My Drive/augGAN/model/+1.521_+1.064_200_2020-08-22_15:49:13.dat' #P_vir_200_opt\n",
        "#PATH='/content/drive/My Drive/augGAN/model/+1.358_+1.327_200_2020-08-22_16:21:47.dat' #P_bac_200_opt\n",
        "#PATH='/content/drive/My Drive/augGAN/model/+2.483_+0.978_200_2020-08-22_16:38:52.dat' #Normal_200_opt\n",
        "#PATH='/content/drive/My Drive/augGAN/model/+2.128_+1.160_200_2020-08-22_16:58:21.dat' #Covid_200_opt\n",
        "\n",
        "#PATH='/content/drive/My Drive/augGAN/model/+1.206_+1.376_100_2020-08-22_18:15:34.dat' #Normal_100_opt lr=0.002\n",
        "#PATH='/content/drive/My Drive/augGAN/model/+2.110_+0.449_100_2020-08-22_18:24:04.dat' #Normal_100_opt lr=0.0002\n",
        " \n",
        "#PATH='/content/drive/My Drive/augGAN/model/+1.146_+1.348_100_2020-08-22_18:35:03.dat' #Covid_100_opt \n",
        "#PATH='/content/drive/My Drive/augGAN/model/+3.524_+0.060_512_2020-08-22_19:14:00.dat' #Covid_512_opt \n",
        "\n",
        "PATH='/content/drive/My Drive/augGAN/model/+0.716_+1.515_200_2020-08-23_14:18:41.dat' #P_bac_200_opt  3 Ch\n",
        "TRAIN_ALL = False\n",
        "#All images will be resized to this size using a transformer.\n",
        "image_size = 64\n",
        "\n",
        "# Number of channels in the training images. For color images this is 3\n",
        "nc = 3\n",
        "\n",
        "# Size of z latent vector (i.e. size of generator input)\n",
        "nz = 100\n",
        "\n",
        "# Size of feature maps in generator\n",
        "ngf = 64\n",
        "\n",
        "# Size of feature maps in discriminator\n",
        "ndf = 64\n",
        "\n",
        "# Learning rate for optimizers\n",
        "lr = 0.002\n",
        "lr_d = 0.0002\n",
        "# Beta1 hyperparam for Adam optimizers\n",
        "beta1 = 0.5\n",
        "# Beta2 hyperparam for Adam optimizers\n",
        "beta2 = 0.999\n",
        "\n",
        "real_label = 1.\n",
        "fake_label = 0.\n",
        "# Input to generator\n",
        "fixed_noise = torch.randn(64, nz, 1, 1, device=device) #batch of 64\n",
        "# Define Loss function\n",
        "criterion = nn.BCELoss()"
      ],
      "execution_count": null,
      "outputs": []
    },
    {
      "cell_type": "code",
      "metadata": {
        "id": "HHXGFAtBHH4R",
        "colab_type": "code",
        "colab": {}
      },
      "source": [
        "def weights_init(m):\n",
        "    classname = m.__class__.__name__\n",
        "    if classname.find('Conv') != -1:\n",
        "        nn.init.normal_(m.weight.data, 0.0, 0.02)\n",
        "    elif classname.find('BatchNorm') != -1:\n",
        "        nn.init.normal_(m.weight.data, 1.0, 0.02)\n",
        "        nn.init.constant_(m.bias.data, 0)"
      ],
      "execution_count": null,
      "outputs": []
    },
    {
      "cell_type": "code",
      "metadata": {
        "id": "F4uvXCj5zzNa",
        "colab_type": "code",
        "colab": {}
      },
      "source": [
        "# class Generator(nn.Module):\n",
        "\n",
        "#     def __init__(self):\n",
        "#         super(Generator, self).__init__()\n",
        "#         self._model = nn.Sequential(\n",
        "#             # input is Z, going into a convolution\n",
        "#             #i/p,o/p,kernel size,stride,padding\n",
        "#             nn.ConvTranspose2d( nz, ngf * 16, 4, 1, 0, bias=False),\n",
        "#             nn.BatchNorm2d(ngf * 16),\n",
        "#             nn.ReLU(True),\n",
        "#             # state size. (ngf*16) x 4 x 4\n",
        "#             nn.ConvTranspose2d( ngf * 16, ngf * 8, 4, 2, 1, bias=False),\n",
        "#             nn.BatchNorm2d(ngf * 8),\n",
        "#             nn.ReLU(True),\n",
        "#             # state size. (ngf*8) x 8 x 8\n",
        "#             nn.ConvTranspose2d(ngf * 8, ngf * 4, 4, 2, 1, bias=False),\n",
        "#             nn.BatchNorm2d(ngf * 4),\n",
        "#             nn.ReLU(True),\n",
        "#             # state size. (ngf*4) x 16 x 16\n",
        "#             nn.ConvTranspose2d( ngf * 4, ngf * 2, 4, 2, 1, bias=False),\n",
        "#             nn.BatchNorm2d(ngf * 2),\n",
        "#             nn.ReLU(True),\n",
        "#             # state size. (ngf*2) x 32 x 32\n",
        "#             nn.ConvTranspose2d( ngf*2, nc, 4, 2, 1, bias=False),\n",
        "#             nn.Tanh()\n",
        "#             # state size. (nc) x 64 x 64\n",
        "#         )\n",
        "\n",
        "#     def forward(self, input):\n",
        "#         return self._model(input)\n",
        "\n",
        "class Generator(nn.Module):\n",
        "    def __init__(self):\n",
        "        super(Generator, self).__init__()\n",
        "        self.main = nn.Sequential(\n",
        "            # input is Z, going into a convolution\n",
        "            nn.ConvTranspose2d( nz, ngf * 8, 4, 1, 0, bias=False),\n",
        "            nn.BatchNorm2d(ngf * 8),\n",
        "            nn.ReLU(True),\n",
        "            # state size. (ngf*8) x 4 x 4\n",
        "            nn.ConvTranspose2d(ngf * 8, ngf * 4, 4, 2, 1, bias=False),\n",
        "            nn.BatchNorm2d(ngf * 4),\n",
        "            nn.ReLU(True),\n",
        "            # state size. (ngf*4) x 8 x 8\n",
        "            nn.ConvTranspose2d( ngf * 4, ngf * 2, 4, 2, 1, bias=False),\n",
        "            nn.BatchNorm2d(ngf * 2),\n",
        "            nn.ReLU(True),\n",
        "            # state size. (ngf*2) x 16 x 16\n",
        "            nn.ConvTranspose2d( ngf * 2, ngf, 4, 2, 1, bias=False),\n",
        "            nn.BatchNorm2d(ngf),\n",
        "            nn.ReLU(True),\n",
        "            # state size. (ngf) x 32 x 32\n",
        "            nn.ConvTranspose2d( ngf, nc, 4, 2, 1, bias=False),\n",
        "            nn.Tanh()\n",
        "            # state size. (nc) x 64 x 64\n",
        "        )\n",
        "\n",
        "    def forward(self, input):\n",
        "        return self.main(input)"
      ],
      "execution_count": null,
      "outputs": []
    },
    {
      "cell_type": "code",
      "metadata": {
        "id": "CEb5BlY5GO4_",
        "colab_type": "code",
        "colab": {}
      },
      "source": [
        "# class Discriminator(nn.Module):\n",
        "\n",
        "#     def __init__(self):\n",
        "#         super(Discriminator, self).__init__()\n",
        "#         self._model = nn.Sequential(\n",
        "#             # input is (nc) x 64 x 64\n",
        "#             nn.Conv2d(nc, ndf * 2, 4, 2, 1, bias=False),\n",
        "#             nn.LeakyReLU(0.2, inplace=True),\n",
        "#             # state size. (ndf*2) x 32 x 32\n",
        "#             nn.Conv2d(ndf * 2, ndf * 4, 4, 2, 1, bias=False),\n",
        "#             nn.BatchNorm2d(ndf * 4),\n",
        "#             nn.LeakyReLU(0.2, inplace=True),\n",
        "#             # state size. (ndf*4) x 16 x 16\n",
        "#             nn.Conv2d(ndf * 4, ndf * 8, 4, 2, 1, bias=False),\n",
        "#             nn.BatchNorm2d(ndf * 8),\n",
        "#             nn.LeakyReLU(0.2, inplace=True),\n",
        "#             # state size. (ndf*8) x 8 x 8\n",
        "#             nn.Conv2d(ndf * 8, ndf * 16, 4, 2, 1, bias=False),\n",
        "#             nn.BatchNorm2d(ndf * 16),\n",
        "#             nn.LeakyReLU(0.2, inplace=True),\n",
        "#             # state size. (ndf*16) x 4 x 4\n",
        "#             nn.Conv2d(ndf * 16, 1, 4, 1, 0, bias=False),\n",
        "#             nn.Sigmoid()\n",
        "#         )\n",
        "\n",
        "#     def forward(self, input):\n",
        "#         return self._model(input)\n",
        "\n",
        "class Discriminator(nn.Module):\n",
        "    def __init__(self):\n",
        "        super(Discriminator, self).__init__()\n",
        "        self.main = nn.Sequential(\n",
        "            # input is (nc) x 64 x 64\n",
        "            nn.Conv2d(nc, ndf, 4, 2, 1, bias=False),\n",
        "            nn.LeakyReLU(0.2, inplace=True),\n",
        "            nn.Dropout(p=0.5),\n",
        "            # state size. (ndf) x 32 x 32\n",
        "            nn.Conv2d(ndf, ndf * 2, 4, 2, 1, bias=False),\n",
        "            nn.BatchNorm2d(ndf * 2),\n",
        "            nn.LeakyReLU(0.2, inplace=True),\n",
        "            # state size. (ndf*2) x 16 x 16\n",
        "            nn.Conv2d(ndf * 2, ndf * 4, 4, 2, 1, bias=False),\n",
        "            nn.BatchNorm2d(ndf * 4),\n",
        "            nn.LeakyReLU(0.2, inplace=True),\n",
        "            nn.Dropout(p=0.5),\n",
        "            # state size. (ndf*4) x 8 x 8\n",
        "            nn.Conv2d(ndf * 4, ndf * 8, 4, 2, 1, bias=False),\n",
        "            nn.BatchNorm2d(ndf * 8),\n",
        "            nn.Dropout(p=0.25),\n",
        "            nn.LeakyReLU(0.2, inplace=True),\n",
        "            # state size. (ndf*8) x 4 x 4\n",
        "            nn.Conv2d(ndf * 8, 1, 4, 1, 0, bias=False),\n",
        "            nn.Sigmoid()\n",
        "        )\n",
        "\n",
        "    def forward(self, input):\n",
        "        return self.main(input)"
      ],
      "execution_count": null,
      "outputs": []
    },
    {
      "cell_type": "code",
      "metadata": {
        "id": "wfQtVNCNGIHt",
        "colab_type": "code",
        "colab": {}
      },
      "source": [
        "def plot_loss(G_losses, D_losses):\n",
        "    plt.figure(figsize=(10,5))\n",
        "    plt.title(\"Generator and Discriminator Loss During Training\")\n",
        "    plt.plot(G_losses,label=\"G\")\n",
        "    plt.plot(D_losses,label=\"D\")\n",
        "    plt.xlabel(\"iterations\")\n",
        "    plt.ylabel(\"Loss\")\n",
        "    plt.legend()\n",
        "    plt.show()"
      ],
      "execution_count": null,
      "outputs": []
    },
    {
      "cell_type": "code",
      "metadata": {
        "id": "YVLWLMetCrGe",
        "colab_type": "code",
        "colab": {}
      },
      "source": [
        "def plot(name, train_epoch, values, path, save):\n",
        "    clear_output(wait=True)\n",
        "    plt.close('all')\n",
        "    fig = plt.figure()\n",
        "    fig = plt.ion()\n",
        "    fig = plt.subplot(1, 1, 1)\n",
        "    fig = plt.title('epoch: %s -> %s: %s' % (train_epoch, name, values[-1]))\n",
        "    fig = plt.ylabel(name)\n",
        "    fig = plt.xlabel('train_set')\n",
        "    fig = plt.plot(values)\n",
        "    fig = plt.grid()\n",
        "    get_fig = plt.gcf()\n",
        "    fig = plt.draw()  # draw the plot\n",
        "    fig = plt.pause(1)  # show it for 1 second\n",
        "    if save:\n",
        "        now = datetime.datetime.now()\n",
        "        get_fig.savefig('%s/%s_%.3f_%d_%s.png' %\n",
        "                        (path, name, train_epoch, values[-1], now.strftime(\"%Y-%m-%d_%H:%M:%S\")))"
      ],
      "execution_count": null,
      "outputs": []
    },
    {
      "cell_type": "code",
      "metadata": {
        "id": "zHGbk-t3imrL",
        "colab_type": "code",
        "colab": {}
      },
      "source": [
        "def save_model(generator, discriminator, gen_optimizer, dis_optimizer, metrics, num_epochs):\n",
        "    now = datetime.datetime.now()\n",
        "    g_losses = metrics['train.G_losses'][-1]\n",
        "    d_losses = metrics['train.D_losses'][-1]\n",
        "    name = \"%+.3f_%+.3f_%d_%s.dat\" % (g_losses, d_losses, num_epochs, now.strftime(\"%Y-%m-%d_%H:%M:%S\"))\n",
        "    fname = os.path.join('.', 'augGAN/model', name)\n",
        "    states = {\n",
        "            'state_dict_generator': generator.state_dict(),\n",
        "            'state_dict_discriminator': discriminator.state_dict(),\n",
        "            'gen_optimizer': gen_optimizer.state_dict(),\n",
        "            'dis_optimizer': dis_optimizer.state_dict(),\n",
        "            'metrics': metrics,\n",
        "            'train_epoch': num_epochs,\n",
        "            'date': now.strftime(\"%Y-%m-%d_%H:%M:%S\"),\n",
        "    }\n",
        "    torch.save(states, fname)\n",
        "    path='augGAN/plots/train_%+.3f_%+.3f_%s'% (g_losses, d_losses, now.strftime(\"%Y-%m-%d_%H:%M:%S\"))\n",
        "    try:\n",
        "      os.mkdir(os.path.join('.', path))\n",
        "    except Exception as error:\n",
        "      print(error)\n",
        "\n",
        "    plot('G_losses', num_epochs, metrics['train.G_losses'], path, True)\n",
        "    plot('D_losses', num_epochs, metrics['train.D_losses'], path, True)\n",
        "    plot('D_x', num_epochs, metrics['train.D_x'], path, True)\n",
        "    plot('D_G_z1', num_epochs, metrics['train.D_G_z1'], path, True)\n",
        "    plot('D_G_z2', num_epochs, metrics['train.D_G_z2'], path, True)"
      ],
      "execution_count": null,
      "outputs": []
    },
    {
      "cell_type": "code",
      "metadata": {
        "id": "irfnnmoYSL1k",
        "colab_type": "code",
        "colab": {}
      },
      "source": [
        "# def display_real_fake(loader, img_list):\n",
        "#     real_batch = next(iter(loader))\n",
        "\n",
        "#     # Plot the real images\n",
        "#     plt.figure(figsize=(15,15))\n",
        "#     plt.subplot(1,2,1)\n",
        "#     plt.axis(\"off\")\n",
        "#     plt.title(\"Real Images\")\n",
        "#     plt.imshow(np.transpose(vutils.make_grid(real_batch[0].to(device)[:64], padding=5, normalize=True).cpu(),(1,2,0)))\n",
        "\n",
        "#     # Plot the fake images from the last epoch\n",
        "#     plt.subplot(1,2,2)\n",
        "#     plt.axis(\"off\")\n",
        "#     plt.title(\"Fake Images\")\n",
        "#     plt.imshow(np.transpose(img_list[-1],(1,2,0)))\n",
        "#     plt.show()"
      ],
      "execution_count": null,
      "outputs": []
    },
    {
      "cell_type": "code",
      "metadata": {
        "id": "xn5d4tccMIyL",
        "colab_type": "code",
        "colab": {}
      },
      "source": [
        "img_list = []\n",
        "G_losses = []\n",
        "D_losses = []\n",
        "\n",
        "def train_gan(generator, discriminator, gen_optimizer, dis_optimizer, train_loader, num_epochs, metrics):\n",
        "        iters = 0\n",
        "        print(\"GAN training started :D...\")\n",
        "\n",
        "        for epoch in range(num_epochs):\n",
        "            print(\"Epoch %d\" %(epoch+1))\n",
        "            # For each batch in the dataloader\n",
        "            for i, data in enumerate(tqdm(train_loader, 0)):\n",
        "                # (1) Update D network: maximize log(D(x)) + log(1 - D(G(z)))\n",
        "                ## Train with all-real batch\n",
        "                discriminator.zero_grad()\n",
        "                # Format batch\n",
        "                b_real = data[0].to(device)\n",
        "                b_size = b_real.size(0)\n",
        "                label = torch.full((b_size,), real_label, device=device)\n",
        "                # Forward pass real batch through D\n",
        "                output = discriminator(b_real).view(-1)\n",
        "                # Calculate loss on all-real batch\n",
        "                errD_real = criterion(output, label)\n",
        "                # Calculate gradients for D in backward pass\n",
        "                errD_real.backward()\n",
        "                D_x = output.mean().item()\n",
        "                metrics['train.D_x'].append(D_x)\n",
        "\n",
        "                ## Train with all-fake batch\n",
        "                # Generate batch of latent vectors\n",
        "                noise = torch.randn(b_size, nz, 1, 1, device=device)\n",
        "                # Generate fake image batch with G\n",
        "                fake = generator(noise)\n",
        "                label.fill_(fake_label)\n",
        "                # Classify all fake batch with D\n",
        "                output = discriminator(fake.detach()).view(-1)\n",
        "                # Calculate D's loss on the all-fake batch\n",
        "                errD_fake = criterion(output, label)\n",
        "                # Calculate the gradients for this batch\n",
        "                errD_fake.backward()\n",
        "                D_G_z1 = output.mean().item()\n",
        "                metrics['train.D_G_z1'].append(D_G_z1)\n",
        "                # Add the gradients from the all-real and all-fake batches\n",
        "                errD = errD_real + errD_fake\n",
        "                # Update D\n",
        "                dis_optimizer.step()\n",
        "                # if i>0:\n",
        "                #     if errD.item()>G_losses[i-1]:\n",
        "                #         dis_optimizer.step()\n",
        "                # else:\n",
        "                #     dis_optimizer.step()\n",
        "\n",
        "                # (2) Update G network: maximize log(D(G(z)))\n",
        "                generator.zero_grad()\n",
        "                label.fill_(real_label)  # fake labels are real for generator cost\n",
        "                # Since we just updated D, perform another forward pass of all-fake batch through D\n",
        "                output = discriminator(fake).view(-1)\n",
        "                # Calculate G's loss based on this output\n",
        "                errG = criterion(output, label)\n",
        "                # Calculate gradients for G\n",
        "                errG.backward()\n",
        "                D_G_z2 = output.mean().item()\n",
        "                metrics['train.D_G_z2'].append(D_G_z2)\n",
        "                # Update G\n",
        "                gen_optimizer.step()\n",
        "\n",
        "                # Output training stats\n",
        "                #if i % 50 == 0:\n",
        "                #print('[%d/%d][%d/%d]\\tLoss_D: %.4f\\tLoss_G: %.4f\\tD(x): %.4f\\tD(G(z)): %.4f / %.4f'\n",
        "                #      % (epoch, num_epochs, i, len(train_loader),\n",
        "                #          errD.item(), errG.item(), D_x, D_G_z1, D_G_z2))\n",
        "\n",
        "                # Save Losses for plotting later\n",
        "                G_losses.append(errG.item())\n",
        "                D_losses.append(errD.item())\n",
        "                metrics['train.G_losses'].append(errG.item())\n",
        "                metrics['train.D_losses'].append(errD.item())\n",
        "\n",
        "                # Check how the generator is doing by saving G's output on fixed_noise\n",
        "                if (iters % 500 == 0) or ((epoch == num_epochs-1) and (i == len(train_loader)-1)):\n",
        "                    with torch.no_grad():\n",
        "                        fake = generator(fixed_noise).detach().cpu()\n",
        "                    img_list.append(vutils.make_grid(fake, padding=2, normalize=True))\n",
        "\n",
        "                iters += 1\n",
        "            print('[%d/%d][%d/%d]\\tLoss_D: %.4f\\tLoss_G: %.4f\\tD(x): %.4f\\tD(G(z)): %.4f / %.4f'\n",
        "                  % (epoch+1, num_epochs, i, len(train_loader),\n",
        "                    errD.item(), errG.item(), D_x, D_G_z1, D_G_z2))\n",
        "        #plot_loss(G_losses, D_losses)\n",
        "        save_model(generator, discriminator, gen_optimizer, dis_optimizer, metrics, num_epochs)\n",
        "        #display_real_fake(train_loader, img_list)"
      ],
      "execution_count": null,
      "outputs": []
    },
    {
      "cell_type": "code",
      "metadata": {
        "id": "gPHMkQQKJItb",
        "colab_type": "code",
        "colab": {}
      },
      "source": [
        "def get_indices(dataset, class_name, indices):\n",
        "    #indices =  []\n",
        "    j = 0\n",
        "    #for i in range(len(dataset.labels)): #for stl10\n",
        "    for i in range(len(dataset.targets)):\n",
        "        #if dataset.labels[i] == class_name: #for stl10\n",
        "        if dataset.targets[i] == class_name:\n",
        "            indices.append(i)\n",
        "            j += 1\n",
        "    print(\"Total Samples of class\", class_name,\"found are\",j)\n",
        "    return indices"
      ],
      "execution_count": null,
      "outputs": []
    },
    {
      "cell_type": "code",
      "metadata": {
        "id": "ekCtxRmkLl5R",
        "colab_type": "code",
        "colab": {}
      },
      "source": [
        "def test1(generator, discriminator, num_epochs, metrics):\n",
        "    print('Testing Block.........')\n",
        "    now = datetime.datetime.now()\n",
        "    g_losses = metrics['train.G_losses'][-1]\n",
        "    d_losses = metrics['train.D_losses'][-1]\n",
        "    path='augGAN/output_images'\n",
        "    try:\n",
        "      os.mkdir(os.path.join('.', path))\n",
        "    except Exception as error:\n",
        "      print(error)\n",
        "\n",
        "    test_img_list = []\n",
        "    test_noise = torch.randn(batch_size, nz, 1, 1, device=device)\n",
        "    test_fake = generator(test_noise).detach().cpu()\n",
        "    test_img_list.append(vutils.make_grid(test_fake, padding=2, normalize=True))\n",
        "    fig = plt.figure(figsize=(15,15))\n",
        "    fig = plt.axis(\"off\")\n",
        "    fig = plt.title(\"Fake Images\")\n",
        "    fig = plt.imshow(np.transpose(test_img_list[-1],(1,2,0)))\n",
        "    get_fig = plt.gcf()\n",
        "    fig = plt.show()\n",
        "    get_fig.savefig('%s/image_%.3f_%.3f_%d_%s.png' %\n",
        "                    (path, g_losses, d_losses, num_epochs, now.strftime(\"%Y-%m-%d_%H:%M:%S\")))"
      ],
      "execution_count": null,
      "outputs": []
    },
    {
      "cell_type": "code",
      "metadata": {
        "id": "sjQZEYmqSRyn",
        "colab_type": "code",
        "colab": {}
      },
      "source": [
        "def test2(generator, discriminator, num_epochs, metrics, loader):\n",
        "    print('Testing Block.........')\n",
        "    now = datetime.datetime.now()\n",
        "    g_losses = metrics['train.G_losses'][-1]\n",
        "    d_losses = metrics['train.D_losses'][-1]\n",
        "    path='augGAN/output_images'\n",
        "    try:\n",
        "      os.mkdir(os.path.join('.', path))\n",
        "    except Exception as error:\n",
        "      print(error)\n",
        "\n",
        "    real_batch = next(iter(loader))\n",
        "    \n",
        "    test_img_list = []\n",
        "    test_noise = torch.randn(batch_size, nz, 1, 1, device=device)\n",
        "    test_fake = generator(test_noise).detach().cpu()\n",
        "    test_img_list.append(vutils.make_grid(test_fake, padding=2, normalize=True))\n",
        "\n",
        "    fig = plt.figure(figsize=(15,15))\n",
        "    ax1 = plt.subplot(1,2,1)\n",
        "    ax1 = plt.axis(\"off\")\n",
        "    ax1 = plt.title(\"Real Images\")\n",
        "    ax1 = plt.imshow(np.transpose(vutils.make_grid(real_batch[0].to(device)[:64], padding=5, normalize=True).cpu(),(1,2,0)))\n",
        "\n",
        "    ax2 = plt.subplot(1,2,2)\n",
        "    ax2 = plt.axis(\"off\")\n",
        "    ax2 = plt.title(\"Fake Images\")\n",
        "    ax2 = plt.imshow(np.transpose(test_img_list[-1],(1,2,0)))\n",
        "    #ax2 = plt.show()\n",
        "    fig.savefig('%s/image_%.3f_%.3f_%d_%s.png' %\n",
        "                    (path, g_losses, d_losses, num_epochs, now.strftime(\"%Y-%m-%d_%H:%M:%S\")))"
      ],
      "execution_count": null,
      "outputs": []
    },
    {
      "cell_type": "code",
      "metadata": {
        "id": "ncRL2jjtN-Ns",
        "colab_type": "code",
        "colab": {}
      },
      "source": [
        "def test_fake(generator, discriminator, metrics, n_images, folname):\n",
        "    now = datetime.datetime.now()\n",
        "    g_losses = metrics['train.G_losses'][-1]\n",
        "    d_losses = metrics['train.D_losses'][-1]\n",
        "    #path='augGAN/output_images/%+.3f_%+.3f_%d_%s'% (g_losses, d_losses, n_images, now.strftime(\"%Y-%m-%d_%H:%M:%S\"))\n",
        "    path='main_folder/'+str(n_images)+'/'+folname\n",
        "    try:\n",
        "      os.mkdir(os.path.join('.', path))\n",
        "    except Exception as error:\n",
        "      print(error)\n",
        "\n",
        "    im_batch_size = 50\n",
        "    #n_images=100\n",
        "    for i_batch in range(0, n_images, im_batch_size):\n",
        "        gen_z = torch.randn(im_batch_size, 100, 1, 1, device=device)\n",
        "        gen_images = generator(gen_z)\n",
        "        dis_result = discriminator(gen_images).view(-1)\n",
        "        images = gen_images.to(\"cpu\").clone().detach()\n",
        "        images = images.numpy().transpose(0, 2, 3, 1)\n",
        "        for i_image in range(gen_images.size(0)):\n",
        "            save_image(gen_images[i_image, :, :, :], os.path.join(path, \n",
        "                        f'image_{i_batch+i_image:04d}.png'), normalize= True)\n",
        "\n",
        "    print('Testing Block.........')\n",
        "    print('Discriminator_mean: ', dis_result.mean().item())\n",
        "    #import shutil\n",
        "    #shutil.make_archive('images', 'zip', './augGAN/output_images')"
      ],
      "execution_count": null,
      "outputs": []
    },
    {
      "cell_type": "code",
      "metadata": {
        "id": "6xEk6Ur_bODa",
        "colab_type": "code",
        "colab": {}
      },
      "source": [
        "from torch.utils.data import Dataset\n",
        "class my_subset(Dataset):\n",
        "    r\"\"\"\n",
        "    Subset of a dataset at specified indices.\n",
        "\n",
        "    Arguments:\n",
        "        dataset (Dataset): The whole Dataset\n",
        "        indices (sequence): Indices in the whole set selected for subset\n",
        "        labels(sequence) : targets as required for the indices. will be the same length as indices\n",
        "    \"\"\"\n",
        "    def __init__(self, dataset, indices,labels):\n",
        "        self.dataset = dataset\n",
        "        self.indices = indices\n",
        "        labels_hold = torch.ones(len(dataset)).type(torch.long) *300 #( some number not present in the #labels just to make sure\n",
        "        labels_hold[self.indices] = labels \n",
        "        self.labels = labels_hold\n",
        "    def __getitem__(self, idx):\n",
        "        image = self.dataset[self.indices[idx]][0]\n",
        "        label = self.labels[self.indices[idx]]\n",
        "        return (image, label)\n",
        "\n",
        "    def __len__(self):\n",
        "        return len(self.indices)"
      ],
      "execution_count": null,
      "outputs": []
    },
    {
      "cell_type": "code",
      "metadata": {
        "id": "LWeXmdInu38z",
        "colab_type": "code",
        "colab": {
          "base_uri": "https://localhost:8080/",
          "height": 1000
        },
        "outputId": "67931a1e-780f-427d-b963-43b0b461417c"
      },
      "source": [
        "for func in [\n",
        "    lambda: os.mkdir(os.path.join('.', 'augGAN')),\n",
        "    lambda: os.mkdir(os.path.join('.', 'augGAN/model')),\n",
        "    lambda: os.mkdir(os.path.join('.', 'augGAN/plots')),\n",
        "    lambda: os.mkdir(os.path.join('.', 'augGAN/output_images'))]:  # create directories\n",
        "  try:\n",
        "    func()\n",
        "  except Exception as error:\n",
        "    print(error)\n",
        "    continue\n",
        "\n",
        "METRIC_FIELDS = [\n",
        "    'train.D_x',\n",
        "    'train.D_G_z1',\n",
        "    'train.D_G_z2',\n",
        "    'train.G_losses',\n",
        "    'train.D_losses',\n",
        "]\n",
        "metrics = {field: list() for field in METRIC_FIELDS}\n",
        "###Trial Starts###\n",
        "\n",
        "# img_dim=64\n",
        "# N_rot=2\n",
        "# N_flip=2\n",
        "# N_tran=2\n",
        "# N_scal=2\n",
        "# N_color=2\n",
        "# transform_list=[]\n",
        "\n",
        "# transform_list.append(transforms.Resize((img_dim*2,img_dim*2),interpolation=2))\n",
        "# transform_list.append(transforms.Grayscale(num_output_channels=1))\n",
        "# for i in range(N_color):\n",
        "#   transform_list.append(transforms.RandomApply([transforms.ColorJitter(brightness=0.5, contrast=0.5, saturation=0.5, hue=0.5)],p=0.5))\n",
        "# for i in range(N_rot):\n",
        "#   transform_list.append(transforms.RandomApply(selected_loader[transforms.RandomRotation(degrees=(-5,5))], p=0.5))\n",
        "# for i in range(N_flip):\n",
        "#   transform_list.append(transforms.RandomHorizontalFlip(p=0.5))\n",
        "# # for i in range(N_flip):\n",
        "# #   transform_list.append(transforms.RandomVerticalFlip(p=0.5))\n",
        "# for i in range(N_scal):\n",
        "#   transform_list.append(transforms.RandomApply([transforms.RandomAffine(degrees=0,scale=(0.9,1.1))], p=0.5))\n",
        "# for i in range(N_tran):\n",
        "#   transform_list.append(transforms.RandomApply([transforms.RandomAffine(degrees=0,translate=(0.1,0.1))], p=0.5))\n",
        "\n",
        "# transform_list.append(transforms.Resize((img_dim,img_dim),interpolation=2))\n",
        "\n",
        "# transform_list.append(transforms.ToTensor())\n",
        "\n",
        "# transform_list.append(transforms.Normalize((0.5), (0.5)))\n",
        "\n",
        "# transform = transforms.Compose(transform_list)\n",
        "\n",
        "# test_transform = transforms.Compose([transforms.Resize((img_dim,img_dim),interpolation=2),\n",
        "#                                     transforms.ToTensor(),\n",
        "#                                     #transforms.Normalize((0.5, 0.5, 0.5), (0.5, 0.5, 0.5))\n",
        "#                                     ])\n",
        "###Trial Ends###\n",
        "\n",
        "if nc==1:\n",
        "    mu = (0.5)\n",
        "    sigma = (0.5)\n",
        "    transform = transforms.Compose([#transforms.RandomHorizontalFlip(),\n",
        "                                    #transforms.RandomApply([\n",
        "                                    #transforms.ColorJitter(brightness=0, \n",
        "                                    #contrast=0, saturation=0, hue=0)],p=0.5),\n",
        "                                    transforms.Grayscale(num_output_channels=1),\n",
        "                                    transforms.Resize((64,64)),\n",
        "                                    transforms.ToTensor(),\n",
        "                                    transforms.Normalize(mu, sigma)])\n",
        "elif nc==3:\n",
        "    mu = (0.5,0.5,0.5)\n",
        "    sigma = (0.5,0.5,0.5)\n",
        "    #Originally authors used just scaling\n",
        "    transform = transforms.Compose([#transforms.RandomHorizontalFlip(),\n",
        "                                    transforms.Resize((64,64)),\n",
        "                                    transforms.ToTensor(),\n",
        "                                    transforms.Normalize(mu, sigma)])\n",
        "else:\n",
        "    print(\"Tranformation not defined for this option\")\n",
        "\n",
        "# data_dir = 'custom_covid_dataset/classic_augment/4_classes'\n",
        "# data_dir_new_new = 'custom_covid_dataset/classic_augment_3/4_classes'\n",
        "# trainset0 = datasets.ImageFolder(os.path.join(\n",
        "#           data_dir, \"0/\"), transform=transform)\n",
        "# trainset500 = datasets.ImageFolder(os.path.join(\n",
        "#           data_dir_new_new, \"500/\"), transform=transform)\n",
        "# trainset1000 = datasets.ImageFolder(os.path.join(\n",
        "#           data_dir_new_new, \"1000/\"), transform=transform)\n",
        "# trainset2000 = datasets.ImageFolder(os.path.join(\n",
        "#           data_dir_new_new, \"2000/\"), transform=transform)\n",
        "# listtrainset_no_aug = [trainset0]\n",
        "# listtrainset_classic = [trainset500,trainset1000,trainset2000]\n",
        "# listtrainset = listtrainset_no_aug + listtrainset_classic\n",
        "# train_set = torch.utils.data.ConcatDataset(listtrainset)\n",
        "\n",
        "train_set = datasets.ImageFolder(os.path.join(data_dir, \"train/\"), transform=transform)\n",
        "\n",
        "#train_set = datasets.STL10(root='./data', split='train', download=True,\n",
        "#                                transform=transform)\n",
        "#train_loader = torch.utils.data.DataLoader(\n",
        "#      train_set, batch_size=batch_size, shuffle=True)\n",
        "#valid_set = datasets.ImageFolder(os.path.join( \n",
        "#      data_dir, \"val/\"), transform=transform)\n",
        "#valid_set = datasets.STL10(root='./data', split='test', download=True,\n",
        "#                                transform=transform)\n",
        "#valid_loader = torch.utils.data.DataLoader(\n",
        "#      valid_set, batch_size=batch_size, shuffle=False)\n",
        "\n",
        "generator = Generator().to(device)\n",
        "discriminator = Discriminator().to(device)\n",
        "generator.apply(weights_init)\n",
        "discriminator.apply(weights_init)\n",
        "gen_optimizer = optim.Adam(generator.parameters(), lr=lr, betas=(beta1, beta2))\n",
        "dis_optimizer = optim.Adam(discriminator.parameters(), lr=lr_d, betas=(beta1, beta2))\n",
        "\n",
        "if LOAD_MODEL:\n",
        "    if torch.cuda.is_available():\n",
        "      checkpoint = torch.load(PATH)\n",
        "    else:\n",
        "      checkpoint = torch.load(PATH, map_location=lambda storage, loc: storage)\n",
        "              \n",
        "    generator.load_state_dict(checkpoint['state_dict_generator'])\n",
        "    discriminator.load_state_dict(checkpoint['state_dict_discriminator'])\n",
        "    gen_optimizer.load_state_dict(checkpoint['gen_optimizer'])\n",
        "    dis_optimizer.load_state_dict(checkpoint['dis_optimizer'])\n",
        "    metrics=checkpoint['metrics']\n",
        "    num_epochs=checkpoint['train_epoch']\n",
        "    date=checkpoint['date']\n",
        "    generator.train(mode=False)\n",
        "    discriminator.train(mode=False)\n",
        "    print('GAN loaded for epochs: ', num_epochs)\n",
        "    print(generator)\n",
        "    print(discriminator)\n",
        "    print(gen_optimizer)\n",
        "    print(dis_optimizer)\n",
        "    print(date)\n",
        "    #test1(generator, discriminator, num_epochs, metrics)\n",
        "else:\n",
        "    if TRAIN_ALL:\n",
        "        train_loader = torch.utils.data.DataLoader(train_set, batch_size=batch_size,\n",
        "                                                  shuffle=True)\n",
        "        train_gan(generator, discriminator, gen_optimizer, dis_optimizer, train_loader,\n",
        "                  num_epochs, metrics)\n",
        "        test2(generator, discriminator, num_epochs, metrics, train_loader)\n",
        "    else:\n",
        "        idx = []\n",
        "        #idx = get_indices(train_set, 4, idx) #Airplane for stl10; covid for x-ray dataset\n",
        "        #idx = my_subset(train_set, [0,4000], 5)\n",
        "        #idx_2 = get_indices(train_set, 8, idx) #Ship\n",
        "        #idx_3 = get_indices(train_set, 9, idx) #Truck\n",
        " \n",
        "        train_loader = torch.utils.data.DataLoader(train_set, batch_size=batch_size,\n",
        "                                                  shuffle=True)\n",
        "        mask =[x[1]==0 for x in train_loader.dataset]\n",
        "        indices= np.arange(len(train_loader.dataset))[mask]\n",
        "        #idx = [x[1]==0 for x in train_loader.dataset]\n",
        "        print(\"Total samples now are \",len(indices))\n",
        "        selected_loader = torch.utils.data.DataLoader(train_set, batch_size=batch_size,\n",
        "                                                      sampler = SubsetRandomSampler(indices))\n",
        "        train_gan(generator, discriminator, gen_optimizer, dis_optimizer, selected_loader,\n",
        "                  num_epochs, metrics)\n",
        "        test2(generator, discriminator, num_epochs, metrics, selected_loader)\n",
        "        test1(generator, discriminator, num_epochs, metrics)"
      ],
      "execution_count": null,
      "outputs": [
        {
          "output_type": "stream",
          "text": [
            "[Errno 17] File exists: './augGAN'\n",
            "[Errno 17] File exists: './augGAN/model'\n",
            "[Errno 17] File exists: './augGAN/plots'\n",
            "[Errno 17] File exists: './augGAN/output_images'\n",
            "GAN loaded for epochs:  200\n",
            "Generator(\n",
            "  (main): Sequential(\n",
            "    (0): ConvTranspose2d(100, 512, kernel_size=(4, 4), stride=(1, 1), bias=False)\n",
            "    (1): BatchNorm2d(512, eps=1e-05, momentum=0.1, affine=True, track_running_stats=True)\n",
            "    (2): ReLU(inplace=True)\n",
            "    (3): ConvTranspose2d(512, 256, kernel_size=(4, 4), stride=(2, 2), padding=(1, 1), bias=False)\n",
            "    (4): BatchNorm2d(256, eps=1e-05, momentum=0.1, affine=True, track_running_stats=True)\n",
            "    (5): ReLU(inplace=True)\n",
            "    (6): ConvTranspose2d(256, 128, kernel_size=(4, 4), stride=(2, 2), padding=(1, 1), bias=False)\n",
            "    (7): BatchNorm2d(128, eps=1e-05, momentum=0.1, affine=True, track_running_stats=True)\n",
            "    (8): ReLU(inplace=True)\n",
            "    (9): ConvTranspose2d(128, 64, kernel_size=(4, 4), stride=(2, 2), padding=(1, 1), bias=False)\n",
            "    (10): BatchNorm2d(64, eps=1e-05, momentum=0.1, affine=True, track_running_stats=True)\n",
            "    (11): ReLU(inplace=True)\n",
            "    (12): ConvTranspose2d(64, 3, kernel_size=(4, 4), stride=(2, 2), padding=(1, 1), bias=False)\n",
            "    (13): Tanh()\n",
            "  )\n",
            ")\n",
            "Discriminator(\n",
            "  (main): Sequential(\n",
            "    (0): Conv2d(3, 64, kernel_size=(4, 4), stride=(2, 2), padding=(1, 1), bias=False)\n",
            "    (1): LeakyReLU(negative_slope=0.2, inplace=True)\n",
            "    (2): Dropout(p=0.5, inplace=False)\n",
            "    (3): Conv2d(64, 128, kernel_size=(4, 4), stride=(2, 2), padding=(1, 1), bias=False)\n",
            "    (4): BatchNorm2d(128, eps=1e-05, momentum=0.1, affine=True, track_running_stats=True)\n",
            "    (5): LeakyReLU(negative_slope=0.2, inplace=True)\n",
            "    (6): Conv2d(128, 256, kernel_size=(4, 4), stride=(2, 2), padding=(1, 1), bias=False)\n",
            "    (7): BatchNorm2d(256, eps=1e-05, momentum=0.1, affine=True, track_running_stats=True)\n",
            "    (8): LeakyReLU(negative_slope=0.2, inplace=True)\n",
            "    (9): Dropout(p=0.5, inplace=False)\n",
            "    (10): Conv2d(256, 512, kernel_size=(4, 4), stride=(2, 2), padding=(1, 1), bias=False)\n",
            "    (11): BatchNorm2d(512, eps=1e-05, momentum=0.1, affine=True, track_running_stats=True)\n",
            "    (12): Dropout(p=0.25, inplace=False)\n",
            "    (13): LeakyReLU(negative_slope=0.2, inplace=True)\n",
            "    (14): Conv2d(512, 1, kernel_size=(4, 4), stride=(1, 1), bias=False)\n",
            "    (15): Sigmoid()\n",
            "  )\n",
            ")\n",
            "Adam (\n",
            "Parameter Group 0\n",
            "    amsgrad: False\n",
            "    betas: (0.5, 0.999)\n",
            "    eps: 1e-08\n",
            "    lr: 0.002\n",
            "    weight_decay: 0\n",
            ")\n",
            "Adam (\n",
            "Parameter Group 0\n",
            "    amsgrad: False\n",
            "    betas: (0.5, 0.999)\n",
            "    eps: 1e-08\n",
            "    lr: 0.0002\n",
            "    weight_decay: 0\n",
            ")\n",
            "2020-08-23_14:18:41\n"
          ],
          "name": "stdout"
        }
      ]
    },
    {
      "cell_type": "code",
      "metadata": {
        "id": "qaviyM6yoZXu",
        "colab_type": "code",
        "colab": {
          "base_uri": "https://localhost:8080/",
          "height": 68
        },
        "outputId": "f598e09f-346f-4e71-e3be-5e1289a8164b"
      },
      "source": [
        "#print(len(selected_loader.dataset))\n",
        "#print(idx)\n",
        "print(indices)"
      ],
      "execution_count": null,
      "outputs": [
        {
          "output_type": "stream",
          "text": [
            "[ 0  1  2  3  4  5  6  7  8  9 10 11 12 13 14 15 16 17 18 19 20 21 22 23\n",
            " 24 25 26 27 28 29 30 31 32 33 34 35 36 37 38 39 40 41 42 43 44 45 46 47\n",
            " 48 49 50 51 52 53 54 55 56 57 58 59]\n"
          ],
          "name": "stdout"
        }
      ]
    },
    {
      "cell_type": "code",
      "metadata": {
        "id": "A1Zz7NErSjEG",
        "colab_type": "code",
        "colab": {
          "base_uri": "https://localhost:8080/",
          "height": 316
        },
        "outputId": "5044b9ed-2c23-4fd8-9fa1-6f495beb3f17"
      },
      "source": [
        "test_batch = 1\n",
        "test_fake_id = 0\n",
        "LOAD_ID = 0\n",
        "\n",
        "if test_fake_id:\n",
        "  #check for fake image\n",
        "  test_img_list = []\n",
        "  test_noise = torch.randn(test_batch, nz, 1, 1, device=device)\n",
        "  test_img = generator(test_noise)#.detach().cpu()\n",
        "\n",
        "else:\n",
        "  #check for real image\n",
        "  idx = []\n",
        "  #train_set = datasets.ImageFolder(\"main_folder/100/\", transform=transform)\n",
        "  idx = get_indices(train_set, LOAD_ID, idx) #Airplane for stl10; covid for x-ray dataset\n",
        "  test_loader = torch.utils.data.DataLoader(train_set, batch_size=test_batch,\n",
        "                                                sampler = SubsetRandomSampler(idx))\n",
        "  data = next(iter(test_loader))\n",
        "  test_noise, test_class_lable = data\n",
        "  test_img.data.resize_(test_noise.size()).copy_(test_noise)\n",
        "  #print(data[0].size())\n",
        "  print('class label for real', test_class_lable)\n",
        "\n",
        "s_output = discriminator(test_img.detach().to(device))\n",
        "print('Discriminator s o/p', s_output)\n",
        "\n",
        "# label = np.random.randint(0, nb_label, batch_size)\n",
        "# c_label.data.resize_(batch_size).copy_(torch.from_numpy(label))\n",
        "# print(c_label)\n",
        "\n",
        "test_img = test_img.detach().cpu()\n",
        "test_img_list.append(vutils.make_grid(test_img, padding=2, normalize=True))\n",
        "plt.axis('off')\n",
        "plt.imshow(np.transpose(test_img_list[-1],(1,2,0)))"
      ],
      "execution_count": null,
      "outputs": [
        {
          "output_type": "stream",
          "text": [
            "Total Samples of class 0 found are 60\n",
            "class label for real tensor([0])\n",
            "Discriminator s o/p tensor([[[[0.4945]]]], device='cuda:0', grad_fn=<SigmoidBackward>)\n"
          ],
          "name": "stdout"
        },
        {
          "output_type": "execute_result",
          "data": {
            "text/plain": [
              "<matplotlib.image.AxesImage at 0x7f6058916b00>"
            ]
          },
          "metadata": {
            "tags": []
          },
          "execution_count": 27
        },
        {
          "output_type": "display_data",
          "data": {
            "image/png": "[encoded data removed]",
            "text/plain": [
              "<Figure size 432x288 with 1 Axes>"
            ]
          },
          "metadata": {
            "tags": [],
            "needs_background": "light"
          }
        }
      ]
    },
    {
      "cell_type": "code",
      "metadata": {
        "id": "Cpf-AsWkqzZf",
        "colab_type": "code",
        "colab": {
          "base_uri": "https://localhost:8080/",
          "height": 51
        },
        "outputId": "df8ffdac-678a-42f9-b83f-cf06a500deed"
      },
      "source": [
        "test_fake(generator, discriminator, metrics, 500, \"normal\")"
      ],
      "execution_count": null,
      "outputs": [
        {
          "output_type": "stream",
          "text": [
            "Testing Block.........\n",
            "Discriminator_mean:  0.5166683793067932\n"
          ],
          "name": "stdout"
        }
      ]
    },
    {
      "cell_type": "code",
      "metadata": {
        "id": "r_RDk-5_izjj",
        "colab_type": "code",
        "colab": {
          "base_uri": "https://localhost:8080/",
          "height": 34
        },
        "outputId": "671b61ee-3715-40ad-e821-c06b8a89ce00"
      },
      "source": [
        "path, dirs, files = next(os.walk(os.path.join(data_dir, \"train/pneumonia_vir\")))\n",
        "print(len(files))"
      ],
      "execution_count": null,
      "outputs": [
        {
          "output_type": "stream",
          "text": [
            "71\n"
          ],
          "name": "stdout"
        }
      ]
    },
    {
      "cell_type": "code",
      "metadata": {
        "id": "q344N4S4IqRp",
        "colab_type": "code",
        "colab": {
          "base_uri": "https://localhost:8080/",
          "height": 35
        },
        "outputId": "6e8c56dc-1dfb-4189-8567-3c3fef9c1761"
      },
      "source": [
        "import os  \n",
        "import shutil \n",
        "\n",
        "shutil.copytree('main_folder', 'main_Dopt')"
      ],
      "execution_count": null,
      "outputs": [
        {
          "output_type": "execute_result",
          "data": {
            "application/vnd.google.colaboratory.intrinsic+json": {
              "type": "string"
            },
            "text/plain": [
              "'main_Dopt'"
            ]
          },
          "metadata": {
            "tags": []
          },
          "execution_count": 93
        }
      ]
    },
    {
      "cell_type": "code",
      "metadata": {
        "id": "bnlcbSwSAAp6",
        "colab_type": "code",
        "colab": {}
      },
      "source": [
        "}# generator = Generator().to(device)\n",
        "# discriminator = Discriminator().to(device)"
      ],
      "execution_count": null,
      "outputs": []
    },
    {
      "cell_type": "code",
      "metadata": {
        "id": "8la1EFeB3zRF",
        "colab_type": "code",
        "colab": {
          "base_uri": "https://localhost:8080/",
          "height": 1000
        },
        "outputId": "c864d9ed-c889-4244-a5c4-db51946ca646"
      },
      "source": [
        "from torchsummary import summary\n",
        "\n",
        "summary(generator, (100, 1, 1))\n",
        "summary(discriminator, (1, 64, 64))"
      ],
      "execution_count": null,
      "outputs": [
        {
          "output_type": "stream",
          "text": [
            "==========================================================================================\n",
            "Layer (type:depth-idx)                   Output Shape              Param #\n",
            "==========================================================================================\n",
            "├─Sequential: 1-1                        [-1, 1, 64, 64]           --\n",
            "|    └─ConvTranspose2d: 2-1              [-1, 512, 4, 4]           819,200\n",
            "|    └─BatchNorm2d: 2-2                  [-1, 512, 4, 4]           1,024\n",
            "|    └─ReLU: 2-3                         [-1, 512, 4, 4]           --\n",
            "|    └─ConvTranspose2d: 2-4              [-1, 256, 8, 8]           2,097,152\n",
            "|    └─BatchNorm2d: 2-5                  [-1, 256, 8, 8]           512\n",
            "|    └─ReLU: 2-6                         [-1, 256, 8, 8]           --\n",
            "|    └─ConvTranspose2d: 2-7              [-1, 128, 16, 16]         524,288\n",
            "|    └─BatchNorm2d: 2-8                  [-1, 128, 16, 16]         256\n",
            "|    └─ReLU: 2-9                         [-1, 128, 16, 16]         --\n",
            "|    └─ConvTranspose2d: 2-10             [-1, 64, 32, 32]          131,072\n",
            "|    └─BatchNorm2d: 2-11                 [-1, 64, 32, 32]          128\n",
            "|    └─ReLU: 2-12                        [-1, 64, 32, 32]          --\n",
            "|    └─ConvTranspose2d: 2-13             [-1, 1, 64, 64]           1,024\n",
            "|    └─Tanh: 2-14                        [-1, 1, 64, 64]           --\n",
            "==========================================================================================\n",
            "Total params: 3,574,656\n",
            "Trainable params: 3,574,656\n",
            "Non-trainable params: 0\n",
            "Total mult-adds (M): 423.53\n",
            "==========================================================================================\n",
            "Input size (MB): 0.00\n",
            "Forward/backward pass size (MB): 1.91\n",
            "Params size (MB): 13.64\n",
            "Estimated Total Size (MB): 15.54\n",
            "==========================================================================================\n",
            "==========================================================================================\n",
            "Layer (type:depth-idx)                   Output Shape              Param #\n",
            "==========================================================================================\n",
            "├─Sequential: 1-1                        [-1, 1, 1, 1]             --\n",
            "|    └─Conv2d: 2-1                       [-1, 64, 32, 32]          1,024\n",
            "|    └─LeakyReLU: 2-2                    [-1, 64, 32, 32]          --\n",
            "|    └─Dropout: 2-3                      [-1, 64, 32, 32]          --\n",
            "|    └─Conv2d: 2-4                       [-1, 128, 16, 16]         131,072\n",
            "|    └─BatchNorm2d: 2-5                  [-1, 128, 16, 16]         256\n",
            "|    └─LeakyReLU: 2-6                    [-1, 128, 16, 16]         --\n",
            "|    └─Conv2d: 2-7                       [-1, 256, 8, 8]           524,288\n",
            "|    └─BatchNorm2d: 2-8                  [-1, 256, 8, 8]           512\n",
            "|    └─LeakyReLU: 2-9                    [-1, 256, 8, 8]           --\n",
            "|    └─Dropout: 2-10                     [-1, 256, 8, 8]           --\n",
            "|    └─Conv2d: 2-11                      [-1, 512, 4, 4]           2,097,152\n",
            "|    └─BatchNorm2d: 2-12                 [-1, 512, 4, 4]           1,024\n",
            "|    └─Dropout: 2-13                     [-1, 512, 4, 4]           --\n",
            "|    └─LeakyReLU: 2-14                   [-1, 512, 4, 4]           --\n",
            "|    └─Conv2d: 2-15                      [-1, 1, 1, 1]             8,192\n",
            "|    └─Sigmoid: 2-16                     [-1, 1, 1, 1]             --\n",
            "==========================================================================================\n",
            "Total params: 2,763,520\n",
            "Trainable params: 2,763,520\n",
            "Non-trainable params: 0\n",
            "Total mult-adds (M): 104.48\n",
            "==========================================================================================\n",
            "Input size (MB): 0.02\n",
            "Forward/backward pass size (MB): 1.38\n",
            "Params size (MB): 10.54\n",
            "Estimated Total Size (MB): 11.93\n",
            "==========================================================================================\n"
          ],
          "name": "stdout"
        },
        {
          "output_type": "execute_result",
          "data": {
            "text/plain": [
              "==========================================================================================\n",
              "Layer (type:depth-idx)                   Output Shape              Param #\n",
              "==========================================================================================\n",
              "├─Sequential: 1-1                        [-1, 1, 1, 1]             --\n",
              "|    └─Conv2d: 2-1                       [-1, 64, 32, 32]          1,024\n",
              "|    └─LeakyReLU: 2-2                    [-1, 64, 32, 32]          --\n",
              "|    └─Dropout: 2-3                      [-1, 64, 32, 32]          --\n",
              "|    └─Conv2d: 2-4                       [-1, 128, 16, 16]         131,072\n",
              "|    └─BatchNorm2d: 2-5                  [-1, 128, 16, 16]         256\n",
              "|    └─LeakyReLU: 2-6                    [-1, 128, 16, 16]         --\n",
              "|    └─Conv2d: 2-7                       [-1, 256, 8, 8]           524,288\n",
              "|    └─BatchNorm2d: 2-8                  [-1, 256, 8, 8]           512\n",
              "|    └─LeakyReLU: 2-9                    [-1, 256, 8, 8]           --\n",
              "|    └─Dropout: 2-10                     [-1, 256, 8, 8]           --\n",
              "|    └─Conv2d: 2-11                      [-1, 512, 4, 4]           2,097,152\n",
              "|    └─BatchNorm2d: 2-12                 [-1, 512, 4, 4]           1,024\n",
              "|    └─Dropout: 2-13                     [-1, 512, 4, 4]           --\n",
              "|    └─LeakyReLU: 2-14                   [-1, 512, 4, 4]           --\n",
              "|    └─Conv2d: 2-15                      [-1, 1, 1, 1]             8,192\n",
              "|    └─Sigmoid: 2-16                     [-1, 1, 1, 1]             --\n",
              "==========================================================================================\n",
              "Total params: 2,763,520\n",
              "Trainable params: 2,763,520\n",
              "Non-trainable params: 0\n",
              "Total mult-adds (M): 104.48\n",
              "==========================================================================================\n",
              "Input size (MB): 0.02\n",
              "Forward/backward pass size (MB): 1.38\n",
              "Params size (MB): 10.54\n",
              "Estimated Total Size (MB): 11.93\n",
              "=========================================================================================="
            ]
          },
          "metadata": {
            "tags": []
          },
          "execution_count": 16
        }
      ]
    },
    {
      "cell_type": "code",
      "metadata": {
        "id": "a8YasvnkuNV_",
        "colab_type": "code",
        "colab": {
          "base_uri": "https://localhost:8080/",
          "height": 527
        },
        "outputId": "a6b62bf8-7876-4afb-e635-a579dcef27cc"
      },
      "source": [
        "#device = torch.device(\"cuda:0\" if torch.cuda.is_available() else \"cpu\")\n",
        "#net.to(device)\n",
        "!pip install torch-summary\n",
        "gen_stats = summary(generator, (100, 1, 1),verbose=0)\n",
        "GenSummary_str = str(gen_stats)\n",
        "plt.figure(figsize=(12,7))\n",
        "plt.text(0.01, 0.05, GenSummary_str, {'fontsize': 10}, fontproperties = 'monospace') # approach improved by OP -> monospace!\n",
        "plt.axis('off')\n",
        "plt.tight_layout()\n",
        "plt.savefig(os.path.join('.', 'augGAN/model/model_summary_gen.png'))"
      ],
      "execution_count": null,
      "outputs": [
        {
          "output_type": "stream",
          "text": [
            "Requirement already satisfied: torch-summary in /usr/local/lib/python3.6/dist-packages (1.4.1)\n"
          ],
          "name": "stdout"
        },
        {
          "output_type": "display_data",
          "data": {
            "image/png": "[encoded data removed]",
            "text/plain": [
              "<Figure size 864x504 with 1 Axes>"
            ]
          },
          "metadata": {
            "tags": [],
            "needs_background": "light"
          }
        }
      ]
    },
    {
      "cell_type": "code",
      "metadata": {
        "id": "llHUv2LYjuvl",
        "colab_type": "code",
        "colab": {
          "base_uri": "https://localhost:8080/",
          "height": 482
        },
        "outputId": "dbc9bef1-f8fd-42dc-dc93-b6c9577b9887"
      },
      "source": [
        "dis_stats = summary(discriminator, (1, 64, 64),verbose=0)\n",
        "DisSummary_str = str(dis_stats)\n",
        "plt.figure(figsize=(12,7))\n",
        "plt.text(0.01, 0.05, DisSummary_str, {'fontsize': 10}, fontproperties = 'monospace') # approach improved by OP -> monospace!\n",
        "plt.axis('off')\n",
        "plt.tight_layout()\n",
        "plt.savefig(os.path.join('.', 'augGAN/model/model_summary_dis.png'))"
      ],
      "execution_count": null,
      "outputs": [
        {
          "output_type": "display_data",
          "data": {
            "image/png": "[encoded data removed]",
            "text/plain": [
              "<Figure size 864x504 with 1 Axes>"
            ]
          },
          "metadata": {
            "tags": [],
            "needs_background": "light"
          }
        }
      ]
    },
    {
      "cell_type": "code",
      "metadata": {
        "id": "4N0yiqHfzOzX",
        "colab_type": "code",
        "colab": {
          "base_uri": "https://localhost:8080/",
          "height": 323
        },
        "outputId": "9599816b-3707-49c0-c869-932427a16458"
      },
      "source": [
        "print(generator)"
      ],
      "execution_count": null,
      "outputs": [
        {
          "output_type": "stream",
          "text": [
            "Generator(\n",
            "  (main): Sequential(\n",
            "    (0): ConvTranspose2d(100, 512, kernel_size=(4, 4), stride=(1, 1), bias=False)\n",
            "    (1): BatchNorm2d(512, eps=1e-05, momentum=0.1, affine=True, track_running_stats=True)\n",
            "    (2): ReLU(inplace=True)\n",
            "    (3): ConvTranspose2d(512, 256, kernel_size=(4, 4), stride=(2, 2), padding=(1, 1), bias=False)\n",
            "    (4): BatchNorm2d(256, eps=1e-05, momentum=0.1, affine=True, track_running_stats=True)\n",
            "    (5): ReLU(inplace=True)\n",
            "    (6): ConvTranspose2d(256, 128, kernel_size=(4, 4), stride=(2, 2), padding=(1, 1), bias=False)\n",
            "    (7): BatchNorm2d(128, eps=1e-05, momentum=0.1, affine=True, track_running_stats=True)\n",
            "    (8): ReLU(inplace=True)\n",
            "    (9): ConvTranspose2d(128, 64, kernel_size=(4, 4), stride=(2, 2), padding=(1, 1), bias=False)\n",
            "    (10): BatchNorm2d(64, eps=1e-05, momentum=0.1, affine=True, track_running_stats=True)\n",
            "    (11): ReLU(inplace=True)\n",
            "    (12): ConvTranspose2d(64, 3, kernel_size=(4, 4), stride=(2, 2), padding=(1, 1), bias=False)\n",
            "    (13): Tanh()\n",
            "  )\n",
            ")\n"
          ],
          "name": "stdout"
        }
      ]
    },
    {
      "cell_type": "code",
      "metadata": {
        "id": "o-Z61n2SAhlv",
        "colab_type": "code",
        "colab": {
          "base_uri": "https://localhost:8080/",
          "height": 306
        },
        "outputId": "671b8da4-7a8b-4136-948f-9b057aa52075"
      },
      "source": [
        "print(discriminator)"
      ],
      "execution_count": null,
      "outputs": [
        {
          "output_type": "stream",
          "text": [
            "Discriminator(\n",
            "  (main): Sequential(\n",
            "    (0): Conv2d(3, 64, kernel_size=(4, 4), stride=(2, 2), padding=(1, 1), bias=False)\n",
            "    (1): LeakyReLU(negative_slope=0.2, inplace=True)\n",
            "    (2): Conv2d(64, 128, kernel_size=(4, 4), stride=(2, 2), padding=(1, 1), bias=False)\n",
            "    (3): BatchNorm2d(128, eps=1e-05, momentum=0.1, affine=True, track_running_stats=True)\n",
            "    (4): LeakyReLU(negative_slope=0.2, inplace=True)\n",
            "    (5): Conv2d(128, 256, kernel_size=(4, 4), stride=(2, 2), padding=(1, 1), bias=False)\n",
            "    (6): BatchNorm2d(256, eps=1e-05, momentum=0.1, affine=True, track_running_stats=True)\n",
            "    (7): LeakyReLU(negative_slope=0.2, inplace=True)\n",
            "    (8): Conv2d(256, 512, kernel_size=(4, 4), stride=(2, 2), padding=(1, 1), bias=False)\n",
            "    (9): BatchNorm2d(512, eps=1e-05, momentum=0.1, affine=True, track_running_stats=True)\n",
            "    (10): LeakyReLU(negative_slope=0.2, inplace=True)\n",
            "    (11): Conv2d(512, 1, kernel_size=(4, 4), stride=(1, 1), bias=False)\n",
            "    (12): Sigmoid()\n",
            "  )\n",
            ")\n"
          ],
          "name": "stdout"
        }
      ]
    }
  ]
}