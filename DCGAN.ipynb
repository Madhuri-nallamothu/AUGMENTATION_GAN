{
  "nbformat": 4,
  "nbformat_minor": 0,
  "metadata": {
    "colab": {
      "name": "DCGAN",
      "provenance": [],
      "collapsed_sections": []
    },
    "kernelspec": {
      "name": "python3",
      "display_name": "Python 3"
    },
    "accelerator": "GPU"
  },
  "cells": [
    {
      "cell_type": "code",
      "metadata": {
        "id": "gLM6o1DSjcXJ",
        "colab_type": "code",
        "colab": {}
      },
      "source": [
        "from __future__ import print_function\n",
        "#%matplotlib inline\n",
        "import argparse\n",
        "import os\n",
        "import random\n",
        "import torch\n",
        "import torch.nn as nn\n",
        "import torch.nn.parallel\n",
        "import torch.backends.cudnn as cudnn\n",
        "import torch.optim as optim\n",
        "import torch.utils.data\n",
        "import torchvision.datasets as datasets\n",
        "import torchvision.transforms as transforms\n",
        "import torchvision.utils as vutils\n",
        "from torch.utils.data import SubsetRandomSampler\n",
        "import numpy as np\n",
        "import matplotlib.pyplot as plt\n",
        "import matplotlib.animation as animation\n",
        "from IPython.display import HTML\n",
        "from tqdm import tqdm"
      ],
      "execution_count": 24,
      "outputs": []
    },
    {
      "cell_type": "code",
      "metadata": {
        "id": "hZ7QF4YbN1Pl",
        "colab_type": "code",
        "colab": {
          "base_uri": "https://localhost:8080/",
          "height": 139
        },
        "outputId": "cb344264-246b-4508-b863-8d58906aad0c"
      },
      "source": [
        "from google.colab import drive\n",
        "drive.mount('/content/drive') \n",
        "%cd /content/drive/My\\ Drive/"
      ],
      "execution_count": 2,
      "outputs": [
        {
          "output_type": "stream",
          "text": [
            "Go to this URL in a browser: https://accounts.google.com/o/oauth2/auth?client_id=947318989803-6bn6qk8qdgf4n4g3pfee6491hc0brc4i.apps.googleusercontent.com&redirect_uri=urn%3aietf%3awg%3aoauth%3a2.0%3aoob&response_type=code&scope=email%20https%3a%2f%2fwww.googleapis.com%2fauth%2fdocs.test%20https%3a%2f%2fwww.googleapis.com%2fauth%2fdrive%20https%3a%2f%2fwww.googleapis.com%2fauth%2fdrive.photos.readonly%20https%3a%2f%2fwww.googleapis.com%2fauth%2fpeopleapi.readonly\n",
            "\n",
            "Enter your authorization code:\n",
            "··········\n",
            "Mounted at /content/drive\n",
            "/content/drive/My Drive\n"
          ],
          "name": "stdout"
        }
      ]
    },
    {
      "cell_type": "code",
      "metadata": {
        "id": "5MdEuFt0nkmc",
        "colab_type": "code",
        "colab": {}
      },
      "source": [
        "device = torch.device('cuda' if torch.cuda.is_available() else 'cpu')\n",
        "data_dir = 'div2k' #Jus to check\n",
        "batch_size = 64\n",
        "TRAIN_ALL = False\n",
        "#All images will be resized to this size using a transformer.\n",
        "image_size = 64\n",
        "\n",
        "# Number of channels in the training images. For color images this is 3\n",
        "nc = 1\n",
        "\n",
        "# Size of z latent vector (i.e. size of generator input)\n",
        "nz = 100\n",
        "\n",
        "# Size of feature maps in generator\n",
        "ngf = 64\n",
        "\n",
        "# Size of feature maps in discriminator\n",
        "ndf = 64\n",
        "\n",
        "# Number of training epochs\n",
        "num_epochs = 4\n",
        "\n",
        "# Learning rate for optimizers\n",
        "lr = 0.0002\n",
        "\n",
        "# Beta1 hyperparam for Adam optimizers\n",
        "beta1 = 0.5\n",
        "# Beta2 hyperparam for Adam optimizers\n",
        "beta2 = 0.999\n",
        "\n",
        "real_label = 1.\n",
        "fake_label = 0.\n",
        "# Input to generator\n",
        "fixed_noise = torch.randn(64, nz, 1, 1, device=device)\n",
        "# Define Loss function\n",
        "criterion = nn.BCELoss()"
      ],
      "execution_count": 59,
      "outputs": []
    },
    {
      "cell_type": "code",
      "metadata": {
        "id": "HHXGFAtBHH4R",
        "colab_type": "code",
        "colab": {}
      },
      "source": [
        "def weights_init(m):\n",
        "    classname = m.__class__.__name__\n",
        "    if classname.find('Conv') != -1:\n",
        "        nn.init.normal_(m.weight.data, 0.0, 0.02)\n",
        "    elif classname.find('BatchNorm') != -1:\n",
        "        nn.init.normal_(m.weight.data, 1.0, 0.02)\n",
        "        nn.init.constant_(m.bias.data, 0)"
      ],
      "execution_count": 4,
      "outputs": []
    },
    {
      "cell_type": "code",
      "metadata": {
        "id": "F4uvXCj5zzNa",
        "colab_type": "code",
        "colab": {}
      },
      "source": [
        "class Generator(nn.Module):\n",
        "\n",
        "    def __init__(self):\n",
        "        super(Generator, self).__init__()\n",
        "        self._model = nn.Sequential(\n",
        "            # input is Z, going into a convolution\n",
        "            #i/p,o/p,kernel size,stride,padding\n",
        "            nn.ConvTranspose2d( nz, ngf * 16, 5, 1, 0, bias=False),\n",
        "            nn.BatchNorm2d(ngf * 16),\n",
        "            nn.ReLU(True),\n",
        "            # state size. (ngf*16) x 4 x 4\n",
        "            nn.ConvTranspose2d( ngf * 16, ngf * 8, 4, 2, 1, bias=False),\n",
        "            nn.BatchNorm2d(ngf * 8),\n",
        "            nn.ReLU(True),\n",
        "            # state size. (ngf*8) x 8 x 8\n",
        "            nn.ConvTranspose2d(ngf * 8, ngf * 4, 4, 2, 1, bias=False),\n",
        "            nn.BatchNorm2d(ngf * 4),\n",
        "            nn.ReLU(True),\n",
        "            # state size. (ngf*4) x 16 x 16\n",
        "            nn.ConvTranspose2d( ngf * 4, ngf * 2, 4, 2, 1, bias=False),\n",
        "            nn.BatchNorm2d(ngf * 2),\n",
        "            nn.ReLU(True),\n",
        "            # state size. (ngf*2) x 32 x 32\n",
        "            nn.ConvTranspose2d( ngf*2, nc, 4, 2, 1, bias=False),\n",
        "            nn.Tanh()\n",
        "            # state size. (nc) x 64 x 64\n",
        "        )\n",
        "\n",
        "    def forward(self, input):\n",
        "        return self._model(input)"
      ],
      "execution_count": 5,
      "outputs": []
    },
    {
      "cell_type": "code",
      "metadata": {
        "id": "CEb5BlY5GO4_",
        "colab_type": "code",
        "colab": {}
      },
      "source": [
        "class Discriminator(nn.Module):\n",
        "\n",
        "    def __init__(self):\n",
        "        super(Discriminator, self).__init__()\n",
        "        self._model = nn.Sequential(\n",
        "            # input is (nc) x 64 x 64\n",
        "            nn.Conv2d(nc, ndf * 2, 4, 2, 1, bias=False),\n",
        "            nn.LeakyReLU(0.2, inplace=True),\n",
        "            # state size. (ndf*2) x 32 x 32\n",
        "            nn.Conv2d(ndf * 2, ndf * 4, 4, 2, 1, bias=False),\n",
        "            nn.BatchNorm2d(ndf * 4),\n",
        "            nn.LeakyReLU(0.2, inplace=True),\n",
        "            # state size. (ndf*4) x 16 x 16\n",
        "            nn.Conv2d(ndf * 4, ndf * 8, 4, 2, 1, bias=False),\n",
        "            nn.BatchNorm2d(ndf * 8),\n",
        "            nn.LeakyReLU(0.2, inplace=True),\n",
        "            # state size. (ndf*8) x 8 x 8\n",
        "            nn.Conv2d(ndf * 8, ndf * 16, 4, 2, 1, bias=False),\n",
        "            nn.BatchNorm2d(ndf * 16),\n",
        "            nn.LeakyReLU(0.2, inplace=True),\n",
        "            # state size. (ndf*16) x 4 x 4\n",
        "            nn.Conv2d(ndf * 16, 1, 4, 1, 0, bias=False),\n",
        "            nn.Sigmoid()\n",
        "        )\n",
        "\n",
        "    def forward(self, input):\n",
        "        return self._model(input)"
      ],
      "execution_count": 6,
      "outputs": []
    },
    {
      "cell_type": "code",
      "metadata": {
        "id": "8la1EFeB3zRF",
        "colab_type": "code",
        "colab": {
          "base_uri": "https://localhost:8080/",
          "height": 918
        },
        "outputId": "fa088fa9-67fe-4ad7-dc54-2739f8827c8f"
      },
      "source": [
        "from torchsummary import summary\n",
        "\n",
        "summary(generator, (100, 1, 1))\n",
        "summary(discriminator, (1, 64, 64))"
      ],
      "execution_count": 15,
      "outputs": [
        {
          "output_type": "stream",
          "text": [
            "----------------------------------------------------------------\n",
            "        Layer (type)               Output Shape         Param #\n",
            "================================================================\n",
            "   ConvTranspose2d-1           [-1, 1024, 4, 4]       1,638,400\n",
            "       BatchNorm2d-2           [-1, 1024, 4, 4]           2,048\n",
            "              ReLU-3           [-1, 1024, 4, 4]               0\n",
            "   ConvTranspose2d-4            [-1, 512, 8, 8]       8,388,608\n",
            "       BatchNorm2d-5            [-1, 512, 8, 8]           1,024\n",
            "              ReLU-6            [-1, 512, 8, 8]               0\n",
            "   ConvTranspose2d-7          [-1, 256, 16, 16]       2,097,152\n",
            "       BatchNorm2d-8          [-1, 256, 16, 16]             512\n",
            "              ReLU-9          [-1, 256, 16, 16]               0\n",
            "  ConvTranspose2d-10          [-1, 128, 32, 32]         524,288\n",
            "      BatchNorm2d-11          [-1, 128, 32, 32]             256\n",
            "             ReLU-12          [-1, 128, 32, 32]               0\n",
            "  ConvTranspose2d-13            [-1, 1, 64, 64]           2,048\n",
            "             Tanh-14            [-1, 1, 64, 64]               0\n",
            "================================================================\n",
            "Total params: 12,654,336\n",
            "Trainable params: 12,654,336\n",
            "Non-trainable params: 0\n",
            "----------------------------------------------------------------\n",
            "Input size (MB): 0.00\n",
            "Forward/backward pass size (MB): 5.69\n",
            "Params size (MB): 48.27\n",
            "Estimated Total Size (MB): 53.96\n",
            "----------------------------------------------------------------\n",
            "----------------------------------------------------------------\n",
            "        Layer (type)               Output Shape         Param #\n",
            "================================================================\n",
            "            Conv2d-1          [-1, 128, 32, 32]           2,048\n",
            "         LeakyReLU-2          [-1, 128, 32, 32]               0\n",
            "            Conv2d-3          [-1, 256, 16, 16]         524,288\n",
            "       BatchNorm2d-4          [-1, 256, 16, 16]             512\n",
            "         LeakyReLU-5          [-1, 256, 16, 16]               0\n",
            "            Conv2d-6            [-1, 512, 8, 8]       2,097,152\n",
            "       BatchNorm2d-7            [-1, 512, 8, 8]           1,024\n",
            "         LeakyReLU-8            [-1, 512, 8, 8]               0\n",
            "            Conv2d-9           [-1, 1024, 4, 4]       8,388,608\n",
            "      BatchNorm2d-10           [-1, 1024, 4, 4]           2,048\n",
            "        LeakyReLU-11           [-1, 1024, 4, 4]               0\n",
            "           Conv2d-12              [-1, 1, 1, 1]          16,384\n",
            "          Sigmoid-13              [-1, 1, 1, 1]               0\n",
            "================================================================\n",
            "Total params: 11,032,064\n",
            "Trainable params: 11,032,064\n",
            "Non-trainable params: 0\n",
            "----------------------------------------------------------------\n",
            "Input size (MB): 0.02\n",
            "Forward/backward pass size (MB): 4.63\n",
            "Params size (MB): 42.08\n",
            "Estimated Total Size (MB): 46.72\n",
            "----------------------------------------------------------------\n"
          ],
          "name": "stdout"
        }
      ]
    },
    {
      "cell_type": "code",
      "metadata": {
        "id": "xn5d4tccMIyL",
        "colab_type": "code",
        "colab": {}
      },
      "source": [
        "img_list = []\n",
        "G_losses = []\n",
        "D_losses = []\n",
        "\n",
        "def train_gan(generator, discriminator, gen_optimizer, dis_optimizer, train_loader, valid_loader):\n",
        "        iters = 0\n",
        "        print(\"GAN training started :D...\")\n",
        "\n",
        "        for epoch in range(num_epochs):\n",
        "            # For each batch in the dataloader\n",
        "            for i, data in enumerate(tqdm(train_loader, 0)):\n",
        "\n",
        "                # (1) Update D network: maximize log(D(x)) + log(1 - D(G(z)))\n",
        "                ## Train with all-real batch\n",
        "                discriminator.zero_grad()\n",
        "                # Format batch\n",
        "                b_real = data[0].to(device)\n",
        "                b_size = b_real.size(0)\n",
        "                label = torch.full((b_size,), real_label, device=device)\n",
        "                # Forward pass real batch through D\n",
        "                output = discriminator(b_real).view(-1)\n",
        "                # Calculate loss on all-real batch\n",
        "                errD_real = criterion(output, label)\n",
        "                # Calculate gradients for D in backward pass\n",
        "                errD_real.backward()\n",
        "                D_x = output.mean().item()\n",
        "\n",
        "                ## Train with all-fake batch\n",
        "                # Generate batch of latent vectors\n",
        "                noise = torch.randn(b_size, nz, 1, 1, device=device)\n",
        "                # Generate fake image batch with G\n",
        "                fake = generator(noise)\n",
        "                label.fill_(fake_label)\n",
        "                # Classify all fake batch with D\n",
        "                output = discriminator(fake.detach()).view(-1)\n",
        "                # Calculate D's loss on the all-fake batch\n",
        "                errD_fake = criterion(output, label)\n",
        "                # Calculate the gradients for this batch\n",
        "                errD_fake.backward()\n",
        "                D_G_z1 = output.mean().item()\n",
        "                # Add the gradients from the all-real and all-fake batches\n",
        "                errD = errD_real + errD_fake\n",
        "                # Update D\n",
        "                dis_optimizer.step()\n",
        "\n",
        "                # (2) Update G network: maximize log(D(G(z)))\n",
        "                generator.zero_grad()\n",
        "                label.fill_(real_label)  # fake labels are real for generator cost\n",
        "                # Since we just updated D, perform another forward pass of all-fake batch through D\n",
        "                output = discriminator(fake).view(-1)\n",
        "                # Calculate G's loss based on this output\n",
        "                errG = criterion(output, label)\n",
        "                # Calculate gradients for G\n",
        "                errG.backward()\n",
        "                D_G_z2 = output.mean().item()\n",
        "                # Update G\n",
        "                gen_optimizer.step()\n",
        "\n",
        "                # Output training stats\n",
        "                #if i % 50 == 0:\n",
        "                print('[%d/%d][%d/%d]\\tLoss_D: %.4f\\tLoss_G: %.4f\\tD(x): %.4f\\tD(G(z)): %.4f / %.4f'\n",
        "                      % (epoch, num_epochs, i, len(train_loader),\n",
        "                          errD.item(), errG.item(), D_x, D_G_z1, D_G_z2))\n",
        "\n",
        "                # Save Losses for plotting later\n",
        "                G_losses.append(errG.item())\n",
        "                D_losses.append(errD.item())\n",
        "\n",
        "                # Check how the generator is doing by saving G's output on fixed_noise\n",
        "                if (iters % 500 == 0) or ((epoch == num_epochs-1) and (i == len(train_loader)-1)):\n",
        "                    with torch.no_grad():\n",
        "                        fake = generator(fixed_noise).detach().cpu()\n",
        "                    img_list.append(vutils.make_grid(fake, padding=2, normalize=True))\n",
        "\n",
        "                iters += 1\n"
      ],
      "execution_count": 7,
      "outputs": []
    },
    {
      "cell_type": "code",
      "metadata": {
        "id": "gPHMkQQKJItb",
        "colab_type": "code",
        "colab": {}
      },
      "source": [
        "def get_indices(dataset,class_name, indices):\n",
        "    #indices =  []\n",
        "    j = 0\n",
        "    for i in range(len(dataset.labels)):\n",
        "        if dataset.labels[i] == class_name:\n",
        "            indices.append(i)\n",
        "            j += 1\n",
        "    print(\"Total Samples of class\", class_name,\"found are\",j)\n",
        "    return indices"
      ],
      "execution_count": 66,
      "outputs": []
    },
    {
      "cell_type": "code",
      "metadata": {
        "id": "LWeXmdInu38z",
        "colab_type": "code",
        "colab": {
          "base_uri": "https://localhost:8080/",
          "height": 1000
        },
        "outputId": "00808d48-f4c5-4ec2-8b2f-631f0415bd5c"
      },
      "source": [
        "mu = [0.5]\n",
        "sigma = [0.5]\n",
        "#Originally authors used just scaling\n",
        "transform = transforms.Compose([transforms.RandomHorizontalFlip(),\n",
        "                                    transforms.Grayscale(num_output_channels=1),\n",
        "                                    transforms.Resize((64,64)),\n",
        "                                    transforms.ToTensor(),\n",
        "                                    transforms.Normalize(mu, sigma)])\n",
        "#train_set = datasets.ImageFolder(os.path.join(\n",
        "#      data_dir, \"train/\"), transform=transform)\n",
        "train_set = datasets.STL10(root='./data', split='train', download=True,\n",
        "                                transform=transform)\n",
        "train_loader = torch.utils.data.DataLoader(\n",
        "      train_set, batch_size=batch_size, shuffle=True)\n",
        "#valid_set = datasets.ImageFolder(os.path.join( \n",
        "#      data_dir, \"val/\"), transform=transform)\n",
        "valid_set = datasets.STL10(root='./data', split='test', download=True,\n",
        "                                transform=transform)\n",
        "valid_loader = torch.utils.data.DataLoader(\n",
        "      valid_set, batch_size=batch_size, shuffle=False)\n",
        "\n",
        "generator = Generator().to(device)\n",
        "discriminator = Discriminator().to(device)\n",
        "generator.apply(weights_init)\n",
        "discriminator.apply(weights_init)\n",
        "gen_optimizer = optim.Adam(generator.parameters(), lr=lr, betas=(beta1, beta2))\n",
        "dis_optimizer = optim.Adam(discriminator.parameters(), lr=lr, betas=(beta1, beta2))\n",
        "\n",
        "if TRAIN_ALL:\n",
        "    train_gan(generator, discriminator, gen_optimizer, dis_optimizer, train_loader, valid_loader)\n",
        "else:\n",
        "    idx = []\n",
        "    idx = get_indices(train_set, 0, idx) #Airplane\n",
        "    idx_2 = get_indices(train_set, 8, idx) #Ship\n",
        "    idx_3 = get_indices(train_set, 9, idx) #Truck\n",
        "    #idx_1.append(idx_2)\n",
        "    #idx_1.append(idx_3)\n",
        "    #idx.append(idx_3)\n",
        "    print(\"Total samples now are \",len(idx))\n",
        "    selected_loader = torch.utils.data.DataLoader(train_set, batch_size=batch_size,\n",
        "                                             sampler = SubsetRandomSampler(idx))\n",
        "    train_gan(generator, discriminator, gen_optimizer, dis_optimizer, selected_loader, valid_loader)"
      ],
      "execution_count": 68,
      "outputs": [
        {
          "output_type": "stream",
          "text": [
            "Files already downloaded and verified\n",
            "Files already downloaded and verified\n"
          ],
          "name": "stdout"
        },
        {
          "output_type": "stream",
          "text": [
            "\n",
            "\n",
            "  0%|          | 0/24 [00:00<?, ?it/s]\u001b[A\u001b[A"
          ],
          "name": "stderr"
        },
        {
          "output_type": "stream",
          "text": [
            "Total Samples of class 0 found are 500\n",
            "Total Samples of class 8 found are 500\n",
            "Total Samples of class 9 found are 500\n",
            "Total samples now are  1500\n",
            "GAN training started :D...\n"
          ],
          "name": "stdout"
        },
        {
          "output_type": "stream",
          "text": [
            "\n",
            "\n",
            "  4%|▍         | 1/24 [00:00<00:11,  1.93it/s]\u001b[A\u001b[A"
          ],
          "name": "stderr"
        },
        {
          "output_type": "stream",
          "text": [
            "[0/4][0/24]\tLoss_D: 1.3942\tLoss_G: 16.3015\tD(x): 0.5943\tD(G(z)): 0.4297 / 0.0000\n"
          ],
          "name": "stdout"
        },
        {
          "output_type": "stream",
          "text": [
            "\n",
            "\n",
            "  8%|▊         | 2/24 [00:00<00:10,  2.07it/s]\u001b[A\u001b[A"
          ],
          "name": "stderr"
        },
        {
          "output_type": "stream",
          "text": [
            "[0/4][1/24]\tLoss_D: 3.2365\tLoss_G: 18.0994\tD(x): 0.8497\tD(G(z)): 0.8576 / 0.0000\n"
          ],
          "name": "stdout"
        },
        {
          "output_type": "stream",
          "text": [
            "\n",
            "\n",
            " 12%|█▎        | 3/24 [00:01<00:09,  2.19it/s]\u001b[A\u001b[A"
          ],
          "name": "stderr"
        },
        {
          "output_type": "stream",
          "text": [
            "[0/4][2/24]\tLoss_D: 1.9396\tLoss_G: 15.2317\tD(x): 0.6520\tD(G(z)): 0.2864 / 0.0000\n"
          ],
          "name": "stdout"
        },
        {
          "output_type": "stream",
          "text": [
            "\n",
            "\n",
            " 17%|█▋        | 4/24 [00:01<00:08,  2.26it/s]\u001b[A\u001b[A"
          ],
          "name": "stderr"
        },
        {
          "output_type": "stream",
          "text": [
            "[0/4][3/24]\tLoss_D: 3.6348\tLoss_G: 24.4377\tD(x): 0.7212\tD(G(z)): 0.8310 / 0.0000\n"
          ],
          "name": "stdout"
        },
        {
          "output_type": "stream",
          "text": [
            "\n",
            "\n",
            " 21%|██        | 5/24 [00:02<00:08,  2.33it/s]\u001b[A\u001b[A"
          ],
          "name": "stderr"
        },
        {
          "output_type": "stream",
          "text": [
            "[0/4][4/24]\tLoss_D: 3.3988\tLoss_G: 16.4836\tD(x): 0.5622\tD(G(z)): 0.0005 / 0.0000\n"
          ],
          "name": "stdout"
        },
        {
          "output_type": "stream",
          "text": [
            "\n",
            "\n",
            " 25%|██▌       | 6/24 [00:02<00:07,  2.37it/s]\u001b[A\u001b[A"
          ],
          "name": "stderr"
        },
        {
          "output_type": "stream",
          "text": [
            "[0/4][5/24]\tLoss_D: 2.3314\tLoss_G: 26.3463\tD(x): 0.7081\tD(G(z)): 0.6536 / 0.0000\n"
          ],
          "name": "stdout"
        },
        {
          "output_type": "stream",
          "text": [
            "\n",
            "\n",
            " 29%|██▉       | 7/24 [00:02<00:07,  2.41it/s]\u001b[A\u001b[A"
          ],
          "name": "stderr"
        },
        {
          "output_type": "stream",
          "text": [
            "[0/4][6/24]\tLoss_D: 1.4027\tLoss_G: 22.5829\tD(x): 0.6811\tD(G(z)): 0.0000 / 0.0000\n"
          ],
          "name": "stdout"
        },
        {
          "output_type": "stream",
          "text": [
            "\n",
            "\n",
            " 33%|███▎      | 8/24 [00:03<00:06,  2.43it/s]\u001b[A\u001b[A"
          ],
          "name": "stderr"
        },
        {
          "output_type": "stream",
          "text": [
            "[0/4][7/24]\tLoss_D: 1.6662\tLoss_G: 14.3182\tD(x): 0.8147\tD(G(z)): 0.1604 / 0.0000\n"
          ],
          "name": "stdout"
        },
        {
          "output_type": "stream",
          "text": [
            "\n",
            "\n",
            " 38%|███▊      | 9/24 [00:03<00:06,  2.43it/s]\u001b[A\u001b[A"
          ],
          "name": "stderr"
        },
        {
          "output_type": "stream",
          "text": [
            "[0/4][8/24]\tLoss_D: 3.3277\tLoss_G: 37.2890\tD(x): 0.9086\tD(G(z)): 0.9022 / 0.0000\n"
          ],
          "name": "stdout"
        },
        {
          "output_type": "stream",
          "text": [
            "\n",
            "\n",
            " 42%|████▏     | 10/24 [00:04<00:05,  2.45it/s]\u001b[A\u001b[A"
          ],
          "name": "stderr"
        },
        {
          "output_type": "stream",
          "text": [
            "[0/4][9/24]\tLoss_D: 1.2431\tLoss_G: 46.9929\tD(x): 0.6775\tD(G(z)): 0.0000 / 0.0000\n"
          ],
          "name": "stdout"
        },
        {
          "output_type": "stream",
          "text": [
            "\n",
            "\n",
            " 46%|████▌     | 11/24 [00:04<00:05,  2.46it/s]\u001b[A\u001b[A"
          ],
          "name": "stderr"
        },
        {
          "output_type": "stream",
          "text": [
            "[0/4][10/24]\tLoss_D: 1.9282\tLoss_G: 50.0749\tD(x): 0.6853\tD(G(z)): 0.0000 / 0.0000\n"
          ],
          "name": "stdout"
        },
        {
          "output_type": "stream",
          "text": [
            "\n",
            "\n",
            " 50%|█████     | 12/24 [00:04<00:04,  2.46it/s]\u001b[A\u001b[A"
          ],
          "name": "stderr"
        },
        {
          "output_type": "stream",
          "text": [
            "[0/4][11/24]\tLoss_D: 0.3750\tLoss_G: 51.1254\tD(x): 0.9024\tD(G(z)): 0.0000 / 0.0000\n"
          ],
          "name": "stdout"
        },
        {
          "output_type": "stream",
          "text": [
            "\n",
            "\n",
            " 54%|█████▍    | 13/24 [00:05<00:04,  2.45it/s]\u001b[A\u001b[A"
          ],
          "name": "stderr"
        },
        {
          "output_type": "stream",
          "text": [
            "[0/4][12/24]\tLoss_D: 0.0340\tLoss_G: 51.5192\tD(x): 0.9793\tD(G(z)): 0.0000 / 0.0000\n"
          ],
          "name": "stdout"
        },
        {
          "output_type": "stream",
          "text": [
            "\n",
            "\n",
            " 58%|█████▊    | 14/24 [00:05<00:04,  2.45it/s]\u001b[A\u001b[A"
          ],
          "name": "stderr"
        },
        {
          "output_type": "stream",
          "text": [
            "[0/4][13/24]\tLoss_D: 0.0022\tLoss_G: 51.6514\tD(x): 0.9978\tD(G(z)): 0.0000 / 0.0000\n"
          ],
          "name": "stdout"
        },
        {
          "output_type": "stream",
          "text": [
            "\n",
            "\n",
            " 62%|██████▎   | 15/24 [00:06<00:03,  2.45it/s]\u001b[A\u001b[A"
          ],
          "name": "stderr"
        },
        {
          "output_type": "stream",
          "text": [
            "[0/4][14/24]\tLoss_D: 0.0005\tLoss_G: 51.4887\tD(x): 0.9995\tD(G(z)): 0.0000 / 0.0000\n"
          ],
          "name": "stdout"
        },
        {
          "output_type": "stream",
          "text": [
            "\n",
            "\n",
            " 67%|██████▋   | 16/24 [00:06<00:03,  2.45it/s]\u001b[A\u001b[A"
          ],
          "name": "stderr"
        },
        {
          "output_type": "stream",
          "text": [
            "[0/4][15/24]\tLoss_D: 0.0782\tLoss_G: 51.4331\tD(x): 0.9667\tD(G(z)): 0.0000 / 0.0000\n"
          ],
          "name": "stdout"
        },
        {
          "output_type": "stream",
          "text": [
            "\n",
            "\n",
            " 71%|███████   | 17/24 [00:06<00:02,  2.46it/s]\u001b[A\u001b[A"
          ],
          "name": "stderr"
        },
        {
          "output_type": "stream",
          "text": [
            "[0/4][16/24]\tLoss_D: 0.0068\tLoss_G: 51.3022\tD(x): 0.9941\tD(G(z)): 0.0000 / 0.0000\n"
          ],
          "name": "stdout"
        },
        {
          "output_type": "stream",
          "text": [
            "\n",
            "\n",
            " 75%|███████▌  | 18/24 [00:07<00:02,  2.46it/s]\u001b[A\u001b[A"
          ],
          "name": "stderr"
        },
        {
          "output_type": "stream",
          "text": [
            "[0/4][17/24]\tLoss_D: 0.0009\tLoss_G: 51.5996\tD(x): 0.9991\tD(G(z)): 0.0000 / 0.0000\n"
          ],
          "name": "stdout"
        },
        {
          "output_type": "stream",
          "text": [
            "\n",
            "\n",
            " 79%|███████▉  | 19/24 [00:07<00:02,  2.46it/s]\u001b[A\u001b[A"
          ],
          "name": "stderr"
        },
        {
          "output_type": "stream",
          "text": [
            "[0/4][18/24]\tLoss_D: 0.0004\tLoss_G: 51.1845\tD(x): 0.9996\tD(G(z)): 0.0000 / 0.0000\n"
          ],
          "name": "stdout"
        },
        {
          "output_type": "stream",
          "text": [
            "\n",
            "\n",
            " 83%|████████▎ | 20/24 [00:08<00:01,  2.46it/s]\u001b[A\u001b[A"
          ],
          "name": "stderr"
        },
        {
          "output_type": "stream",
          "text": [
            "[0/4][19/24]\tLoss_D: 0.0035\tLoss_G: 51.5137\tD(x): 0.9967\tD(G(z)): 0.0000 / 0.0000\n"
          ],
          "name": "stdout"
        },
        {
          "output_type": "stream",
          "text": [
            "\n",
            "\n",
            " 88%|████████▊ | 21/24 [00:08<00:01,  2.46it/s]\u001b[A\u001b[A"
          ],
          "name": "stderr"
        },
        {
          "output_type": "stream",
          "text": [
            "[0/4][20/24]\tLoss_D: 0.0002\tLoss_G: 51.1077\tD(x): 0.9998\tD(G(z)): 0.0000 / 0.0000\n"
          ],
          "name": "stdout"
        },
        {
          "output_type": "stream",
          "text": [
            "\n",
            "\n",
            " 92%|█████████▏| 22/24 [00:09<00:00,  2.45it/s]\u001b[A\u001b[A"
          ],
          "name": "stderr"
        },
        {
          "output_type": "stream",
          "text": [
            "[0/4][21/24]\tLoss_D: 0.0026\tLoss_G: 50.8996\tD(x): 0.9975\tD(G(z)): 0.0000 / 0.0000\n"
          ],
          "name": "stdout"
        },
        {
          "output_type": "stream",
          "text": [
            "\n",
            "\n",
            " 96%|█████████▌| 23/24 [00:09<00:00,  2.45it/s]\u001b[A\u001b[A\n",
            "\n",
            "100%|██████████| 24/24 [00:09<00:00,  2.49it/s]\n",
            "\n",
            "\n",
            "  0%|          | 0/24 [00:00<?, ?it/s]\u001b[A\u001b[A"
          ],
          "name": "stderr"
        },
        {
          "output_type": "stream",
          "text": [
            "[0/4][22/24]\tLoss_D: 0.0010\tLoss_G: 51.2777\tD(x): 0.9990\tD(G(z)): 0.0000 / 0.0000\n",
            "[0/4][23/24]\tLoss_D: 0.0003\tLoss_G: 51.4823\tD(x): 0.9997\tD(G(z)): 0.0000 / 0.0000\n"
          ],
          "name": "stdout"
        },
        {
          "output_type": "stream",
          "text": [
            "\n",
            "\n",
            "  4%|▍         | 1/24 [00:00<00:09,  2.40it/s]\u001b[A\u001b[A"
          ],
          "name": "stderr"
        },
        {
          "output_type": "stream",
          "text": [
            "[1/4][0/24]\tLoss_D: 0.0012\tLoss_G: 51.2761\tD(x): 0.9988\tD(G(z)): 0.0000 / 0.0000\n"
          ],
          "name": "stdout"
        },
        {
          "output_type": "stream",
          "text": [
            "\n",
            "\n",
            "  8%|▊         | 2/24 [00:00<00:09,  2.41it/s]\u001b[A\u001b[A"
          ],
          "name": "stderr"
        },
        {
          "output_type": "stream",
          "text": [
            "[1/4][1/24]\tLoss_D: 0.0002\tLoss_G: 50.9231\tD(x): 0.9998\tD(G(z)): 0.0000 / 0.0000\n"
          ],
          "name": "stdout"
        },
        {
          "output_type": "stream",
          "text": [
            "\n",
            "\n",
            " 12%|█▎        | 3/24 [00:01<00:08,  2.42it/s]\u001b[A\u001b[A"
          ],
          "name": "stderr"
        },
        {
          "output_type": "stream",
          "text": [
            "[1/4][2/24]\tLoss_D: 0.0014\tLoss_G: 51.1526\tD(x): 0.9986\tD(G(z)): 0.0000 / 0.0000\n"
          ],
          "name": "stdout"
        },
        {
          "output_type": "stream",
          "text": [
            "\n",
            "\n",
            " 17%|█▋        | 4/24 [00:01<00:08,  2.43it/s]\u001b[A\u001b[A"
          ],
          "name": "stderr"
        },
        {
          "output_type": "stream",
          "text": [
            "[1/4][3/24]\tLoss_D: 0.0001\tLoss_G: 51.1101\tD(x): 0.9999\tD(G(z)): 0.0000 / 0.0000\n"
          ],
          "name": "stdout"
        },
        {
          "output_type": "stream",
          "text": [
            "\n",
            "\n",
            " 21%|██        | 5/24 [00:02<00:07,  2.42it/s]\u001b[A\u001b[A"
          ],
          "name": "stderr"
        },
        {
          "output_type": "stream",
          "text": [
            "[1/4][4/24]\tLoss_D: 0.0153\tLoss_G: 51.3027\tD(x): 0.9899\tD(G(z)): 0.0000 / 0.0000\n"
          ],
          "name": "stdout"
        },
        {
          "output_type": "stream",
          "text": [
            "\n",
            "\n",
            " 25%|██▌       | 6/24 [00:02<00:07,  2.43it/s]\u001b[A\u001b[A"
          ],
          "name": "stderr"
        },
        {
          "output_type": "stream",
          "text": [
            "[1/4][5/24]\tLoss_D: 0.0008\tLoss_G: 51.1529\tD(x): 0.9992\tD(G(z)): 0.0000 / 0.0000\n"
          ],
          "name": "stdout"
        },
        {
          "output_type": "stream",
          "text": [
            "\n",
            "\n",
            " 29%|██▉       | 7/24 [00:02<00:06,  2.43it/s]\u001b[A\u001b[A"
          ],
          "name": "stderr"
        },
        {
          "output_type": "stream",
          "text": [
            "[1/4][6/24]\tLoss_D: 0.0007\tLoss_G: 50.8414\tD(x): 0.9993\tD(G(z)): 0.0000 / 0.0000\n"
          ],
          "name": "stdout"
        },
        {
          "output_type": "stream",
          "text": [
            "\n",
            "\n",
            " 33%|███▎      | 8/24 [00:03<00:06,  2.43it/s]\u001b[A\u001b[A"
          ],
          "name": "stderr"
        },
        {
          "output_type": "stream",
          "text": [
            "[1/4][7/24]\tLoss_D: 0.0056\tLoss_G: 50.5252\tD(x): 0.9952\tD(G(z)): 0.0000 / 0.0000\n"
          ],
          "name": "stdout"
        },
        {
          "output_type": "stream",
          "text": [
            "\n",
            "\n",
            " 38%|███▊      | 9/24 [00:03<00:06,  2.43it/s]\u001b[A\u001b[A"
          ],
          "name": "stderr"
        },
        {
          "output_type": "stream",
          "text": [
            "[1/4][8/24]\tLoss_D: 0.0003\tLoss_G: 50.9264\tD(x): 0.9997\tD(G(z)): 0.0000 / 0.0000\n"
          ],
          "name": "stdout"
        },
        {
          "output_type": "stream",
          "text": [
            "\n",
            "\n",
            " 42%|████▏     | 10/24 [00:04<00:05,  2.43it/s]\u001b[A\u001b[A"
          ],
          "name": "stderr"
        },
        {
          "output_type": "stream",
          "text": [
            "[1/4][9/24]\tLoss_D: 0.0008\tLoss_G: 50.7608\tD(x): 0.9992\tD(G(z)): 0.0000 / 0.0000\n"
          ],
          "name": "stdout"
        },
        {
          "output_type": "stream",
          "text": [
            "\n",
            "\n",
            " 46%|████▌     | 11/24 [00:04<00:05,  2.41it/s]\u001b[A\u001b[A"
          ],
          "name": "stderr"
        },
        {
          "output_type": "stream",
          "text": [
            "[1/4][10/24]\tLoss_D: 0.0001\tLoss_G: 50.7244\tD(x): 0.9999\tD(G(z)): 0.0000 / 0.0000\n"
          ],
          "name": "stdout"
        },
        {
          "output_type": "stream",
          "text": [
            "\n",
            "\n",
            " 50%|█████     | 12/24 [00:04<00:04,  2.43it/s]\u001b[A\u001b[A"
          ],
          "name": "stderr"
        },
        {
          "output_type": "stream",
          "text": [
            "[1/4][11/24]\tLoss_D: 0.0004\tLoss_G: 50.9819\tD(x): 0.9996\tD(G(z)): 0.0000 / 0.0000\n"
          ],
          "name": "stdout"
        },
        {
          "output_type": "stream",
          "text": [
            "\n",
            "\n",
            " 54%|█████▍    | 13/24 [00:05<00:04,  2.42it/s]\u001b[A\u001b[A"
          ],
          "name": "stderr"
        },
        {
          "output_type": "stream",
          "text": [
            "[1/4][12/24]\tLoss_D: 0.0002\tLoss_G: 50.8617\tD(x): 0.9998\tD(G(z)): 0.0000 / 0.0000\n"
          ],
          "name": "stdout"
        },
        {
          "output_type": "stream",
          "text": [
            "\n",
            "\n",
            " 58%|█████▊    | 14/24 [00:05<00:04,  2.41it/s]\u001b[A\u001b[A"
          ],
          "name": "stderr"
        },
        {
          "output_type": "stream",
          "text": [
            "[1/4][13/24]\tLoss_D: 0.0002\tLoss_G: 50.8737\tD(x): 0.9998\tD(G(z)): 0.0000 / 0.0000\n"
          ],
          "name": "stdout"
        },
        {
          "output_type": "stream",
          "text": [
            "\n",
            "\n",
            " 62%|██████▎   | 15/24 [00:06<00:03,  2.41it/s]\u001b[A\u001b[A"
          ],
          "name": "stderr"
        },
        {
          "output_type": "stream",
          "text": [
            "[1/4][14/24]\tLoss_D: 0.0023\tLoss_G: 50.5453\tD(x): 0.9978\tD(G(z)): 0.0000 / 0.0000\n"
          ],
          "name": "stdout"
        },
        {
          "output_type": "stream",
          "text": [
            "\n",
            "\n",
            " 67%|██████▋   | 16/24 [00:06<00:03,  2.41it/s]\u001b[A\u001b[A"
          ],
          "name": "stderr"
        },
        {
          "output_type": "stream",
          "text": [
            "[1/4][15/24]\tLoss_D: 0.0003\tLoss_G: 50.9453\tD(x): 0.9997\tD(G(z)): 0.0000 / 0.0000\n"
          ],
          "name": "stdout"
        },
        {
          "output_type": "stream",
          "text": [
            "\n",
            "\n",
            " 71%|███████   | 17/24 [00:07<00:02,  2.40it/s]\u001b[A\u001b[A"
          ],
          "name": "stderr"
        },
        {
          "output_type": "stream",
          "text": [
            "[1/4][16/24]\tLoss_D: 0.0009\tLoss_G: 50.5601\tD(x): 0.9991\tD(G(z)): 0.0000 / 0.0000\n"
          ],
          "name": "stdout"
        },
        {
          "output_type": "stream",
          "text": [
            "\n",
            "\n",
            " 75%|███████▌  | 18/24 [00:07<00:02,  2.41it/s]\u001b[A\u001b[A"
          ],
          "name": "stderr"
        },
        {
          "output_type": "stream",
          "text": [
            "[1/4][17/24]\tLoss_D: 0.0026\tLoss_G: 50.9398\tD(x): 0.9976\tD(G(z)): 0.0000 / 0.0000\n"
          ],
          "name": "stdout"
        },
        {
          "output_type": "stream",
          "text": [
            "\n",
            "\n",
            " 79%|███████▉  | 19/24 [00:07<00:02,  2.39it/s]\u001b[A\u001b[A"
          ],
          "name": "stderr"
        },
        {
          "output_type": "stream",
          "text": [
            "[1/4][18/24]\tLoss_D: 0.0001\tLoss_G: 50.9001\tD(x): 0.9999\tD(G(z)): 0.0000 / 0.0000\n"
          ],
          "name": "stdout"
        },
        {
          "output_type": "stream",
          "text": [
            "\n",
            "\n",
            " 83%|████████▎ | 20/24 [00:08<00:01,  2.39it/s]\u001b[A\u001b[A"
          ],
          "name": "stderr"
        },
        {
          "output_type": "stream",
          "text": [
            "[1/4][19/24]\tLoss_D: 0.0002\tLoss_G: 50.9525\tD(x): 0.9998\tD(G(z)): 0.0000 / 0.0000\n"
          ],
          "name": "stdout"
        },
        {
          "output_type": "stream",
          "text": [
            "\n",
            "\n",
            " 88%|████████▊ | 21/24 [00:08<00:01,  2.39it/s]\u001b[A\u001b[A"
          ],
          "name": "stderr"
        },
        {
          "output_type": "stream",
          "text": [
            "[1/4][20/24]\tLoss_D: 0.0000\tLoss_G: 50.8063\tD(x): 1.0000\tD(G(z)): 0.0000 / 0.0000\n"
          ],
          "name": "stdout"
        },
        {
          "output_type": "stream",
          "text": [
            "\n",
            "\n",
            " 92%|█████████▏| 22/24 [00:09<00:00,  2.39it/s]\u001b[A\u001b[A"
          ],
          "name": "stderr"
        },
        {
          "output_type": "stream",
          "text": [
            "[1/4][21/24]\tLoss_D: 0.0019\tLoss_G: 50.6394\tD(x): 0.9982\tD(G(z)): 0.0000 / 0.0000\n"
          ],
          "name": "stdout"
        },
        {
          "output_type": "stream",
          "text": [
            "\n",
            "\n",
            " 96%|█████████▌| 23/24 [00:09<00:00,  2.40it/s]\u001b[A\u001b[A\n",
            "\n",
            "100%|██████████| 24/24 [00:09<00:00,  2.85it/s]"
          ],
          "name": "stderr"
        },
        {
          "output_type": "stream",
          "text": [
            "[1/4][22/24]\tLoss_D: 0.0003\tLoss_G: 50.9590\tD(x): 0.9997\tD(G(z)): 0.0000 / 0.0000\n",
            "[1/4][23/24]\tLoss_D: 0.0001\tLoss_G: 50.5370\tD(x): 0.9999\tD(G(z)): 0.0000 / 0.0000\n"
          ],
          "name": "stdout"
        },
        {
          "output_type": "stream",
          "text": [
            "100%|██████████| 24/24 [00:09<00:00,  2.46it/s]\n",
            "\n",
            "\n",
            "  0%|          | 0/24 [00:00<?, ?it/s]\u001b[A\u001b[A\n",
            "\n",
            "  4%|▍         | 1/24 [00:00<00:09,  2.42it/s]\u001b[A\u001b[A"
          ],
          "name": "stderr"
        },
        {
          "output_type": "stream",
          "text": [
            "[2/4][0/24]\tLoss_D: 0.0005\tLoss_G: 50.8624\tD(x): 0.9995\tD(G(z)): 0.0000 / 0.0000\n"
          ],
          "name": "stdout"
        },
        {
          "output_type": "stream",
          "text": [
            "\n",
            "\n",
            "  8%|▊         | 2/24 [00:00<00:09,  2.42it/s]\u001b[A\u001b[A"
          ],
          "name": "stderr"
        },
        {
          "output_type": "stream",
          "text": [
            "[2/4][1/24]\tLoss_D: 0.0002\tLoss_G: 50.6104\tD(x): 0.9998\tD(G(z)): 0.0000 / 0.0000\n"
          ],
          "name": "stdout"
        },
        {
          "output_type": "stream",
          "text": [
            "\n",
            "\n",
            " 12%|█▎        | 3/24 [00:01<00:08,  2.41it/s]\u001b[A\u001b[A"
          ],
          "name": "stderr"
        },
        {
          "output_type": "stream",
          "text": [
            "[2/4][2/24]\tLoss_D: 0.0001\tLoss_G: 50.6761\tD(x): 0.9999\tD(G(z)): 0.0000 / 0.0000\n"
          ],
          "name": "stdout"
        },
        {
          "output_type": "stream",
          "text": [
            "\n",
            "\n",
            " 17%|█▋        | 4/24 [00:01<00:08,  2.40it/s]\u001b[A\u001b[A"
          ],
          "name": "stderr"
        },
        {
          "output_type": "stream",
          "text": [
            "[2/4][3/24]\tLoss_D: 0.0002\tLoss_G: 50.4963\tD(x): 0.9998\tD(G(z)): 0.0000 / 0.0000\n"
          ],
          "name": "stdout"
        },
        {
          "output_type": "stream",
          "text": [
            "\n",
            "\n",
            " 21%|██        | 5/24 [00:02<00:07,  2.40it/s]\u001b[A\u001b[A"
          ],
          "name": "stderr"
        },
        {
          "output_type": "stream",
          "text": [
            "[2/4][4/24]\tLoss_D: 0.0001\tLoss_G: 50.8092\tD(x): 0.9999\tD(G(z)): 0.0000 / 0.0000\n"
          ],
          "name": "stdout"
        },
        {
          "output_type": "stream",
          "text": [
            "\n",
            "\n",
            " 25%|██▌       | 6/24 [00:02<00:07,  2.39it/s]\u001b[A\u001b[A"
          ],
          "name": "stderr"
        },
        {
          "output_type": "stream",
          "text": [
            "[2/4][5/24]\tLoss_D: 0.0001\tLoss_G: 50.7675\tD(x): 0.9999\tD(G(z)): 0.0000 / 0.0000\n"
          ],
          "name": "stdout"
        },
        {
          "output_type": "stream",
          "text": [
            "\n",
            "\n",
            " 29%|██▉       | 7/24 [00:02<00:07,  2.38it/s]\u001b[A\u001b[A"
          ],
          "name": "stderr"
        },
        {
          "output_type": "stream",
          "text": [
            "[2/4][6/24]\tLoss_D: 0.0004\tLoss_G: 50.8297\tD(x): 0.9996\tD(G(z)): 0.0000 / 0.0000\n"
          ],
          "name": "stdout"
        },
        {
          "output_type": "stream",
          "text": [
            "\n",
            "\n",
            " 33%|███▎      | 8/24 [00:03<00:06,  2.39it/s]\u001b[A\u001b[A"
          ],
          "name": "stderr"
        },
        {
          "output_type": "stream",
          "text": [
            "[2/4][7/24]\tLoss_D: 0.0003\tLoss_G: 50.7865\tD(x): 0.9997\tD(G(z)): 0.0000 / 0.0000\n"
          ],
          "name": "stdout"
        },
        {
          "output_type": "stream",
          "text": [
            "\n",
            "\n",
            " 38%|███▊      | 9/24 [00:03<00:06,  2.39it/s]\u001b[A\u001b[A"
          ],
          "name": "stderr"
        },
        {
          "output_type": "stream",
          "text": [
            "[2/4][8/24]\tLoss_D: 0.0004\tLoss_G: 50.7919\tD(x): 0.9996\tD(G(z)): 0.0000 / 0.0000\n"
          ],
          "name": "stdout"
        },
        {
          "output_type": "stream",
          "text": [
            "\n",
            "\n",
            " 42%|████▏     | 10/24 [00:04<00:05,  2.40it/s]\u001b[A\u001b[A"
          ],
          "name": "stderr"
        },
        {
          "output_type": "stream",
          "text": [
            "[2/4][9/24]\tLoss_D: 0.0004\tLoss_G: 50.6069\tD(x): 0.9996\tD(G(z)): 0.0000 / 0.0000\n"
          ],
          "name": "stdout"
        },
        {
          "output_type": "stream",
          "text": [
            "\n",
            "\n",
            " 46%|████▌     | 11/24 [00:04<00:05,  2.40it/s]\u001b[A\u001b[A"
          ],
          "name": "stderr"
        },
        {
          "output_type": "stream",
          "text": [
            "[2/4][10/24]\tLoss_D: 0.0003\tLoss_G: 50.5478\tD(x): 0.9997\tD(G(z)): 0.0000 / 0.0000\n"
          ],
          "name": "stdout"
        },
        {
          "output_type": "stream",
          "text": [
            "\n",
            "\n",
            " 50%|█████     | 12/24 [00:05<00:04,  2.41it/s]\u001b[A\u001b[A"
          ],
          "name": "stderr"
        },
        {
          "output_type": "stream",
          "text": [
            "[2/4][11/24]\tLoss_D: 0.0002\tLoss_G: 50.7154\tD(x): 0.9998\tD(G(z)): 0.0000 / 0.0000\n"
          ],
          "name": "stdout"
        },
        {
          "output_type": "stream",
          "text": [
            "\n",
            "\n",
            " 54%|█████▍    | 13/24 [00:05<00:04,  2.41it/s]\u001b[A\u001b[A"
          ],
          "name": "stderr"
        },
        {
          "output_type": "stream",
          "text": [
            "[2/4][12/24]\tLoss_D: 0.0003\tLoss_G: 51.1770\tD(x): 0.9997\tD(G(z)): 0.0000 / 0.0000\n"
          ],
          "name": "stdout"
        },
        {
          "output_type": "stream",
          "text": [
            "\n",
            "\n",
            " 58%|█████▊    | 14/24 [00:05<00:04,  2.40it/s]\u001b[A\u001b[A"
          ],
          "name": "stderr"
        },
        {
          "output_type": "stream",
          "text": [
            "[2/4][13/24]\tLoss_D: 0.0003\tLoss_G: 50.7400\tD(x): 0.9997\tD(G(z)): 0.0000 / 0.0000\n"
          ],
          "name": "stdout"
        },
        {
          "output_type": "stream",
          "text": [
            "\n",
            "\n",
            " 62%|██████▎   | 15/24 [00:06<00:03,  2.41it/s]\u001b[A\u001b[A"
          ],
          "name": "stderr"
        },
        {
          "output_type": "stream",
          "text": [
            "[2/4][14/24]\tLoss_D: 0.0005\tLoss_G: 50.7262\tD(x): 0.9995\tD(G(z)): 0.0000 / 0.0000\n"
          ],
          "name": "stdout"
        },
        {
          "output_type": "stream",
          "text": [
            "\n",
            "\n",
            " 67%|██████▋   | 16/24 [00:06<00:03,  2.42it/s]\u001b[A\u001b[A"
          ],
          "name": "stderr"
        },
        {
          "output_type": "stream",
          "text": [
            "[2/4][15/24]\tLoss_D: 0.0009\tLoss_G: 50.5693\tD(x): 0.9991\tD(G(z)): 0.0000 / 0.0000\n"
          ],
          "name": "stdout"
        },
        {
          "output_type": "stream",
          "text": [
            "\n",
            "\n",
            " 71%|███████   | 17/24 [00:07<00:02,  2.42it/s]\u001b[A\u001b[A"
          ],
          "name": "stderr"
        },
        {
          "output_type": "stream",
          "text": [
            "[2/4][16/24]\tLoss_D: 0.0001\tLoss_G: 50.1556\tD(x): 0.9999\tD(G(z)): 0.0000 / 0.0000\n"
          ],
          "name": "stdout"
        },
        {
          "output_type": "stream",
          "text": [
            "\n",
            "\n",
            " 75%|███████▌  | 18/24 [00:07<00:02,  2.42it/s]\u001b[A\u001b[A"
          ],
          "name": "stderr"
        },
        {
          "output_type": "stream",
          "text": [
            "[2/4][17/24]\tLoss_D: 0.0001\tLoss_G: 50.6917\tD(x): 0.9999\tD(G(z)): 0.0000 / 0.0000\n"
          ],
          "name": "stdout"
        },
        {
          "output_type": "stream",
          "text": [
            "\n",
            "\n",
            " 79%|███████▉  | 19/24 [00:07<00:02,  2.40it/s]\u001b[A\u001b[A"
          ],
          "name": "stderr"
        },
        {
          "output_type": "stream",
          "text": [
            "[2/4][18/24]\tLoss_D: 0.0003\tLoss_G: 50.3466\tD(x): 0.9997\tD(G(z)): 0.0000 / 0.0000\n"
          ],
          "name": "stdout"
        },
        {
          "output_type": "stream",
          "text": [
            "\n",
            "\n",
            " 83%|████████▎ | 20/24 [00:08<00:01,  2.42it/s]\u001b[A\u001b[A"
          ],
          "name": "stderr"
        },
        {
          "output_type": "stream",
          "text": [
            "[2/4][19/24]\tLoss_D: 0.0002\tLoss_G: 51.0311\tD(x): 0.9998\tD(G(z)): 0.0000 / 0.0000\n"
          ],
          "name": "stdout"
        },
        {
          "output_type": "stream",
          "text": [
            "\n",
            "\n",
            " 88%|████████▊ | 21/24 [00:08<00:01,  2.42it/s]\u001b[A\u001b[A"
          ],
          "name": "stderr"
        },
        {
          "output_type": "stream",
          "text": [
            "[2/4][20/24]\tLoss_D: 0.0001\tLoss_G: 50.1895\tD(x): 0.9999\tD(G(z)): 0.0000 / 0.0000\n"
          ],
          "name": "stdout"
        },
        {
          "output_type": "stream",
          "text": [
            "\n",
            "\n",
            " 92%|█████████▏| 22/24 [00:09<00:00,  2.42it/s]\u001b[A\u001b[A"
          ],
          "name": "stderr"
        },
        {
          "output_type": "stream",
          "text": [
            "[2/4][21/24]\tLoss_D: 0.0001\tLoss_G: 50.2265\tD(x): 0.9999\tD(G(z)): 0.0000 / 0.0000\n"
          ],
          "name": "stdout"
        },
        {
          "output_type": "stream",
          "text": [
            "\n",
            "\n",
            " 96%|█████████▌| 23/24 [00:09<00:00,  2.43it/s]\u001b[A\u001b[A\n",
            "\n",
            "100%|██████████| 24/24 [00:09<00:00,  2.46it/s]\n",
            "\n",
            "\n",
            "  0%|          | 0/24 [00:00<?, ?it/s]\u001b[A\u001b[A"
          ],
          "name": "stderr"
        },
        {
          "output_type": "stream",
          "text": [
            "[2/4][22/24]\tLoss_D: 0.0002\tLoss_G: 50.3262\tD(x): 0.9998\tD(G(z)): 0.0000 / 0.0000\n",
            "[2/4][23/24]\tLoss_D: 0.0001\tLoss_G: 50.7163\tD(x): 0.9999\tD(G(z)): 0.0000 / 0.0000\n"
          ],
          "name": "stdout"
        },
        {
          "output_type": "stream",
          "text": [
            "\n",
            "\n",
            "  4%|▍         | 1/24 [00:00<00:09,  2.44it/s]\u001b[A\u001b[A"
          ],
          "name": "stderr"
        },
        {
          "output_type": "stream",
          "text": [
            "[3/4][0/24]\tLoss_D: 0.0003\tLoss_G: 50.7314\tD(x): 0.9997\tD(G(z)): 0.0000 / 0.0000\n"
          ],
          "name": "stdout"
        },
        {
          "output_type": "stream",
          "text": [
            "\n",
            "\n",
            "  8%|▊         | 2/24 [00:00<00:08,  2.45it/s]\u001b[A\u001b[A"
          ],
          "name": "stderr"
        },
        {
          "output_type": "stream",
          "text": [
            "[3/4][1/24]\tLoss_D: 0.0005\tLoss_G: 50.8991\tD(x): 0.9995\tD(G(z)): 0.0000 / 0.0000\n"
          ],
          "name": "stdout"
        },
        {
          "output_type": "stream",
          "text": [
            "\n",
            "\n",
            " 12%|█▎        | 3/24 [00:01<00:08,  2.43it/s]\u001b[A\u001b[A"
          ],
          "name": "stderr"
        },
        {
          "output_type": "stream",
          "text": [
            "[3/4][2/24]\tLoss_D: 0.0003\tLoss_G: 50.7181\tD(x): 0.9997\tD(G(z)): 0.0000 / 0.0000\n"
          ],
          "name": "stdout"
        },
        {
          "output_type": "stream",
          "text": [
            "\n",
            "\n",
            " 17%|█▋        | 4/24 [00:01<00:08,  2.44it/s]\u001b[A\u001b[A"
          ],
          "name": "stderr"
        },
        {
          "output_type": "stream",
          "text": [
            "[3/4][3/24]\tLoss_D: 0.0001\tLoss_G: 50.7079\tD(x): 0.9999\tD(G(z)): 0.0000 / 0.0000\n"
          ],
          "name": "stdout"
        },
        {
          "output_type": "stream",
          "text": [
            "\n",
            "\n",
            " 21%|██        | 5/24 [00:02<00:07,  2.44it/s]\u001b[A\u001b[A"
          ],
          "name": "stderr"
        },
        {
          "output_type": "stream",
          "text": [
            "[3/4][4/24]\tLoss_D: 0.0000\tLoss_G: 50.4025\tD(x): 1.0000\tD(G(z)): 0.0000 / 0.0000\n"
          ],
          "name": "stdout"
        },
        {
          "output_type": "stream",
          "text": [
            "\n",
            "\n",
            " 25%|██▌       | 6/24 [00:02<00:07,  2.45it/s]\u001b[A\u001b[A"
          ],
          "name": "stderr"
        },
        {
          "output_type": "stream",
          "text": [
            "[3/4][5/24]\tLoss_D: 0.0007\tLoss_G: 50.2052\tD(x): 0.9993\tD(G(z)): 0.0000 / 0.0000\n"
          ],
          "name": "stdout"
        },
        {
          "output_type": "stream",
          "text": [
            "\n",
            "\n",
            " 29%|██▉       | 7/24 [00:02<00:06,  2.46it/s]\u001b[A\u001b[A"
          ],
          "name": "stderr"
        },
        {
          "output_type": "stream",
          "text": [
            "[3/4][6/24]\tLoss_D: 0.0007\tLoss_G: 50.4929\tD(x): 0.9993\tD(G(z)): 0.0000 / 0.0000\n"
          ],
          "name": "stdout"
        },
        {
          "output_type": "stream",
          "text": [
            "\n",
            "\n",
            " 33%|███▎      | 8/24 [00:03<00:06,  2.45it/s]\u001b[A\u001b[A"
          ],
          "name": "stderr"
        },
        {
          "output_type": "stream",
          "text": [
            "[3/4][7/24]\tLoss_D: 0.0001\tLoss_G: 50.3946\tD(x): 0.9999\tD(G(z)): 0.0000 / 0.0000\n"
          ],
          "name": "stdout"
        },
        {
          "output_type": "stream",
          "text": [
            "\n",
            "\n",
            " 38%|███▊      | 9/24 [00:03<00:06,  2.46it/s]\u001b[A\u001b[A"
          ],
          "name": "stderr"
        },
        {
          "output_type": "stream",
          "text": [
            "[3/4][8/24]\tLoss_D: 0.0004\tLoss_G: 50.3932\tD(x): 0.9996\tD(G(z)): 0.0000 / 0.0000\n"
          ],
          "name": "stdout"
        },
        {
          "output_type": "stream",
          "text": [
            "\n",
            "\n",
            " 42%|████▏     | 10/24 [00:04<00:05,  2.46it/s]\u001b[A\u001b[A"
          ],
          "name": "stderr"
        },
        {
          "output_type": "stream",
          "text": [
            "[3/4][9/24]\tLoss_D: 0.0002\tLoss_G: 50.3678\tD(x): 0.9998\tD(G(z)): 0.0000 / 0.0000\n"
          ],
          "name": "stdout"
        },
        {
          "output_type": "stream",
          "text": [
            "\n",
            "\n",
            " 46%|████▌     | 11/24 [00:04<00:05,  2.47it/s]\u001b[A\u001b[A"
          ],
          "name": "stderr"
        },
        {
          "output_type": "stream",
          "text": [
            "[3/4][10/24]\tLoss_D: 0.0000\tLoss_G: 50.7359\tD(x): 1.0000\tD(G(z)): 0.0000 / 0.0000\n"
          ],
          "name": "stdout"
        },
        {
          "output_type": "stream",
          "text": [
            "\n",
            "\n",
            " 50%|█████     | 12/24 [00:04<00:04,  2.47it/s]\u001b[A\u001b[A"
          ],
          "name": "stderr"
        },
        {
          "output_type": "stream",
          "text": [
            "[3/4][11/24]\tLoss_D: 0.0001\tLoss_G: 50.6326\tD(x): 0.9999\tD(G(z)): 0.0000 / 0.0000\n"
          ],
          "name": "stdout"
        },
        {
          "output_type": "stream",
          "text": [
            "\n",
            "\n",
            " 54%|█████▍    | 13/24 [00:05<00:04,  2.47it/s]\u001b[A\u001b[A"
          ],
          "name": "stderr"
        },
        {
          "output_type": "stream",
          "text": [
            "[3/4][12/24]\tLoss_D: 0.0002\tLoss_G: 50.1899\tD(x): 0.9998\tD(G(z)): 0.0000 / 0.0000\n"
          ],
          "name": "stdout"
        },
        {
          "output_type": "stream",
          "text": [
            "\n",
            "\n",
            " 58%|█████▊    | 14/24 [00:05<00:04,  2.47it/s]\u001b[A\u001b[A"
          ],
          "name": "stderr"
        },
        {
          "output_type": "stream",
          "text": [
            "[3/4][13/24]\tLoss_D: 0.0000\tLoss_G: 50.5939\tD(x): 1.0000\tD(G(z)): 0.0000 / 0.0000\n"
          ],
          "name": "stdout"
        },
        {
          "output_type": "stream",
          "text": [
            "\n",
            "\n",
            " 62%|██████▎   | 15/24 [00:06<00:03,  2.48it/s]\u001b[A\u001b[A"
          ],
          "name": "stderr"
        },
        {
          "output_type": "stream",
          "text": [
            "[3/4][14/24]\tLoss_D: 0.0002\tLoss_G: 50.4794\tD(x): 0.9998\tD(G(z)): 0.0000 / 0.0000\n"
          ],
          "name": "stdout"
        },
        {
          "output_type": "stream",
          "text": [
            "\n",
            "\n",
            " 67%|██████▋   | 16/24 [00:06<00:03,  2.48it/s]\u001b[A\u001b[A"
          ],
          "name": "stderr"
        },
        {
          "output_type": "stream",
          "text": [
            "[3/4][15/24]\tLoss_D: 0.0001\tLoss_G: 50.6083\tD(x): 0.9999\tD(G(z)): 0.0000 / 0.0000\n"
          ],
          "name": "stdout"
        },
        {
          "output_type": "stream",
          "text": [
            "\n",
            "\n",
            " 71%|███████   | 17/24 [00:06<00:02,  2.48it/s]\u001b[A\u001b[A"
          ],
          "name": "stderr"
        },
        {
          "output_type": "stream",
          "text": [
            "[3/4][16/24]\tLoss_D: 0.0003\tLoss_G: 50.3540\tD(x): 0.9997\tD(G(z)): 0.0000 / 0.0000\n"
          ],
          "name": "stdout"
        },
        {
          "output_type": "stream",
          "text": [
            "\n",
            "\n",
            " 75%|███████▌  | 18/24 [00:07<00:02,  2.46it/s]\u001b[A\u001b[A"
          ],
          "name": "stderr"
        },
        {
          "output_type": "stream",
          "text": [
            "[3/4][17/24]\tLoss_D: 0.0001\tLoss_G: 50.5448\tD(x): 0.9999\tD(G(z)): 0.0000 / 0.0000\n"
          ],
          "name": "stdout"
        },
        {
          "output_type": "stream",
          "text": [
            "\n",
            "\n",
            " 79%|███████▉  | 19/24 [00:07<00:02,  2.46it/s]\u001b[A\u001b[A"
          ],
          "name": "stderr"
        },
        {
          "output_type": "stream",
          "text": [
            "[3/4][18/24]\tLoss_D: 0.0003\tLoss_G: 50.2543\tD(x): 0.9997\tD(G(z)): 0.0000 / 0.0000\n"
          ],
          "name": "stdout"
        },
        {
          "output_type": "stream",
          "text": [
            "\n",
            "\n",
            " 83%|████████▎ | 20/24 [00:08<00:01,  2.48it/s]\u001b[A\u001b[A"
          ],
          "name": "stderr"
        },
        {
          "output_type": "stream",
          "text": [
            "[3/4][19/24]\tLoss_D: 0.0004\tLoss_G: 50.5190\tD(x): 0.9996\tD(G(z)): 0.0000 / 0.0000\n"
          ],
          "name": "stdout"
        },
        {
          "output_type": "stream",
          "text": [
            "\n",
            "\n",
            " 88%|████████▊ | 21/24 [00:08<00:01,  2.48it/s]\u001b[A\u001b[A"
          ],
          "name": "stderr"
        },
        {
          "output_type": "stream",
          "text": [
            "[3/4][20/24]\tLoss_D: 0.0015\tLoss_G: 50.3807\tD(x): 0.9985\tD(G(z)): 0.0000 / 0.0000\n"
          ],
          "name": "stdout"
        },
        {
          "output_type": "stream",
          "text": [
            "\n",
            "\n",
            " 92%|█████████▏| 22/24 [00:08<00:00,  2.49it/s]\u001b[A\u001b[A"
          ],
          "name": "stderr"
        },
        {
          "output_type": "stream",
          "text": [
            "[3/4][21/24]\tLoss_D: 0.0001\tLoss_G: 50.6947\tD(x): 0.9999\tD(G(z)): 0.0000 / 0.0000\n"
          ],
          "name": "stdout"
        },
        {
          "output_type": "stream",
          "text": [
            "\n",
            "\n",
            " 96%|█████████▌| 23/24 [00:09<00:00,  2.49it/s]\u001b[A\u001b[A"
          ],
          "name": "stderr"
        },
        {
          "output_type": "stream",
          "text": [
            "[3/4][22/24]\tLoss_D: 0.0001\tLoss_G: 50.9908\tD(x): 0.9999\tD(G(z)): 0.0000 / 0.0000\n",
            "[3/4][23/24]\tLoss_D: 0.0000\tLoss_G: 50.5737\tD(x): 1.0000\tD(G(z)): 0.0000 / 0.0000\n"
          ],
          "name": "stdout"
        },
        {
          "output_type": "stream",
          "text": [
            "\n",
            "\n",
            "100%|██████████| 24/24 [00:09<00:00,  2.51it/s]\n"
          ],
          "name": "stderr"
        }
      ]
    },
    {
      "cell_type": "code",
      "metadata": {
        "id": "4N0yiqHfzOzX",
        "colab_type": "code",
        "colab": {
          "base_uri": "https://localhost:8080/",
          "height": 323
        },
        "outputId": "87eefe85-91e4-42f7-8a63-0dd5f6135d25"
      },
      "source": [
        "print(generator)"
      ],
      "execution_count": 9,
      "outputs": [
        {
          "output_type": "stream",
          "text": [
            "Generator(\n",
            "  (_model): Sequential(\n",
            "    (0): ConvTranspose2d(100, 1024, kernel_size=(4, 4), stride=(1, 1), bias=False)\n",
            "    (1): BatchNorm2d(1024, eps=1e-05, momentum=0.1, affine=True, track_running_stats=True)\n",
            "    (2): ReLU(inplace=True)\n",
            "    (3): ConvTranspose2d(1024, 512, kernel_size=(4, 4), stride=(2, 2), padding=(1, 1), bias=False)\n",
            "    (4): BatchNorm2d(512, eps=1e-05, momentum=0.1, affine=True, track_running_stats=True)\n",
            "    (5): ReLU(inplace=True)\n",
            "    (6): ConvTranspose2d(512, 256, kernel_size=(4, 4), stride=(2, 2), padding=(1, 1), bias=False)\n",
            "    (7): BatchNorm2d(256, eps=1e-05, momentum=0.1, affine=True, track_running_stats=True)\n",
            "    (8): ReLU(inplace=True)\n",
            "    (9): ConvTranspose2d(256, 128, kernel_size=(4, 4), stride=(2, 2), padding=(1, 1), bias=False)\n",
            "    (10): BatchNorm2d(128, eps=1e-05, momentum=0.1, affine=True, track_running_stats=True)\n",
            "    (11): ReLU(inplace=True)\n",
            "    (12): ConvTranspose2d(128, 1, kernel_size=(4, 4), stride=(2, 2), padding=(1, 1), bias=False)\n",
            "    (13): Tanh()\n",
            "  )\n",
            ")\n"
          ],
          "name": "stdout"
        }
      ]
    },
    {
      "cell_type": "code",
      "metadata": {
        "id": "o-Z61n2SAhlv",
        "colab_type": "code",
        "colab": {
          "base_uri": "https://localhost:8080/",
          "height": 306
        },
        "outputId": "13f49e6d-2533-4546-aa1a-5d8c848f1558"
      },
      "source": [
        "print(discriminator)"
      ],
      "execution_count": 10,
      "outputs": [
        {
          "output_type": "stream",
          "text": [
            "Discriminator(\n",
            "  (_model): Sequential(\n",
            "    (0): Conv2d(1, 128, kernel_size=(4, 4), stride=(2, 2), padding=(1, 1), bias=False)\n",
            "    (1): LeakyReLU(negative_slope=0.2, inplace=True)\n",
            "    (2): Conv2d(128, 256, kernel_size=(4, 4), stride=(2, 2), padding=(1, 1), bias=False)\n",
            "    (3): BatchNorm2d(256, eps=1e-05, momentum=0.1, affine=True, track_running_stats=True)\n",
            "    (4): LeakyReLU(negative_slope=0.2, inplace=True)\n",
            "    (5): Conv2d(256, 512, kernel_size=(4, 4), stride=(2, 2), padding=(1, 1), bias=False)\n",
            "    (6): BatchNorm2d(512, eps=1e-05, momentum=0.1, affine=True, track_running_stats=True)\n",
            "    (7): LeakyReLU(negative_slope=0.2, inplace=True)\n",
            "    (8): Conv2d(512, 1024, kernel_size=(4, 4), stride=(2, 2), padding=(1, 1), bias=False)\n",
            "    (9): BatchNorm2d(1024, eps=1e-05, momentum=0.1, affine=True, track_running_stats=True)\n",
            "    (10): LeakyReLU(negative_slope=0.2, inplace=True)\n",
            "    (11): Conv2d(1024, 1, kernel_size=(4, 4), stride=(1, 1), bias=False)\n",
            "    (12): Sigmoid()\n",
            "  )\n",
            ")\n"
          ],
          "name": "stdout"
        }
      ]
    }
  ]
}