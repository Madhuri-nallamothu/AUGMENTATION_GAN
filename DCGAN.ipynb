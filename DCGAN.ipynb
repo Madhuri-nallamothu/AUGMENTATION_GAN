{
  "nbformat": 4,
  "nbformat_minor": 0,
  "metadata": {
    "colab": {
      "name": "DCGAN",
      "provenance": [],
      "collapsed_sections": []
    },
    "kernelspec": {
      "name": "python3",
      "display_name": "Python 3"
    },
    "accelerator": "GPU"
  },
  "cells": [
    {
      "cell_type": "code",
      "metadata": {
        "id": "gLM6o1DSjcXJ",
        "colab_type": "code",
        "colab": {}
      },
      "source": [
        "from __future__ import print_function\n",
        "#%matplotlib inline\n",
        "import argparse\n",
        "import os\n",
        "import random\n",
        "import torch\n",
        "import torch.nn as nn\n",
        "import torch.nn.parallel\n",
        "import torch.backends.cudnn as cudnn\n",
        "import torch.optim as optim\n",
        "import torch.utils.data\n",
        "import torchvision.datasets as datasets\n",
        "import torchvision.transforms as transforms\n",
        "import torchvision.utils as vutils\n",
        "import numpy as np\n",
        "import matplotlib.pyplot as plt\n",
        "import matplotlib.animation as animation\n",
        "from IPython.display import HTML\n",
        "from tqdm import tqdm"
      ],
      "execution_count": 1,
      "outputs": []
    },
    {
      "cell_type": "code",
      "metadata": {
        "id": "hZ7QF4YbN1Pl",
        "colab_type": "code",
        "colab": {
          "base_uri": "https://localhost:8080/",
          "height": 139
        },
        "outputId": "cb344264-246b-4508-b863-8d58906aad0c"
      },
      "source": [
        "from google.colab import drive\n",
        "drive.mount('/content/drive') \n",
        "%cd /content/drive/My\\ Drive/"
      ],
      "execution_count": 2,
      "outputs": [
        {
          "output_type": "stream",
          "text": [
            "Go to this URL in a browser: https://accounts.google.com/o/oauth2/auth?client_id=947318989803-6bn6qk8qdgf4n4g3pfee6491hc0brc4i.apps.googleusercontent.com&redirect_uri=urn%3aietf%3awg%3aoauth%3a2.0%3aoob&response_type=code&scope=email%20https%3a%2f%2fwww.googleapis.com%2fauth%2fdocs.test%20https%3a%2f%2fwww.googleapis.com%2fauth%2fdrive%20https%3a%2f%2fwww.googleapis.com%2fauth%2fdrive.photos.readonly%20https%3a%2f%2fwww.googleapis.com%2fauth%2fpeopleapi.readonly\n",
            "\n",
            "Enter your authorization code:\n",
            "··········\n",
            "Mounted at /content/drive\n",
            "/content/drive/My Drive\n"
          ],
          "name": "stdout"
        }
      ]
    },
    {
      "cell_type": "code",
      "metadata": {
        "id": "5MdEuFt0nkmc",
        "colab_type": "code",
        "colab": {}
      },
      "source": [
        "device = torch.device('cuda' if torch.cuda.is_available() else 'cpu')\n",
        "data_dir = 'div2k' #Jus to check\n",
        "batch_size = 64\n",
        "\n",
        "#All images will be resized to this size using a transformer.\n",
        "image_size = 64\n",
        "\n",
        "# Number of channels in the training images. For color images this is 3\n",
        "nc = 1\n",
        "\n",
        "# Size of z latent vector (i.e. size of generator input)\n",
        "nz = 100\n",
        "\n",
        "# Size of feature maps in generator\n",
        "ngf = 64\n",
        "\n",
        "# Size of feature maps in discriminator\n",
        "ndf = 64\n",
        "\n",
        "# Number of training epochs\n",
        "num_epochs = 4\n",
        "\n",
        "# Learning rate for optimizers\n",
        "lr = 0.0002\n",
        "\n",
        "# Beta1 hyperparam for Adam optimizers\n",
        "beta1 = 0.5\n",
        "# Beta2 hyperparam for Adam optimizers\n",
        "beta2 = 0.999\n",
        "\n",
        "real_label = 1.\n",
        "fake_label = 0.\n",
        "# Input to generator\n",
        "fixed_noise = torch.randn(64, nz, 1, 1, device=device)\n",
        "# Define Loss function\n",
        "criterion = nn.BCELoss()"
      ],
      "execution_count": 3,
      "outputs": []
    },
    {
      "cell_type": "code",
      "metadata": {
        "id": "HHXGFAtBHH4R",
        "colab_type": "code",
        "colab": {}
      },
      "source": [
        "def weights_init(m):\n",
        "    classname = m.__class__.__name__\n",
        "    if classname.find('Conv') != -1:\n",
        "        nn.init.normal_(m.weight.data, 0.0, 0.02)\n",
        "    elif classname.find('BatchNorm') != -1:\n",
        "        nn.init.normal_(m.weight.data, 1.0, 0.02)\n",
        "        nn.init.constant_(m.bias.data, 0)"
      ],
      "execution_count": 4,
      "outputs": []
    },
    {
      "cell_type": "code",
      "metadata": {
        "id": "F4uvXCj5zzNa",
        "colab_type": "code",
        "colab": {}
      },
      "source": [
        "class Generator(nn.Module):\n",
        "\n",
        "    def __init__(self):\n",
        "        super(Generator, self).__init__()\n",
        "        self._model = nn.Sequential(\n",
        "            # input is Z, going into a convolution\n",
        "            #i/p,o/p,kernel size,stride,padding\n",
        "            nn.ConvTranspose2d( nz, ngf * 16, 5, 1, 0, bias=False),\n",
        "            nn.BatchNorm2d(ngf * 16),\n",
        "            nn.ReLU(True),\n",
        "            # state size. (ngf*16) x 4 x 4\n",
        "            nn.ConvTranspose2d( ngf * 16, ngf * 8, 4, 2, 1, bias=False),\n",
        "            nn.BatchNorm2d(ngf * 8),\n",
        "            nn.ReLU(True),\n",
        "            # state size. (ngf*8) x 8 x 8\n",
        "            nn.ConvTranspose2d(ngf * 8, ngf * 4, 4, 2, 1, bias=False),\n",
        "            nn.BatchNorm2d(ngf * 4),\n",
        "            nn.ReLU(True),\n",
        "            # state size. (ngf*4) x 16 x 16\n",
        "            nn.ConvTranspose2d( ngf * 4, ngf * 2, 4, 2, 1, bias=False),\n",
        "            nn.BatchNorm2d(ngf * 2),\n",
        "            nn.ReLU(True),\n",
        "            # state size. (ngf*2) x 32 x 32\n",
        "            nn.ConvTranspose2d( ngf*2, nc, 4, 2, 1, bias=False),\n",
        "            nn.Tanh()\n",
        "            # state size. (nc) x 64 x 64\n",
        "        )\n",
        "\n",
        "    def forward(self, input):\n",
        "        return self._model(input)"
      ],
      "execution_count": 5,
      "outputs": []
    },
    {
      "cell_type": "code",
      "metadata": {
        "id": "CEb5BlY5GO4_",
        "colab_type": "code",
        "colab": {}
      },
      "source": [
        "class Discriminator(nn.Module):\n",
        "\n",
        "    def __init__(self):\n",
        "        super(Discriminator, self).__init__()\n",
        "        self._model = nn.Sequential(\n",
        "            # input is (nc) x 64 x 64\n",
        "            nn.Conv2d(nc, ndf * 2, 4, 2, 1, bias=False),\n",
        "            nn.LeakyReLU(0.2, inplace=True),\n",
        "            # state size. (ndf*2) x 32 x 32\n",
        "            nn.Conv2d(ndf * 2, ndf * 4, 4, 2, 1, bias=False),\n",
        "            nn.BatchNorm2d(ndf * 4),\n",
        "            nn.LeakyReLU(0.2, inplace=True),\n",
        "            # state size. (ndf*4) x 16 x 16\n",
        "            nn.Conv2d(ndf * 4, ndf * 8, 4, 2, 1, bias=False),\n",
        "            nn.BatchNorm2d(ndf * 8),\n",
        "            nn.LeakyReLU(0.2, inplace=True),\n",
        "            # state size. (ndf*8) x 8 x 8\n",
        "            nn.Conv2d(ndf * 8, ndf * 16, 4, 2, 1, bias=False),\n",
        "            nn.BatchNorm2d(ndf * 16),\n",
        "            nn.LeakyReLU(0.2, inplace=True),\n",
        "            # state size. (ndf*16) x 4 x 4\n",
        "            nn.Conv2d(ndf * 16, 1, 4, 1, 0, bias=False),\n",
        "            nn.Sigmoid()\n",
        "        )\n",
        "\n",
        "    def forward(self, input):\n",
        "        return self._model(input)"
      ],
      "execution_count": 6,
      "outputs": []
    },
    {
      "cell_type": "code",
      "metadata": {
        "id": "8la1EFeB3zRF",
        "colab_type": "code",
        "colab": {
          "base_uri": "https://localhost:8080/",
          "height": 918
        },
        "outputId": "fa088fa9-67fe-4ad7-dc54-2739f8827c8f"
      },
      "source": [
        "from torchsummary import summary\n",
        "\n",
        "summary(generator, (100, 1, 1))\n",
        "summary(discriminator, (1, 64, 64))"
      ],
      "execution_count": 15,
      "outputs": [
        {
          "output_type": "stream",
          "text": [
            "----------------------------------------------------------------\n",
            "        Layer (type)               Output Shape         Param #\n",
            "================================================================\n",
            "   ConvTranspose2d-1           [-1, 1024, 4, 4]       1,638,400\n",
            "       BatchNorm2d-2           [-1, 1024, 4, 4]           2,048\n",
            "              ReLU-3           [-1, 1024, 4, 4]               0\n",
            "   ConvTranspose2d-4            [-1, 512, 8, 8]       8,388,608\n",
            "       BatchNorm2d-5            [-1, 512, 8, 8]           1,024\n",
            "              ReLU-6            [-1, 512, 8, 8]               0\n",
            "   ConvTranspose2d-7          [-1, 256, 16, 16]       2,097,152\n",
            "       BatchNorm2d-8          [-1, 256, 16, 16]             512\n",
            "              ReLU-9          [-1, 256, 16, 16]               0\n",
            "  ConvTranspose2d-10          [-1, 128, 32, 32]         524,288\n",
            "      BatchNorm2d-11          [-1, 128, 32, 32]             256\n",
            "             ReLU-12          [-1, 128, 32, 32]               0\n",
            "  ConvTranspose2d-13            [-1, 1, 64, 64]           2,048\n",
            "             Tanh-14            [-1, 1, 64, 64]               0\n",
            "================================================================\n",
            "Total params: 12,654,336\n",
            "Trainable params: 12,654,336\n",
            "Non-trainable params: 0\n",
            "----------------------------------------------------------------\n",
            "Input size (MB): 0.00\n",
            "Forward/backward pass size (MB): 5.69\n",
            "Params size (MB): 48.27\n",
            "Estimated Total Size (MB): 53.96\n",
            "----------------------------------------------------------------\n",
            "----------------------------------------------------------------\n",
            "        Layer (type)               Output Shape         Param #\n",
            "================================================================\n",
            "            Conv2d-1          [-1, 128, 32, 32]           2,048\n",
            "         LeakyReLU-2          [-1, 128, 32, 32]               0\n",
            "            Conv2d-3          [-1, 256, 16, 16]         524,288\n",
            "       BatchNorm2d-4          [-1, 256, 16, 16]             512\n",
            "         LeakyReLU-5          [-1, 256, 16, 16]               0\n",
            "            Conv2d-6            [-1, 512, 8, 8]       2,097,152\n",
            "       BatchNorm2d-7            [-1, 512, 8, 8]           1,024\n",
            "         LeakyReLU-8            [-1, 512, 8, 8]               0\n",
            "            Conv2d-9           [-1, 1024, 4, 4]       8,388,608\n",
            "      BatchNorm2d-10           [-1, 1024, 4, 4]           2,048\n",
            "        LeakyReLU-11           [-1, 1024, 4, 4]               0\n",
            "           Conv2d-12              [-1, 1, 1, 1]          16,384\n",
            "          Sigmoid-13              [-1, 1, 1, 1]               0\n",
            "================================================================\n",
            "Total params: 11,032,064\n",
            "Trainable params: 11,032,064\n",
            "Non-trainable params: 0\n",
            "----------------------------------------------------------------\n",
            "Input size (MB): 0.02\n",
            "Forward/backward pass size (MB): 4.63\n",
            "Params size (MB): 42.08\n",
            "Estimated Total Size (MB): 46.72\n",
            "----------------------------------------------------------------\n"
          ],
          "name": "stdout"
        }
      ]
    },
    {
      "cell_type": "code",
      "metadata": {
        "id": "xn5d4tccMIyL",
        "colab_type": "code",
        "colab": {}
      },
      "source": [
        "img_list = []\n",
        "G_losses = []\n",
        "D_losses = []\n",
        "\n",
        "def train_gan(generator, discriminator, gen_optimizer, dis_optimizer, train_loader, valid_loader):\n",
        "        iters = 0\n",
        "        print(\"GAN training started :D...\")\n",
        "\n",
        "        for epoch in range(num_epochs):\n",
        "            # For each batch in the dataloader\n",
        "            for i, data in enumerate(tqdm(train_loader, 0)):\n",
        "\n",
        "                # (1) Update D network: maximize log(D(x)) + log(1 - D(G(z)))\n",
        "                ## Train with all-real batch\n",
        "                discriminator.zero_grad()\n",
        "                # Format batch\n",
        "                b_real = data[0].to(device)\n",
        "                b_size = b_real.size(0)\n",
        "                label = torch.full((b_size,), real_label, device=device)\n",
        "                # Forward pass real batch through D\n",
        "                output = discriminator(b_real).view(-1)\n",
        "                # Calculate loss on all-real batch\n",
        "                errD_real = criterion(output, label)\n",
        "                # Calculate gradients for D in backward pass\n",
        "                errD_real.backward()\n",
        "                D_x = output.mean().item()\n",
        "\n",
        "                ## Train with all-fake batch\n",
        "                # Generate batch of latent vectors\n",
        "                noise = torch.randn(b_size, nz, 1, 1, device=device)\n",
        "                # Generate fake image batch with G\n",
        "                fake = generator(noise)\n",
        "                label.fill_(fake_label)\n",
        "                # Classify all fake batch with D\n",
        "                output = discriminator(fake.detach()).view(-1)\n",
        "                # Calculate D's loss on the all-fake batch\n",
        "                errD_fake = criterion(output, label)\n",
        "                # Calculate the gradients for this batch\n",
        "                errD_fake.backward()\n",
        "                D_G_z1 = output.mean().item()\n",
        "                # Add the gradients from the all-real and all-fake batches\n",
        "                errD = errD_real + errD_fake\n",
        "                # Update D\n",
        "                dis_optimizer.step()\n",
        "\n",
        "                # (2) Update G network: maximize log(D(G(z)))\n",
        "                generator.zero_grad()\n",
        "                label.fill_(real_label)  # fake labels are real for generator cost\n",
        "                # Since we just updated D, perform another forward pass of all-fake batch through D\n",
        "                output = discriminator(fake).view(-1)\n",
        "                # Calculate G's loss based on this output\n",
        "                errG = criterion(output, label)\n",
        "                # Calculate gradients for G\n",
        "                errG.backward()\n",
        "                D_G_z2 = output.mean().item()\n",
        "                # Update G\n",
        "                gen_optimizer.step()\n",
        "\n",
        "                # Output training stats\n",
        "                #if i % 50 == 0:\n",
        "                print('[%d/%d][%d/%d]\\tLoss_D: %.4f\\tLoss_G: %.4f\\tD(x): %.4f\\tD(G(z)): %.4f / %.4f'\n",
        "                      % (epoch, num_epochs, i, len(train_loader),\n",
        "                          errD.item(), errG.item(), D_x, D_G_z1, D_G_z2))\n",
        "\n",
        "                # Save Losses for plotting later\n",
        "                G_losses.append(errG.item())\n",
        "                D_losses.append(errD.item())\n",
        "\n",
        "                # Check how the generator is doing by saving G's output on fixed_noise\n",
        "                if (iters % 500 == 0) or ((epoch == num_epochs-1) and (i == len(train_loader)-1)):\n",
        "                    with torch.no_grad():\n",
        "                        fake = generator(fixed_noise).detach().cpu()\n",
        "                    img_list.append(vutils.make_grid(fake, padding=2, normalize=True))\n",
        "\n",
        "                iters += 1\n"
      ],
      "execution_count": 7,
      "outputs": []
    },
    {
      "cell_type": "code",
      "metadata": {
        "id": "LWeXmdInu38z",
        "colab_type": "code",
        "colab": {
          "base_uri": "https://localhost:8080/",
          "height": 1000
        },
        "outputId": "acd495b8-dc60-41ce-a6d8-3d4659952e1a"
      },
      "source": [
        "mu = [0.5]\n",
        "sigma = [0.5]\n",
        "#Originally authors used just scaling\n",
        "transform = transforms.Compose([transforms.RandomHorizontalFlip(),\n",
        "                                    transforms.Grayscale(num_output_channels=1),\n",
        "                                    transforms.Resize((64,64)),\n",
        "                                    transforms.ToTensor(),\n",
        "                                    transforms.Normalize(mu, sigma)])\n",
        "#train_set = datasets.ImageFolder(os.path.join(\n",
        "#      data_dir, \"train/\"), transform=transform)\n",
        "train_set = datasets.STL10(root='./data', split='train', download=True,\n",
        "                                transform=transform)\n",
        "train_loader = torch.utils.data.DataLoader(\n",
        "      train_set, batch_size=batch_size, shuffle=True)\n",
        "#valid_set = datasets.ImageFolder(os.path.join( \n",
        "#      data_dir, \"val/\"), transform=transform)\n",
        "valid_set = datasets.STL10(root='./data', split='test', download=True,\n",
        "                                transform=transform)\n",
        "valid_loader = torch.utils.data.DataLoader(\n",
        "      valid_set, batch_size=batch_size, shuffle=False)\n",
        "\n",
        "generator = Generator().to(device)\n",
        "discriminator = Discriminator().to(device)\n",
        "generator.apply(weights_init)\n",
        "discriminator.apply(weights_init)\n",
        "gen_optimizer = optim.Adam(generator.parameters(), lr=lr, betas=(beta1, beta2))\n",
        "dis_optimizer = optim.Adam(discriminator.parameters(), lr=lr, betas=(beta1, beta2))\n",
        "train_gan(generator, discriminator, gen_optimizer, dis_optimizer, train_loader, valid_loader)"
      ],
      "execution_count": 8,
      "outputs": [
        {
          "output_type": "stream",
          "text": [
            "Files already downloaded and verified\n",
            "Files already downloaded and verified\n"
          ],
          "name": "stdout"
        },
        {
          "output_type": "stream",
          "text": [
            "\r  0%|          | 0/79 [00:00<?, ?it/s]"
          ],
          "name": "stderr"
        },
        {
          "output_type": "stream",
          "text": [
            "GAN training started :D...\n"
          ],
          "name": "stdout"
        },
        {
          "output_type": "stream",
          "text": [
            "\r  1%|▏         | 1/79 [00:00<00:50,  1.54it/s]"
          ],
          "name": "stderr"
        },
        {
          "output_type": "stream",
          "text": [
            "[0/4][0/79]\tLoss_D: 1.3247\tLoss_G: 17.3728\tD(x): 0.6303\tD(G(z)): 0.4068 / 0.0000\n"
          ],
          "name": "stdout"
        },
        {
          "output_type": "stream",
          "text": [
            "\r  3%|▎         | 2/79 [00:01<00:43,  1.78it/s]"
          ],
          "name": "stderr"
        },
        {
          "output_type": "stream",
          "text": [
            "[0/4][1/79]\tLoss_D: 2.3498\tLoss_G: 18.1060\tD(x): 0.8093\tD(G(z)): 0.7438 / 0.0000\n"
          ],
          "name": "stdout"
        },
        {
          "output_type": "stream",
          "text": [
            "\r  4%|▍         | 3/79 [00:01<00:38,  2.00it/s]"
          ],
          "name": "stderr"
        },
        {
          "output_type": "stream",
          "text": [
            "[0/4][2/79]\tLoss_D: 2.8252\tLoss_G: 11.0848\tD(x): 0.3888\tD(G(z)): 0.2241 / 0.0000\n"
          ],
          "name": "stdout"
        },
        {
          "output_type": "stream",
          "text": [
            "\r  5%|▌         | 4/79 [00:01<00:34,  2.18it/s]"
          ],
          "name": "stderr"
        },
        {
          "output_type": "stream",
          "text": [
            "[0/4][3/79]\tLoss_D: 7.0167\tLoss_G: 20.0755\tD(x): 0.6043\tD(G(z)): 0.9739 / 0.0000\n"
          ],
          "name": "stdout"
        },
        {
          "output_type": "stream",
          "text": [
            "\r  6%|▋         | 5/79 [00:02<00:31,  2.34it/s]"
          ],
          "name": "stderr"
        },
        {
          "output_type": "stream",
          "text": [
            "[0/4][4/79]\tLoss_D: 2.4895\tLoss_G: 12.4141\tD(x): 0.4686\tD(G(z)): 0.0108 / 0.0000\n"
          ],
          "name": "stdout"
        },
        {
          "output_type": "stream",
          "text": [
            "\r  8%|▊         | 6/79 [00:02<00:29,  2.46it/s]"
          ],
          "name": "stderr"
        },
        {
          "output_type": "stream",
          "text": [
            "[0/4][5/79]\tLoss_D: 5.9911\tLoss_G: 24.6407\tD(x): 0.7735\tD(G(z)): 0.9818 / 0.0000\n"
          ],
          "name": "stdout"
        },
        {
          "output_type": "stream",
          "text": [
            "\r  9%|▉         | 7/79 [00:02<00:28,  2.53it/s]"
          ],
          "name": "stderr"
        },
        {
          "output_type": "stream",
          "text": [
            "[0/4][6/79]\tLoss_D: 1.2117\tLoss_G: 18.8771\tD(x): 0.5971\tD(G(z)): 0.0004 / 0.0000\n"
          ],
          "name": "stdout"
        },
        {
          "output_type": "stream",
          "text": [
            "\r 10%|█         | 8/79 [00:03<00:27,  2.60it/s]"
          ],
          "name": "stderr"
        },
        {
          "output_type": "stream",
          "text": [
            "[0/4][7/79]\tLoss_D: 4.6374\tLoss_G: 29.0971\tD(x): 0.8081\tD(G(z)): 0.9621 / 0.0000\n"
          ],
          "name": "stdout"
        },
        {
          "output_type": "stream",
          "text": [
            "\r 11%|█▏        | 9/79 [00:03<00:26,  2.66it/s]"
          ],
          "name": "stderr"
        },
        {
          "output_type": "stream",
          "text": [
            "[0/4][8/79]\tLoss_D: 1.5649\tLoss_G: 28.6857\tD(x): 0.5155\tD(G(z)): 0.0000 / 0.0000\n"
          ],
          "name": "stdout"
        },
        {
          "output_type": "stream",
          "text": [
            "\r 13%|█▎        | 10/79 [00:03<00:25,  2.70it/s]"
          ],
          "name": "stderr"
        },
        {
          "output_type": "stream",
          "text": [
            "[0/4][9/79]\tLoss_D: 0.6972\tLoss_G: 12.6098\tD(x): 0.7354\tD(G(z)): 0.0004 / 0.0000\n"
          ],
          "name": "stdout"
        },
        {
          "output_type": "stream",
          "text": [
            "\r 14%|█▍        | 11/79 [00:04<00:24,  2.72it/s]"
          ],
          "name": "stderr"
        },
        {
          "output_type": "stream",
          "text": [
            "[0/4][10/79]\tLoss_D: 12.5763\tLoss_G: 28.1425\tD(x): 0.9364\tD(G(z)): 1.0000 / 0.0000\n"
          ],
          "name": "stdout"
        },
        {
          "output_type": "stream",
          "text": [
            "\r 15%|█▌        | 12/79 [00:04<00:24,  2.74it/s]"
          ],
          "name": "stderr"
        },
        {
          "output_type": "stream",
          "text": [
            "[0/4][11/79]\tLoss_D: 0.5592\tLoss_G: 31.8856\tD(x): 0.7891\tD(G(z)): 0.0000 / 0.0000\n"
          ],
          "name": "stdout"
        },
        {
          "output_type": "stream",
          "text": [
            "\r 16%|█▋        | 13/79 [00:04<00:23,  2.76it/s]"
          ],
          "name": "stderr"
        },
        {
          "output_type": "stream",
          "text": [
            "[0/4][12/79]\tLoss_D: 0.5268\tLoss_G: 29.1090\tD(x): 0.8077\tD(G(z)): 0.0000 / 0.0000\n"
          ],
          "name": "stdout"
        },
        {
          "output_type": "stream",
          "text": [
            "\r 18%|█▊        | 14/79 [00:05<00:23,  2.76it/s]"
          ],
          "name": "stderr"
        },
        {
          "output_type": "stream",
          "text": [
            "[0/4][13/79]\tLoss_D: 0.2475\tLoss_G: 12.5417\tD(x): 0.8542\tD(G(z)): 0.0001 / 0.0000\n"
          ],
          "name": "stdout"
        },
        {
          "output_type": "stream",
          "text": [
            "\r 19%|█▉        | 15/79 [00:05<00:23,  2.76it/s]"
          ],
          "name": "stderr"
        },
        {
          "output_type": "stream",
          "text": [
            "[0/4][14/79]\tLoss_D: 14.9713\tLoss_G: 32.1905\tD(x): 0.9584\tD(G(z)): 1.0000 / 0.0000\n"
          ],
          "name": "stdout"
        },
        {
          "output_type": "stream",
          "text": [
            "\r 20%|██        | 16/79 [00:06<00:22,  2.75it/s]"
          ],
          "name": "stderr"
        },
        {
          "output_type": "stream",
          "text": [
            "[0/4][15/79]\tLoss_D: 0.5453\tLoss_G: 42.3606\tD(x): 0.7902\tD(G(z)): 0.0000 / 0.0000\n"
          ],
          "name": "stdout"
        },
        {
          "output_type": "stream",
          "text": [
            "\r 22%|██▏       | 17/79 [00:06<00:22,  2.76it/s]"
          ],
          "name": "stderr"
        },
        {
          "output_type": "stream",
          "text": [
            "[0/4][16/79]\tLoss_D: 0.6672\tLoss_G: 45.7360\tD(x): 0.7690\tD(G(z)): 0.0000 / 0.0000\n"
          ],
          "name": "stdout"
        },
        {
          "output_type": "stream",
          "text": [
            "\r 23%|██▎       | 18/79 [00:06<00:22,  2.74it/s]"
          ],
          "name": "stderr"
        },
        {
          "output_type": "stream",
          "text": [
            "[0/4][17/79]\tLoss_D: 0.1216\tLoss_G: 47.0453\tD(x): 0.9021\tD(G(z)): 0.0000 / 0.0000\n"
          ],
          "name": "stdout"
        },
        {
          "output_type": "stream",
          "text": [
            "\r 24%|██▍       | 19/79 [00:07<00:21,  2.75it/s]"
          ],
          "name": "stderr"
        },
        {
          "output_type": "stream",
          "text": [
            "[0/4][18/79]\tLoss_D: 0.0331\tLoss_G: 47.4688\tD(x): 0.9693\tD(G(z)): 0.0000 / 0.0000\n"
          ],
          "name": "stdout"
        },
        {
          "output_type": "stream",
          "text": [
            "\r 25%|██▌       | 20/79 [00:07<00:21,  2.74it/s]"
          ],
          "name": "stderr"
        },
        {
          "output_type": "stream",
          "text": [
            "[0/4][19/79]\tLoss_D: 0.0708\tLoss_G: 47.1005\tD(x): 0.9438\tD(G(z)): 0.0000 / 0.0000\n"
          ],
          "name": "stdout"
        },
        {
          "output_type": "stream",
          "text": [
            "\r 27%|██▋       | 21/79 [00:07<00:21,  2.74it/s]"
          ],
          "name": "stderr"
        },
        {
          "output_type": "stream",
          "text": [
            "[0/4][20/79]\tLoss_D: 0.0190\tLoss_G: 47.2566\tD(x): 0.9835\tD(G(z)): 0.0000 / 0.0000\n"
          ],
          "name": "stdout"
        },
        {
          "output_type": "stream",
          "text": [
            "\r 28%|██▊       | 22/79 [00:08<00:20,  2.74it/s]"
          ],
          "name": "stderr"
        },
        {
          "output_type": "stream",
          "text": [
            "[0/4][21/79]\tLoss_D: 0.0095\tLoss_G: 47.2261\tD(x): 0.9908\tD(G(z)): 0.0000 / 0.0000\n"
          ],
          "name": "stdout"
        },
        {
          "output_type": "stream",
          "text": [
            "\r 29%|██▉       | 23/79 [00:08<00:20,  2.74it/s]"
          ],
          "name": "stderr"
        },
        {
          "output_type": "stream",
          "text": [
            "[0/4][22/79]\tLoss_D: 0.0022\tLoss_G: 47.0844\tD(x): 0.9979\tD(G(z)): 0.0000 / 0.0000\n"
          ],
          "name": "stdout"
        },
        {
          "output_type": "stream",
          "text": [
            "\r 30%|███       | 24/79 [00:08<00:20,  2.74it/s]"
          ],
          "name": "stderr"
        },
        {
          "output_type": "stream",
          "text": [
            "[0/4][23/79]\tLoss_D: 0.0062\tLoss_G: 47.3152\tD(x): 0.9939\tD(G(z)): 0.0000 / 0.0000\n"
          ],
          "name": "stdout"
        },
        {
          "output_type": "stream",
          "text": [
            "\r 32%|███▏      | 25/79 [00:09<00:19,  2.74it/s]"
          ],
          "name": "stderr"
        },
        {
          "output_type": "stream",
          "text": [
            "[0/4][24/79]\tLoss_D: 0.0017\tLoss_G: 47.2321\tD(x): 0.9983\tD(G(z)): 0.0000 / 0.0000\n"
          ],
          "name": "stdout"
        },
        {
          "output_type": "stream",
          "text": [
            "\r 33%|███▎      | 26/79 [00:09<00:19,  2.74it/s]"
          ],
          "name": "stderr"
        },
        {
          "output_type": "stream",
          "text": [
            "[0/4][25/79]\tLoss_D: 0.0190\tLoss_G: 47.0056\tD(x): 0.9837\tD(G(z)): 0.0000 / 0.0000\n"
          ],
          "name": "stdout"
        },
        {
          "output_type": "stream",
          "text": [
            "\r 34%|███▍      | 27/79 [00:10<00:18,  2.74it/s]"
          ],
          "name": "stderr"
        },
        {
          "output_type": "stream",
          "text": [
            "[0/4][26/79]\tLoss_D: 0.0027\tLoss_G: 46.7609\tD(x): 0.9974\tD(G(z)): 0.0000 / 0.0000\n"
          ],
          "name": "stdout"
        },
        {
          "output_type": "stream",
          "text": [
            "\r 35%|███▌      | 28/79 [00:10<00:18,  2.74it/s]"
          ],
          "name": "stderr"
        },
        {
          "output_type": "stream",
          "text": [
            "[0/4][27/79]\tLoss_D: 0.0054\tLoss_G: 46.7411\tD(x): 0.9946\tD(G(z)): 0.0000 / 0.0000\n"
          ],
          "name": "stdout"
        },
        {
          "output_type": "stream",
          "text": [
            "\r 37%|███▋      | 29/79 [00:10<00:18,  2.74it/s]"
          ],
          "name": "stderr"
        },
        {
          "output_type": "stream",
          "text": [
            "[0/4][28/79]\tLoss_D: 0.0020\tLoss_G: 47.1395\tD(x): 0.9980\tD(G(z)): 0.0000 / 0.0000\n"
          ],
          "name": "stdout"
        },
        {
          "output_type": "stream",
          "text": [
            "\r 38%|███▊      | 30/79 [00:11<00:17,  2.73it/s]"
          ],
          "name": "stderr"
        },
        {
          "output_type": "stream",
          "text": [
            "[0/4][29/79]\tLoss_D: 0.0076\tLoss_G: 46.9982\tD(x): 0.9929\tD(G(z)): 0.0000 / 0.0000\n"
          ],
          "name": "stdout"
        },
        {
          "output_type": "stream",
          "text": [
            "\r 39%|███▉      | 31/79 [00:11<00:17,  2.73it/s]"
          ],
          "name": "stderr"
        },
        {
          "output_type": "stream",
          "text": [
            "[0/4][30/79]\tLoss_D: 0.0016\tLoss_G: 47.0932\tD(x): 0.9984\tD(G(z)): 0.0000 / 0.0000\n"
          ],
          "name": "stdout"
        },
        {
          "output_type": "stream",
          "text": [
            "\r 41%|████      | 32/79 [00:11<00:17,  2.74it/s]"
          ],
          "name": "stderr"
        },
        {
          "output_type": "stream",
          "text": [
            "[0/4][31/79]\tLoss_D: 0.0027\tLoss_G: 46.9743\tD(x): 0.9973\tD(G(z)): 0.0000 / 0.0000\n"
          ],
          "name": "stdout"
        },
        {
          "output_type": "stream",
          "text": [
            "\r 42%|████▏     | 33/79 [00:12<00:16,  2.74it/s]"
          ],
          "name": "stderr"
        },
        {
          "output_type": "stream",
          "text": [
            "[0/4][32/79]\tLoss_D: 0.0005\tLoss_G: 46.7193\tD(x): 0.9995\tD(G(z)): 0.0000 / 0.0000\n"
          ],
          "name": "stdout"
        },
        {
          "output_type": "stream",
          "text": [
            "\r 43%|████▎     | 34/79 [00:12<00:16,  2.74it/s]"
          ],
          "name": "stderr"
        },
        {
          "output_type": "stream",
          "text": [
            "[0/4][33/79]\tLoss_D: 0.0035\tLoss_G: 46.9065\tD(x): 0.9966\tD(G(z)): 0.0000 / 0.0000\n"
          ],
          "name": "stdout"
        },
        {
          "output_type": "stream",
          "text": [
            "\r 44%|████▍     | 35/79 [00:12<00:16,  2.74it/s]"
          ],
          "name": "stderr"
        },
        {
          "output_type": "stream",
          "text": [
            "[0/4][34/79]\tLoss_D: 0.0008\tLoss_G: 46.9025\tD(x): 0.9992\tD(G(z)): 0.0000 / 0.0000\n"
          ],
          "name": "stdout"
        },
        {
          "output_type": "stream",
          "text": [
            "\r 46%|████▌     | 36/79 [00:13<00:15,  2.74it/s]"
          ],
          "name": "stderr"
        },
        {
          "output_type": "stream",
          "text": [
            "[0/4][35/79]\tLoss_D: 0.0012\tLoss_G: 47.0884\tD(x): 0.9988\tD(G(z)): 0.0000 / 0.0000\n"
          ],
          "name": "stdout"
        },
        {
          "output_type": "stream",
          "text": [
            "\r 47%|████▋     | 37/79 [00:13<00:15,  2.74it/s]"
          ],
          "name": "stderr"
        },
        {
          "output_type": "stream",
          "text": [
            "[0/4][36/79]\tLoss_D: 0.0033\tLoss_G: 46.8251\tD(x): 0.9968\tD(G(z)): 0.0000 / 0.0000\n"
          ],
          "name": "stdout"
        },
        {
          "output_type": "stream",
          "text": [
            "\r 48%|████▊     | 38/79 [00:14<00:14,  2.74it/s]"
          ],
          "name": "stderr"
        },
        {
          "output_type": "stream",
          "text": [
            "[0/4][37/79]\tLoss_D: 0.0040\tLoss_G: 46.9249\tD(x): 0.9960\tD(G(z)): 0.0000 / 0.0000\n"
          ],
          "name": "stdout"
        },
        {
          "output_type": "stream",
          "text": [
            "\r 49%|████▉     | 39/79 [00:14<00:14,  2.74it/s]"
          ],
          "name": "stderr"
        },
        {
          "output_type": "stream",
          "text": [
            "[0/4][38/79]\tLoss_D: 0.0012\tLoss_G: 46.5332\tD(x): 0.9988\tD(G(z)): 0.0000 / 0.0000\n"
          ],
          "name": "stdout"
        },
        {
          "output_type": "stream",
          "text": [
            "\r 51%|█████     | 40/79 [00:14<00:14,  2.74it/s]"
          ],
          "name": "stderr"
        },
        {
          "output_type": "stream",
          "text": [
            "[0/4][39/79]\tLoss_D: 0.0038\tLoss_G: 46.7217\tD(x): 0.9963\tD(G(z)): 0.0000 / 0.0000\n"
          ],
          "name": "stdout"
        },
        {
          "output_type": "stream",
          "text": [
            "\r 52%|█████▏    | 41/79 [00:15<00:13,  2.74it/s]"
          ],
          "name": "stderr"
        },
        {
          "output_type": "stream",
          "text": [
            "[0/4][40/79]\tLoss_D: 0.0014\tLoss_G: 46.7863\tD(x): 0.9987\tD(G(z)): 0.0000 / 0.0000\n"
          ],
          "name": "stdout"
        },
        {
          "output_type": "stream",
          "text": [
            "\r 53%|█████▎    | 42/79 [00:15<00:13,  2.74it/s]"
          ],
          "name": "stderr"
        },
        {
          "output_type": "stream",
          "text": [
            "[0/4][41/79]\tLoss_D: 0.0032\tLoss_G: 46.9534\tD(x): 0.9970\tD(G(z)): 0.0000 / 0.0000\n"
          ],
          "name": "stdout"
        },
        {
          "output_type": "stream",
          "text": [
            "\r 54%|█████▍    | 43/79 [00:15<00:13,  2.73it/s]"
          ],
          "name": "stderr"
        },
        {
          "output_type": "stream",
          "text": [
            "[0/4][42/79]\tLoss_D: 0.0008\tLoss_G: 46.9136\tD(x): 0.9992\tD(G(z)): 0.0000 / 0.0000\n"
          ],
          "name": "stdout"
        },
        {
          "output_type": "stream",
          "text": [
            "\r 56%|█████▌    | 44/79 [00:16<00:12,  2.73it/s]"
          ],
          "name": "stderr"
        },
        {
          "output_type": "stream",
          "text": [
            "[0/4][43/79]\tLoss_D: 0.0013\tLoss_G: 46.7643\tD(x): 0.9987\tD(G(z)): 0.0000 / 0.0000\n"
          ],
          "name": "stdout"
        },
        {
          "output_type": "stream",
          "text": [
            "\r 57%|█████▋    | 45/79 [00:16<00:12,  2.74it/s]"
          ],
          "name": "stderr"
        },
        {
          "output_type": "stream",
          "text": [
            "[0/4][44/79]\tLoss_D: 0.0164\tLoss_G: 46.6291\tD(x): 0.9882\tD(G(z)): 0.0000 / 0.0000\n"
          ],
          "name": "stdout"
        },
        {
          "output_type": "stream",
          "text": [
            "\r 58%|█████▊    | 46/79 [00:16<00:12,  2.74it/s]"
          ],
          "name": "stderr"
        },
        {
          "output_type": "stream",
          "text": [
            "[0/4][45/79]\tLoss_D: 0.0015\tLoss_G: 46.5706\tD(x): 0.9985\tD(G(z)): 0.0000 / 0.0000\n"
          ],
          "name": "stdout"
        },
        {
          "output_type": "stream",
          "text": [
            "\r 59%|█████▉    | 47/79 [00:17<00:11,  2.74it/s]"
          ],
          "name": "stderr"
        },
        {
          "output_type": "stream",
          "text": [
            "[0/4][46/79]\tLoss_D: 0.0007\tLoss_G: 46.5345\tD(x): 0.9993\tD(G(z)): 0.0000 / 0.0000\n"
          ],
          "name": "stdout"
        },
        {
          "output_type": "stream",
          "text": [
            "\r 61%|██████    | 48/79 [00:17<00:11,  2.74it/s]"
          ],
          "name": "stderr"
        },
        {
          "output_type": "stream",
          "text": [
            "[0/4][47/79]\tLoss_D: 0.0008\tLoss_G: 46.5227\tD(x): 0.9992\tD(G(z)): 0.0000 / 0.0000\n"
          ],
          "name": "stdout"
        },
        {
          "output_type": "stream",
          "text": [
            "\r 62%|██████▏   | 49/79 [00:18<00:11,  2.72it/s]"
          ],
          "name": "stderr"
        },
        {
          "output_type": "stream",
          "text": [
            "[0/4][48/79]\tLoss_D: 0.0012\tLoss_G: 47.0838\tD(x): 0.9988\tD(G(z)): 0.0000 / 0.0000\n"
          ],
          "name": "stdout"
        },
        {
          "output_type": "stream",
          "text": [
            "\r 63%|██████▎   | 50/79 [00:18<00:10,  2.73it/s]"
          ],
          "name": "stderr"
        },
        {
          "output_type": "stream",
          "text": [
            "[0/4][49/79]\tLoss_D: 0.0006\tLoss_G: 46.4531\tD(x): 0.9994\tD(G(z)): 0.0000 / 0.0000\n"
          ],
          "name": "stdout"
        },
        {
          "output_type": "stream",
          "text": [
            "\r 65%|██████▍   | 51/79 [00:18<00:10,  2.73it/s]"
          ],
          "name": "stderr"
        },
        {
          "output_type": "stream",
          "text": [
            "[0/4][50/79]\tLoss_D: 0.0017\tLoss_G: 46.3816\tD(x): 0.9983\tD(G(z)): 0.0000 / 0.0000\n"
          ],
          "name": "stdout"
        },
        {
          "output_type": "stream",
          "text": [
            "\r 66%|██████▌   | 52/79 [00:19<00:09,  2.73it/s]"
          ],
          "name": "stderr"
        },
        {
          "output_type": "stream",
          "text": [
            "[0/4][51/79]\tLoss_D: 0.0017\tLoss_G: 46.5345\tD(x): 0.9983\tD(G(z)): 0.0000 / 0.0000\n"
          ],
          "name": "stdout"
        },
        {
          "output_type": "stream",
          "text": [
            "\r 67%|██████▋   | 53/79 [00:19<00:09,  2.74it/s]"
          ],
          "name": "stderr"
        },
        {
          "output_type": "stream",
          "text": [
            "[0/4][52/79]\tLoss_D: 0.0008\tLoss_G: 46.2468\tD(x): 0.9992\tD(G(z)): 0.0000 / 0.0000\n"
          ],
          "name": "stdout"
        },
        {
          "output_type": "stream",
          "text": [
            "\r 68%|██████▊   | 54/79 [00:19<00:09,  2.74it/s]"
          ],
          "name": "stderr"
        },
        {
          "output_type": "stream",
          "text": [
            "[0/4][53/79]\tLoss_D: 0.0008\tLoss_G: 46.4800\tD(x): 0.9992\tD(G(z)): 0.0000 / 0.0000\n"
          ],
          "name": "stdout"
        },
        {
          "output_type": "stream",
          "text": [
            "\r 70%|██████▉   | 55/79 [00:20<00:08,  2.73it/s]"
          ],
          "name": "stderr"
        },
        {
          "output_type": "stream",
          "text": [
            "[0/4][54/79]\tLoss_D: 0.0023\tLoss_G: 46.4835\tD(x): 0.9978\tD(G(z)): 0.0000 / 0.0000\n"
          ],
          "name": "stdout"
        },
        {
          "output_type": "stream",
          "text": [
            "\r 71%|███████   | 56/79 [00:20<00:08,  2.73it/s]"
          ],
          "name": "stderr"
        },
        {
          "output_type": "stream",
          "text": [
            "[0/4][55/79]\tLoss_D: 0.0004\tLoss_G: 46.4701\tD(x): 0.9996\tD(G(z)): 0.0000 / 0.0000\n"
          ],
          "name": "stdout"
        },
        {
          "output_type": "stream",
          "text": [
            "\r 72%|███████▏  | 57/79 [00:21<00:08,  2.71it/s]"
          ],
          "name": "stderr"
        },
        {
          "output_type": "stream",
          "text": [
            "[0/4][56/79]\tLoss_D: 0.0005\tLoss_G: 46.4406\tD(x): 0.9995\tD(G(z)): 0.0000 / 0.0000\n"
          ],
          "name": "stdout"
        },
        {
          "output_type": "stream",
          "text": [
            "\r 73%|███████▎  | 58/79 [00:21<00:07,  2.72it/s]"
          ],
          "name": "stderr"
        },
        {
          "output_type": "stream",
          "text": [
            "[0/4][57/79]\tLoss_D: 0.0014\tLoss_G: 46.2389\tD(x): 0.9986\tD(G(z)): 0.0000 / 0.0000\n"
          ],
          "name": "stdout"
        },
        {
          "output_type": "stream",
          "text": [
            "\r 75%|███████▍  | 59/79 [00:21<00:07,  2.72it/s]"
          ],
          "name": "stderr"
        },
        {
          "output_type": "stream",
          "text": [
            "[0/4][58/79]\tLoss_D: 0.0005\tLoss_G: 46.7728\tD(x): 0.9995\tD(G(z)): 0.0000 / 0.0000\n"
          ],
          "name": "stdout"
        },
        {
          "output_type": "stream",
          "text": [
            "\r 76%|███████▌  | 60/79 [00:22<00:06,  2.72it/s]"
          ],
          "name": "stderr"
        },
        {
          "output_type": "stream",
          "text": [
            "[0/4][59/79]\tLoss_D: 0.0010\tLoss_G: 46.5534\tD(x): 0.9990\tD(G(z)): 0.0000 / 0.0000\n"
          ],
          "name": "stdout"
        },
        {
          "output_type": "stream",
          "text": [
            "\r 77%|███████▋  | 61/79 [00:22<00:06,  2.72it/s]"
          ],
          "name": "stderr"
        },
        {
          "output_type": "stream",
          "text": [
            "[0/4][60/79]\tLoss_D: 0.0006\tLoss_G: 46.5036\tD(x): 0.9994\tD(G(z)): 0.0000 / 0.0000\n"
          ],
          "name": "stdout"
        },
        {
          "output_type": "stream",
          "text": [
            "\r 78%|███████▊  | 62/79 [00:22<00:06,  2.71it/s]"
          ],
          "name": "stderr"
        },
        {
          "output_type": "stream",
          "text": [
            "[0/4][61/79]\tLoss_D: 0.0005\tLoss_G: 46.3165\tD(x): 0.9995\tD(G(z)): 0.0000 / 0.0000\n"
          ],
          "name": "stdout"
        },
        {
          "output_type": "stream",
          "text": [
            "\r 80%|███████▉  | 63/79 [00:23<00:05,  2.71it/s]"
          ],
          "name": "stderr"
        },
        {
          "output_type": "stream",
          "text": [
            "[0/4][62/79]\tLoss_D: 0.0007\tLoss_G: 46.2836\tD(x): 0.9994\tD(G(z)): 0.0000 / 0.0000\n"
          ],
          "name": "stdout"
        },
        {
          "output_type": "stream",
          "text": [
            "\r 81%|████████  | 64/79 [00:23<00:05,  2.71it/s]"
          ],
          "name": "stderr"
        },
        {
          "output_type": "stream",
          "text": [
            "[0/4][63/79]\tLoss_D: 0.0005\tLoss_G: 46.3047\tD(x): 0.9995\tD(G(z)): 0.0000 / 0.0000\n"
          ],
          "name": "stdout"
        },
        {
          "output_type": "stream",
          "text": [
            "\r 82%|████████▏ | 65/79 [00:23<00:05,  2.69it/s]"
          ],
          "name": "stderr"
        },
        {
          "output_type": "stream",
          "text": [
            "[0/4][64/79]\tLoss_D: 0.0007\tLoss_G: 46.6517\tD(x): 0.9993\tD(G(z)): 0.0000 / 0.0000\n"
          ],
          "name": "stdout"
        },
        {
          "output_type": "stream",
          "text": [
            "\r 84%|████████▎ | 66/79 [00:24<00:04,  2.68it/s]"
          ],
          "name": "stderr"
        },
        {
          "output_type": "stream",
          "text": [
            "[0/4][65/79]\tLoss_D: 0.0003\tLoss_G: 46.6087\tD(x): 0.9997\tD(G(z)): 0.0000 / 0.0000\n"
          ],
          "name": "stdout"
        },
        {
          "output_type": "stream",
          "text": [
            "\r 85%|████████▍ | 67/79 [00:24<00:04,  2.70it/s]"
          ],
          "name": "stderr"
        },
        {
          "output_type": "stream",
          "text": [
            "[0/4][66/79]\tLoss_D: 0.0002\tLoss_G: 46.4564\tD(x): 0.9998\tD(G(z)): 0.0000 / 0.0000\n"
          ],
          "name": "stdout"
        },
        {
          "output_type": "stream",
          "text": [
            "\r 86%|████████▌ | 68/79 [00:25<00:04,  2.70it/s]"
          ],
          "name": "stderr"
        },
        {
          "output_type": "stream",
          "text": [
            "[0/4][67/79]\tLoss_D: 0.0008\tLoss_G: 46.3994\tD(x): 0.9992\tD(G(z)): 0.0000 / 0.0000\n"
          ],
          "name": "stdout"
        },
        {
          "output_type": "stream",
          "text": [
            "\r 87%|████████▋ | 69/79 [00:25<00:03,  2.69it/s]"
          ],
          "name": "stderr"
        },
        {
          "output_type": "stream",
          "text": [
            "[0/4][68/79]\tLoss_D: 0.0004\tLoss_G: 46.3273\tD(x): 0.9996\tD(G(z)): 0.0000 / 0.0000\n"
          ],
          "name": "stdout"
        },
        {
          "output_type": "stream",
          "text": [
            "\r 89%|████████▊ | 70/79 [00:25<00:03,  2.69it/s]"
          ],
          "name": "stderr"
        },
        {
          "output_type": "stream",
          "text": [
            "[0/4][69/79]\tLoss_D: 0.0003\tLoss_G: 46.3120\tD(x): 0.9997\tD(G(z)): 0.0000 / 0.0000\n"
          ],
          "name": "stdout"
        },
        {
          "output_type": "stream",
          "text": [
            "\r 90%|████████▉ | 71/79 [00:26<00:02,  2.68it/s]"
          ],
          "name": "stderr"
        },
        {
          "output_type": "stream",
          "text": [
            "[0/4][70/79]\tLoss_D: 0.0002\tLoss_G: 46.2673\tD(x): 0.9998\tD(G(z)): 0.0000 / 0.0000\n"
          ],
          "name": "stdout"
        },
        {
          "output_type": "stream",
          "text": [
            "\r 91%|█████████ | 72/79 [00:26<00:02,  2.68it/s]"
          ],
          "name": "stderr"
        },
        {
          "output_type": "stream",
          "text": [
            "[0/4][71/79]\tLoss_D: 0.0005\tLoss_G: 46.3922\tD(x): 0.9995\tD(G(z)): 0.0000 / 0.0000\n"
          ],
          "name": "stdout"
        },
        {
          "output_type": "stream",
          "text": [
            "\r 92%|█████████▏| 73/79 [00:26<00:02,  2.69it/s]"
          ],
          "name": "stderr"
        },
        {
          "output_type": "stream",
          "text": [
            "[0/4][72/79]\tLoss_D: 0.0003\tLoss_G: 46.4123\tD(x): 0.9997\tD(G(z)): 0.0000 / 0.0000\n"
          ],
          "name": "stdout"
        },
        {
          "output_type": "stream",
          "text": [
            "\r 94%|█████████▎| 74/79 [00:27<00:01,  2.68it/s]"
          ],
          "name": "stderr"
        },
        {
          "output_type": "stream",
          "text": [
            "[0/4][73/79]\tLoss_D: 0.0010\tLoss_G: 46.1808\tD(x): 0.9990\tD(G(z)): 0.0000 / 0.0000\n"
          ],
          "name": "stdout"
        },
        {
          "output_type": "stream",
          "text": [
            "\r 95%|█████████▍| 75/79 [00:27<00:01,  2.68it/s]"
          ],
          "name": "stderr"
        },
        {
          "output_type": "stream",
          "text": [
            "[0/4][74/79]\tLoss_D: 0.0004\tLoss_G: 46.4436\tD(x): 0.9996\tD(G(z)): 0.0000 / 0.0000\n"
          ],
          "name": "stdout"
        },
        {
          "output_type": "stream",
          "text": [
            "\r 96%|█████████▌| 76/79 [00:28<00:01,  2.67it/s]"
          ],
          "name": "stderr"
        },
        {
          "output_type": "stream",
          "text": [
            "[0/4][75/79]\tLoss_D: 0.0004\tLoss_G: 46.1833\tD(x): 0.9996\tD(G(z)): 0.0000 / 0.0000\n"
          ],
          "name": "stdout"
        },
        {
          "output_type": "stream",
          "text": [
            "\r 97%|█████████▋| 77/79 [00:28<00:00,  2.66it/s]"
          ],
          "name": "stderr"
        },
        {
          "output_type": "stream",
          "text": [
            "[0/4][76/79]\tLoss_D: 0.0002\tLoss_G: 46.1426\tD(x): 0.9998\tD(G(z)): 0.0000 / 0.0000\n"
          ],
          "name": "stdout"
        },
        {
          "output_type": "stream",
          "text": [
            "100%|██████████| 79/79 [00:28<00:00,  2.73it/s]\n",
            "  0%|          | 0/79 [00:00<?, ?it/s]"
          ],
          "name": "stderr"
        },
        {
          "output_type": "stream",
          "text": [
            "[0/4][77/79]\tLoss_D: 0.0010\tLoss_G: 46.3256\tD(x): 0.9990\tD(G(z)): 0.0000 / 0.0000\n",
            "[0/4][78/79]\tLoss_D: 0.0699\tLoss_G: 46.6941\tD(x): 0.9449\tD(G(z)): 0.0000 / 0.0000\n"
          ],
          "name": "stdout"
        },
        {
          "output_type": "stream",
          "text": [
            "\r  1%|▏         | 1/79 [00:00<00:29,  2.64it/s]"
          ],
          "name": "stderr"
        },
        {
          "output_type": "stream",
          "text": [
            "[1/4][0/79]\tLoss_D: 0.0007\tLoss_G: 45.6625\tD(x): 0.9993\tD(G(z)): 0.0000 / 0.0000\n"
          ],
          "name": "stdout"
        },
        {
          "output_type": "stream",
          "text": [
            "\r  3%|▎         | 2/79 [00:00<00:29,  2.65it/s]"
          ],
          "name": "stderr"
        },
        {
          "output_type": "stream",
          "text": [
            "[1/4][1/79]\tLoss_D: 0.0001\tLoss_G: 45.7091\tD(x): 0.9999\tD(G(z)): 0.0000 / 0.0000\n"
          ],
          "name": "stdout"
        },
        {
          "output_type": "stream",
          "text": [
            "\r  4%|▍         | 3/79 [00:01<00:28,  2.65it/s]"
          ],
          "name": "stderr"
        },
        {
          "output_type": "stream",
          "text": [
            "[1/4][2/79]\tLoss_D: 0.0001\tLoss_G: 45.7546\tD(x): 0.9999\tD(G(z)): 0.0000 / 0.0000\n"
          ],
          "name": "stdout"
        },
        {
          "output_type": "stream",
          "text": [
            "\r  5%|▌         | 4/79 [00:01<00:28,  2.64it/s]"
          ],
          "name": "stderr"
        },
        {
          "output_type": "stream",
          "text": [
            "[1/4][3/79]\tLoss_D: 0.0001\tLoss_G: 45.3817\tD(x): 0.9999\tD(G(z)): 0.0000 / 0.0000\n"
          ],
          "name": "stdout"
        },
        {
          "output_type": "stream",
          "text": [
            "\r  6%|▋         | 5/79 [00:01<00:27,  2.66it/s]"
          ],
          "name": "stderr"
        },
        {
          "output_type": "stream",
          "text": [
            "[1/4][4/79]\tLoss_D: 0.0012\tLoss_G: 45.4324\tD(x): 0.9988\tD(G(z)): 0.0000 / 0.0000\n"
          ],
          "name": "stdout"
        },
        {
          "output_type": "stream",
          "text": [
            "\r  8%|▊         | 6/79 [00:02<00:27,  2.64it/s]"
          ],
          "name": "stderr"
        },
        {
          "output_type": "stream",
          "text": [
            "[1/4][5/79]\tLoss_D: 0.0037\tLoss_G: 45.7010\tD(x): 0.9966\tD(G(z)): 0.0000 / 0.0000\n"
          ],
          "name": "stdout"
        },
        {
          "output_type": "stream",
          "text": [
            "\r  9%|▉         | 7/79 [00:02<00:27,  2.62it/s]"
          ],
          "name": "stderr"
        },
        {
          "output_type": "stream",
          "text": [
            "[1/4][6/79]\tLoss_D: 0.0001\tLoss_G: 45.4310\tD(x): 0.9999\tD(G(z)): 0.0000 / 0.0000\n"
          ],
          "name": "stdout"
        },
        {
          "output_type": "stream",
          "text": [
            "\r 10%|█         | 8/79 [00:03<00:27,  2.61it/s]"
          ],
          "name": "stderr"
        },
        {
          "output_type": "stream",
          "text": [
            "[1/4][7/79]\tLoss_D: 0.0000\tLoss_G: 45.8444\tD(x): 1.0000\tD(G(z)): 0.0000 / 0.0000\n"
          ],
          "name": "stdout"
        },
        {
          "output_type": "stream",
          "text": [
            "\r 11%|█▏        | 9/79 [00:03<00:26,  2.61it/s]"
          ],
          "name": "stderr"
        },
        {
          "output_type": "stream",
          "text": [
            "[1/4][8/79]\tLoss_D: 0.0001\tLoss_G: 45.5337\tD(x): 0.9999\tD(G(z)): 0.0000 / 0.0000\n"
          ],
          "name": "stdout"
        },
        {
          "output_type": "stream",
          "text": [
            "\r 13%|█▎        | 10/79 [00:03<00:26,  2.61it/s]"
          ],
          "name": "stderr"
        },
        {
          "output_type": "stream",
          "text": [
            "[1/4][9/79]\tLoss_D: 0.0002\tLoss_G: 45.3241\tD(x): 0.9998\tD(G(z)): 0.0000 / 0.0000\n"
          ],
          "name": "stdout"
        },
        {
          "output_type": "stream",
          "text": [
            "\r 14%|█▍        | 11/79 [00:04<00:26,  2.61it/s]"
          ],
          "name": "stderr"
        },
        {
          "output_type": "stream",
          "text": [
            "[1/4][10/79]\tLoss_D: 0.0001\tLoss_G: 45.2662\tD(x): 0.9999\tD(G(z)): 0.0000 / 0.0000\n"
          ],
          "name": "stdout"
        },
        {
          "output_type": "stream",
          "text": [
            "\r 15%|█▌        | 12/79 [00:04<00:25,  2.62it/s]"
          ],
          "name": "stderr"
        },
        {
          "output_type": "stream",
          "text": [
            "[1/4][11/79]\tLoss_D: 0.0001\tLoss_G: 45.5865\tD(x): 0.9999\tD(G(z)): 0.0000 / 0.0000\n"
          ],
          "name": "stdout"
        },
        {
          "output_type": "stream",
          "text": [
            "\r 16%|█▋        | 13/79 [00:04<00:25,  2.62it/s]"
          ],
          "name": "stderr"
        },
        {
          "output_type": "stream",
          "text": [
            "[1/4][12/79]\tLoss_D: 0.0002\tLoss_G: 45.3464\tD(x): 0.9998\tD(G(z)): 0.0000 / 0.0000\n"
          ],
          "name": "stdout"
        },
        {
          "output_type": "stream",
          "text": [
            "\r 18%|█▊        | 14/79 [00:05<00:24,  2.62it/s]"
          ],
          "name": "stderr"
        },
        {
          "output_type": "stream",
          "text": [
            "[1/4][13/79]\tLoss_D: 0.0001\tLoss_G: 45.5502\tD(x): 0.9999\tD(G(z)): 0.0000 / 0.0000\n"
          ],
          "name": "stdout"
        },
        {
          "output_type": "stream",
          "text": [
            "\r 19%|█▉        | 15/79 [00:05<00:24,  2.60it/s]"
          ],
          "name": "stderr"
        },
        {
          "output_type": "stream",
          "text": [
            "[1/4][14/79]\tLoss_D: 0.0001\tLoss_G: 45.6495\tD(x): 0.9999\tD(G(z)): 0.0000 / 0.0000\n"
          ],
          "name": "stdout"
        },
        {
          "output_type": "stream",
          "text": [
            "\r 20%|██        | 16/79 [00:06<00:24,  2.60it/s]"
          ],
          "name": "stderr"
        },
        {
          "output_type": "stream",
          "text": [
            "[1/4][15/79]\tLoss_D: 0.0001\tLoss_G: 45.8048\tD(x): 0.9999\tD(G(z)): 0.0000 / 0.0000\n"
          ],
          "name": "stdout"
        },
        {
          "output_type": "stream",
          "text": [
            "\r 22%|██▏       | 17/79 [00:06<00:23,  2.60it/s]"
          ],
          "name": "stderr"
        },
        {
          "output_type": "stream",
          "text": [
            "[1/4][16/79]\tLoss_D: 0.0001\tLoss_G: 45.4590\tD(x): 0.9999\tD(G(z)): 0.0000 / 0.0000\n"
          ],
          "name": "stdout"
        },
        {
          "output_type": "stream",
          "text": [
            "\r 23%|██▎       | 18/79 [00:06<00:23,  2.60it/s]"
          ],
          "name": "stderr"
        },
        {
          "output_type": "stream",
          "text": [
            "[1/4][17/79]\tLoss_D: 0.0003\tLoss_G: 45.3280\tD(x): 0.9997\tD(G(z)): 0.0000 / 0.0000\n"
          ],
          "name": "stdout"
        },
        {
          "output_type": "stream",
          "text": [
            "\r 24%|██▍       | 19/79 [00:07<00:23,  2.60it/s]"
          ],
          "name": "stderr"
        },
        {
          "output_type": "stream",
          "text": [
            "[1/4][18/79]\tLoss_D: 0.0002\tLoss_G: 45.1612\tD(x): 0.9998\tD(G(z)): 0.0000 / 0.0000\n"
          ],
          "name": "stdout"
        },
        {
          "output_type": "stream",
          "text": [
            "\r 25%|██▌       | 20/79 [00:07<00:22,  2.59it/s]"
          ],
          "name": "stderr"
        },
        {
          "output_type": "stream",
          "text": [
            "[1/4][19/79]\tLoss_D: 0.0003\tLoss_G: 45.5965\tD(x): 0.9997\tD(G(z)): 0.0000 / 0.0000\n"
          ],
          "name": "stdout"
        },
        {
          "output_type": "stream",
          "text": [
            "\r 27%|██▋       | 21/79 [00:08<00:22,  2.59it/s]"
          ],
          "name": "stderr"
        },
        {
          "output_type": "stream",
          "text": [
            "[1/4][20/79]\tLoss_D: 0.0001\tLoss_G: 45.2164\tD(x): 0.9999\tD(G(z)): 0.0000 / 0.0000\n"
          ],
          "name": "stdout"
        },
        {
          "output_type": "stream",
          "text": [
            "\r 28%|██▊       | 22/79 [00:08<00:22,  2.59it/s]"
          ],
          "name": "stderr"
        },
        {
          "output_type": "stream",
          "text": [
            "[1/4][21/79]\tLoss_D: 0.0001\tLoss_G: 45.5371\tD(x): 0.9999\tD(G(z)): 0.0000 / 0.0000\n"
          ],
          "name": "stdout"
        },
        {
          "output_type": "stream",
          "text": [
            "\r 29%|██▉       | 23/79 [00:08<00:21,  2.56it/s]"
          ],
          "name": "stderr"
        },
        {
          "output_type": "stream",
          "text": [
            "[1/4][22/79]\tLoss_D: 0.0001\tLoss_G: 45.5410\tD(x): 0.9999\tD(G(z)): 0.0000 / 0.0000\n"
          ],
          "name": "stdout"
        },
        {
          "output_type": "stream",
          "text": [
            "\r 30%|███       | 24/79 [00:09<00:21,  2.55it/s]"
          ],
          "name": "stderr"
        },
        {
          "output_type": "stream",
          "text": [
            "[1/4][23/79]\tLoss_D: 0.0004\tLoss_G: 45.3508\tD(x): 0.9996\tD(G(z)): 0.0000 / 0.0000\n"
          ],
          "name": "stdout"
        },
        {
          "output_type": "stream",
          "text": [
            "\r 32%|███▏      | 25/79 [00:09<00:21,  2.56it/s]"
          ],
          "name": "stderr"
        },
        {
          "output_type": "stream",
          "text": [
            "[1/4][24/79]\tLoss_D: 0.0003\tLoss_G: 45.6264\tD(x): 0.9997\tD(G(z)): 0.0000 / 0.0000\n"
          ],
          "name": "stdout"
        },
        {
          "output_type": "stream",
          "text": [
            "\r 33%|███▎      | 26/79 [00:09<00:20,  2.58it/s]"
          ],
          "name": "stderr"
        },
        {
          "output_type": "stream",
          "text": [
            "[1/4][25/79]\tLoss_D: 0.0001\tLoss_G: 45.3053\tD(x): 0.9999\tD(G(z)): 0.0000 / 0.0000\n"
          ],
          "name": "stdout"
        },
        {
          "output_type": "stream",
          "text": [
            "\r 34%|███▍      | 27/79 [00:10<00:20,  2.60it/s]"
          ],
          "name": "stderr"
        },
        {
          "output_type": "stream",
          "text": [
            "[1/4][26/79]\tLoss_D: 0.0006\tLoss_G: 45.5894\tD(x): 0.9994\tD(G(z)): 0.0000 / 0.0000\n"
          ],
          "name": "stdout"
        },
        {
          "output_type": "stream",
          "text": [
            "\r 35%|███▌      | 28/79 [00:10<00:19,  2.60it/s]"
          ],
          "name": "stderr"
        },
        {
          "output_type": "stream",
          "text": [
            "[1/4][27/79]\tLoss_D: 0.0001\tLoss_G: 45.4197\tD(x): 0.9999\tD(G(z)): 0.0000 / 0.0000\n"
          ],
          "name": "stdout"
        },
        {
          "output_type": "stream",
          "text": [
            "\r 37%|███▋      | 29/79 [00:11<00:19,  2.60it/s]"
          ],
          "name": "stderr"
        },
        {
          "output_type": "stream",
          "text": [
            "[1/4][28/79]\tLoss_D: 0.0000\tLoss_G: 45.4472\tD(x): 1.0000\tD(G(z)): 0.0000 / 0.0000\n"
          ],
          "name": "stdout"
        },
        {
          "output_type": "stream",
          "text": [
            "\r 38%|███▊      | 30/79 [00:11<00:18,  2.60it/s]"
          ],
          "name": "stderr"
        },
        {
          "output_type": "stream",
          "text": [
            "[1/4][29/79]\tLoss_D: 0.0001\tLoss_G: 45.3530\tD(x): 0.9999\tD(G(z)): 0.0000 / 0.0000\n"
          ],
          "name": "stdout"
        },
        {
          "output_type": "stream",
          "text": [
            "\r 39%|███▉      | 31/79 [00:11<00:18,  2.60it/s]"
          ],
          "name": "stderr"
        },
        {
          "output_type": "stream",
          "text": [
            "[1/4][30/79]\tLoss_D: 0.0000\tLoss_G: 45.5407\tD(x): 1.0000\tD(G(z)): 0.0000 / 0.0000\n"
          ],
          "name": "stdout"
        },
        {
          "output_type": "stream",
          "text": [
            "\r 41%|████      | 32/79 [00:12<00:18,  2.60it/s]"
          ],
          "name": "stderr"
        },
        {
          "output_type": "stream",
          "text": [
            "[1/4][31/79]\tLoss_D: 0.0001\tLoss_G: 45.4020\tD(x): 0.9999\tD(G(z)): 0.0000 / 0.0000\n"
          ],
          "name": "stdout"
        },
        {
          "output_type": "stream",
          "text": [
            "\r 42%|████▏     | 33/79 [00:12<00:17,  2.60it/s]"
          ],
          "name": "stderr"
        },
        {
          "output_type": "stream",
          "text": [
            "[1/4][32/79]\tLoss_D: 0.0002\tLoss_G: 45.3659\tD(x): 0.9998\tD(G(z)): 0.0000 / 0.0000\n"
          ],
          "name": "stdout"
        },
        {
          "output_type": "stream",
          "text": [
            "\r 43%|████▎     | 34/79 [00:13<00:17,  2.59it/s]"
          ],
          "name": "stderr"
        },
        {
          "output_type": "stream",
          "text": [
            "[1/4][33/79]\tLoss_D: 0.0001\tLoss_G: 45.4616\tD(x): 0.9999\tD(G(z)): 0.0000 / 0.0000\n"
          ],
          "name": "stdout"
        },
        {
          "output_type": "stream",
          "text": [
            "\r 44%|████▍     | 35/79 [00:13<00:16,  2.60it/s]"
          ],
          "name": "stderr"
        },
        {
          "output_type": "stream",
          "text": [
            "[1/4][34/79]\tLoss_D: 0.0005\tLoss_G: 45.3914\tD(x): 0.9995\tD(G(z)): 0.0000 / 0.0000\n"
          ],
          "name": "stdout"
        },
        {
          "output_type": "stream",
          "text": [
            "\r 46%|████▌     | 36/79 [00:13<00:16,  2.59it/s]"
          ],
          "name": "stderr"
        },
        {
          "output_type": "stream",
          "text": [
            "[1/4][35/79]\tLoss_D: 0.0002\tLoss_G: 45.3908\tD(x): 0.9998\tD(G(z)): 0.0000 / 0.0000\n"
          ],
          "name": "stdout"
        },
        {
          "output_type": "stream",
          "text": [
            "\r 47%|████▋     | 37/79 [00:14<00:16,  2.59it/s]"
          ],
          "name": "stderr"
        },
        {
          "output_type": "stream",
          "text": [
            "[1/4][36/79]\tLoss_D: 0.0002\tLoss_G: 45.3866\tD(x): 0.9998\tD(G(z)): 0.0000 / 0.0000\n"
          ],
          "name": "stdout"
        },
        {
          "output_type": "stream",
          "text": [
            "\r 48%|████▊     | 38/79 [00:14<00:15,  2.59it/s]"
          ],
          "name": "stderr"
        },
        {
          "output_type": "stream",
          "text": [
            "[1/4][37/79]\tLoss_D: 0.0001\tLoss_G: 45.3907\tD(x): 0.9999\tD(G(z)): 0.0000 / 0.0000\n"
          ],
          "name": "stdout"
        },
        {
          "output_type": "stream",
          "text": [
            "\r 49%|████▉     | 39/79 [00:14<00:15,  2.59it/s]"
          ],
          "name": "stderr"
        },
        {
          "output_type": "stream",
          "text": [
            "[1/4][38/79]\tLoss_D: 0.0001\tLoss_G: 45.4095\tD(x): 0.9999\tD(G(z)): 0.0000 / 0.0000\n"
          ],
          "name": "stdout"
        },
        {
          "output_type": "stream",
          "text": [
            "\r 51%|█████     | 40/79 [00:15<00:15,  2.58it/s]"
          ],
          "name": "stderr"
        },
        {
          "output_type": "stream",
          "text": [
            "[1/4][39/79]\tLoss_D: 0.0003\tLoss_G: 45.3949\tD(x): 0.9997\tD(G(z)): 0.0000 / 0.0000\n"
          ],
          "name": "stdout"
        },
        {
          "output_type": "stream",
          "text": [
            "\r 52%|█████▏    | 41/79 [00:15<00:14,  2.58it/s]"
          ],
          "name": "stderr"
        },
        {
          "output_type": "stream",
          "text": [
            "[1/4][40/79]\tLoss_D: 0.0002\tLoss_G: 45.4852\tD(x): 0.9998\tD(G(z)): 0.0000 / 0.0000\n"
          ],
          "name": "stdout"
        },
        {
          "output_type": "stream",
          "text": [
            "\r 53%|█████▎    | 42/79 [00:16<00:14,  2.58it/s]"
          ],
          "name": "stderr"
        },
        {
          "output_type": "stream",
          "text": [
            "[1/4][41/79]\tLoss_D: 0.0001\tLoss_G: 45.5379\tD(x): 0.9999\tD(G(z)): 0.0000 / 0.0000\n"
          ],
          "name": "stdout"
        },
        {
          "output_type": "stream",
          "text": [
            "\r 54%|█████▍    | 43/79 [00:16<00:13,  2.58it/s]"
          ],
          "name": "stderr"
        },
        {
          "output_type": "stream",
          "text": [
            "[1/4][42/79]\tLoss_D: 0.0001\tLoss_G: 45.2280\tD(x): 0.9999\tD(G(z)): 0.0000 / 0.0000\n"
          ],
          "name": "stdout"
        },
        {
          "output_type": "stream",
          "text": [
            "\r 56%|█████▌    | 44/79 [00:16<00:13,  2.56it/s]"
          ],
          "name": "stderr"
        },
        {
          "output_type": "stream",
          "text": [
            "[1/4][43/79]\tLoss_D: 0.0002\tLoss_G: 45.4100\tD(x): 0.9998\tD(G(z)): 0.0000 / 0.0000\n"
          ],
          "name": "stdout"
        },
        {
          "output_type": "stream",
          "text": [
            "\r 57%|█████▋    | 45/79 [00:17<00:13,  2.57it/s]"
          ],
          "name": "stderr"
        },
        {
          "output_type": "stream",
          "text": [
            "[1/4][44/79]\tLoss_D: 0.0001\tLoss_G: 45.6822\tD(x): 0.9999\tD(G(z)): 0.0000 / 0.0000\n"
          ],
          "name": "stdout"
        },
        {
          "output_type": "stream",
          "text": [
            "\r 58%|█████▊    | 46/79 [00:17<00:12,  2.57it/s]"
          ],
          "name": "stderr"
        },
        {
          "output_type": "stream",
          "text": [
            "[1/4][45/79]\tLoss_D: 0.0002\tLoss_G: 45.3417\tD(x): 0.9998\tD(G(z)): 0.0000 / 0.0000\n"
          ],
          "name": "stdout"
        },
        {
          "output_type": "stream",
          "text": [
            "\r 59%|█████▉    | 47/79 [00:18<00:12,  2.57it/s]"
          ],
          "name": "stderr"
        },
        {
          "output_type": "stream",
          "text": [
            "[1/4][46/79]\tLoss_D: 0.0000\tLoss_G: 45.4886\tD(x): 1.0000\tD(G(z)): 0.0000 / 0.0000\n"
          ],
          "name": "stdout"
        },
        {
          "output_type": "stream",
          "text": [
            "\r 61%|██████    | 48/79 [00:18<00:12,  2.57it/s]"
          ],
          "name": "stderr"
        },
        {
          "output_type": "stream",
          "text": [
            "[1/4][47/79]\tLoss_D: 0.0001\tLoss_G: 45.4297\tD(x): 0.9999\tD(G(z)): 0.0000 / 0.0000\n"
          ],
          "name": "stdout"
        },
        {
          "output_type": "stream",
          "text": [
            "\r 62%|██████▏   | 49/79 [00:18<00:11,  2.57it/s]"
          ],
          "name": "stderr"
        },
        {
          "output_type": "stream",
          "text": [
            "[1/4][48/79]\tLoss_D: 0.0001\tLoss_G: 45.3541\tD(x): 0.9999\tD(G(z)): 0.0000 / 0.0000\n"
          ],
          "name": "stdout"
        },
        {
          "output_type": "stream",
          "text": [
            "\r 63%|██████▎   | 50/79 [00:19<00:11,  2.57it/s]"
          ],
          "name": "stderr"
        },
        {
          "output_type": "stream",
          "text": [
            "[1/4][49/79]\tLoss_D: 0.0001\tLoss_G: 45.5183\tD(x): 0.9999\tD(G(z)): 0.0000 / 0.0000\n"
          ],
          "name": "stdout"
        },
        {
          "output_type": "stream",
          "text": [
            "\r 65%|██████▍   | 51/79 [00:19<00:10,  2.56it/s]"
          ],
          "name": "stderr"
        },
        {
          "output_type": "stream",
          "text": [
            "[1/4][50/79]\tLoss_D: 0.0001\tLoss_G: 45.4674\tD(x): 0.9999\tD(G(z)): 0.0000 / 0.0000\n"
          ],
          "name": "stdout"
        },
        {
          "output_type": "stream",
          "text": [
            "\r 66%|██████▌   | 52/79 [00:20<00:10,  2.56it/s]"
          ],
          "name": "stderr"
        },
        {
          "output_type": "stream",
          "text": [
            "[1/4][51/79]\tLoss_D: 0.0002\tLoss_G: 45.4042\tD(x): 0.9998\tD(G(z)): 0.0000 / 0.0000\n"
          ],
          "name": "stdout"
        },
        {
          "output_type": "stream",
          "text": [
            "\r 67%|██████▋   | 53/79 [00:20<00:10,  2.57it/s]"
          ],
          "name": "stderr"
        },
        {
          "output_type": "stream",
          "text": [
            "[1/4][52/79]\tLoss_D: 0.0001\tLoss_G: 45.6124\tD(x): 0.9999\tD(G(z)): 0.0000 / 0.0000\n"
          ],
          "name": "stdout"
        },
        {
          "output_type": "stream",
          "text": [
            "\r 68%|██████▊   | 54/79 [00:20<00:09,  2.56it/s]"
          ],
          "name": "stderr"
        },
        {
          "output_type": "stream",
          "text": [
            "[1/4][53/79]\tLoss_D: 0.0001\tLoss_G: 45.4554\tD(x): 0.9999\tD(G(z)): 0.0000 / 0.0000\n"
          ],
          "name": "stdout"
        },
        {
          "output_type": "stream",
          "text": [
            "\r 70%|██████▉   | 55/79 [00:21<00:09,  2.56it/s]"
          ],
          "name": "stderr"
        },
        {
          "output_type": "stream",
          "text": [
            "[1/4][54/79]\tLoss_D: 0.0003\tLoss_G: 45.4863\tD(x): 0.9997\tD(G(z)): 0.0000 / 0.0000\n"
          ],
          "name": "stdout"
        },
        {
          "output_type": "stream",
          "text": [
            "\r 71%|███████   | 56/79 [00:21<00:09,  2.56it/s]"
          ],
          "name": "stderr"
        },
        {
          "output_type": "stream",
          "text": [
            "[1/4][55/79]\tLoss_D: 0.0001\tLoss_G: 45.3145\tD(x): 0.9999\tD(G(z)): 0.0000 / 0.0000\n"
          ],
          "name": "stdout"
        },
        {
          "output_type": "stream",
          "text": [
            "\r 72%|███████▏  | 57/79 [00:22<00:08,  2.55it/s]"
          ],
          "name": "stderr"
        },
        {
          "output_type": "stream",
          "text": [
            "[1/4][56/79]\tLoss_D: 0.0001\tLoss_G: 45.3501\tD(x): 0.9999\tD(G(z)): 0.0000 / 0.0000\n"
          ],
          "name": "stdout"
        },
        {
          "output_type": "stream",
          "text": [
            "\r 73%|███████▎  | 58/79 [00:22<00:08,  2.55it/s]"
          ],
          "name": "stderr"
        },
        {
          "output_type": "stream",
          "text": [
            "[1/4][57/79]\tLoss_D: 0.0001\tLoss_G: 45.3968\tD(x): 0.9999\tD(G(z)): 0.0000 / 0.0000\n"
          ],
          "name": "stdout"
        },
        {
          "output_type": "stream",
          "text": [
            "\r 75%|███████▍  | 59/79 [00:22<00:07,  2.55it/s]"
          ],
          "name": "stderr"
        },
        {
          "output_type": "stream",
          "text": [
            "[1/4][58/79]\tLoss_D: 0.0001\tLoss_G: 45.3936\tD(x): 0.9999\tD(G(z)): 0.0000 / 0.0000\n"
          ],
          "name": "stdout"
        },
        {
          "output_type": "stream",
          "text": [
            "\r 76%|███████▌  | 60/79 [00:23<00:07,  2.55it/s]"
          ],
          "name": "stderr"
        },
        {
          "output_type": "stream",
          "text": [
            "[1/4][59/79]\tLoss_D: 0.0001\tLoss_G: 45.4290\tD(x): 0.9999\tD(G(z)): 0.0000 / 0.0000\n"
          ],
          "name": "stdout"
        },
        {
          "output_type": "stream",
          "text": [
            "\r 77%|███████▋  | 61/79 [00:23<00:07,  2.55it/s]"
          ],
          "name": "stderr"
        },
        {
          "output_type": "stream",
          "text": [
            "[1/4][60/79]\tLoss_D: 0.0002\tLoss_G: 45.2380\tD(x): 0.9998\tD(G(z)): 0.0000 / 0.0000\n"
          ],
          "name": "stdout"
        },
        {
          "output_type": "stream",
          "text": [
            "\r 78%|███████▊  | 62/79 [00:23<00:06,  2.54it/s]"
          ],
          "name": "stderr"
        },
        {
          "output_type": "stream",
          "text": [
            "[1/4][61/79]\tLoss_D: 0.0001\tLoss_G: 45.2293\tD(x): 0.9999\tD(G(z)): 0.0000 / 0.0000\n"
          ],
          "name": "stdout"
        },
        {
          "output_type": "stream",
          "text": [
            "\r 80%|███████▉  | 63/79 [00:24<00:06,  2.54it/s]"
          ],
          "name": "stderr"
        },
        {
          "output_type": "stream",
          "text": [
            "[1/4][62/79]\tLoss_D: 0.0001\tLoss_G: 45.4342\tD(x): 0.9999\tD(G(z)): 0.0000 / 0.0000\n"
          ],
          "name": "stdout"
        },
        {
          "output_type": "stream",
          "text": [
            "\r 81%|████████  | 64/79 [00:24<00:05,  2.54it/s]"
          ],
          "name": "stderr"
        },
        {
          "output_type": "stream",
          "text": [
            "[1/4][63/79]\tLoss_D: 0.0001\tLoss_G: 45.3868\tD(x): 0.9999\tD(G(z)): 0.0000 / 0.0000\n"
          ],
          "name": "stdout"
        },
        {
          "output_type": "stream",
          "text": [
            "\r 82%|████████▏ | 65/79 [00:25<00:05,  2.53it/s]"
          ],
          "name": "stderr"
        },
        {
          "output_type": "stream",
          "text": [
            "[1/4][64/79]\tLoss_D: 0.0001\tLoss_G: 45.4447\tD(x): 0.9999\tD(G(z)): 0.0000 / 0.0000\n"
          ],
          "name": "stdout"
        },
        {
          "output_type": "stream",
          "text": [
            "\r 84%|████████▎ | 66/79 [00:25<00:05,  2.52it/s]"
          ],
          "name": "stderr"
        },
        {
          "output_type": "stream",
          "text": [
            "[1/4][65/79]\tLoss_D: 0.0004\tLoss_G: 45.4441\tD(x): 0.9996\tD(G(z)): 0.0000 / 0.0000\n"
          ],
          "name": "stdout"
        },
        {
          "output_type": "stream",
          "text": [
            "\r 85%|████████▍ | 67/79 [00:25<00:04,  2.53it/s]"
          ],
          "name": "stderr"
        },
        {
          "output_type": "stream",
          "text": [
            "[1/4][66/79]\tLoss_D: 0.0002\tLoss_G: 45.3309\tD(x): 0.9998\tD(G(z)): 0.0000 / 0.0000\n"
          ],
          "name": "stdout"
        },
        {
          "output_type": "stream",
          "text": [
            "\r 86%|████████▌ | 68/79 [00:26<00:04,  2.52it/s]"
          ],
          "name": "stderr"
        },
        {
          "output_type": "stream",
          "text": [
            "[1/4][67/79]\tLoss_D: 0.0001\tLoss_G: 45.5719\tD(x): 0.9999\tD(G(z)): 0.0000 / 0.0000\n"
          ],
          "name": "stdout"
        },
        {
          "output_type": "stream",
          "text": [
            "\r 87%|████████▋ | 69/79 [00:26<00:03,  2.53it/s]"
          ],
          "name": "stderr"
        },
        {
          "output_type": "stream",
          "text": [
            "[1/4][68/79]\tLoss_D: 0.0001\tLoss_G: 45.5189\tD(x): 0.9999\tD(G(z)): 0.0000 / 0.0000\n"
          ],
          "name": "stdout"
        },
        {
          "output_type": "stream",
          "text": [
            "\r 89%|████████▊ | 70/79 [00:27<00:03,  2.51it/s]"
          ],
          "name": "stderr"
        },
        {
          "output_type": "stream",
          "text": [
            "[1/4][69/79]\tLoss_D: 0.0001\tLoss_G: 45.3294\tD(x): 0.9999\tD(G(z)): 0.0000 / 0.0000\n"
          ],
          "name": "stdout"
        },
        {
          "output_type": "stream",
          "text": [
            "\r 90%|████████▉ | 71/79 [00:27<00:03,  2.51it/s]"
          ],
          "name": "stderr"
        },
        {
          "output_type": "stream",
          "text": [
            "[1/4][70/79]\tLoss_D: 0.0000\tLoss_G: 45.4736\tD(x): 1.0000\tD(G(z)): 0.0000 / 0.0000\n"
          ],
          "name": "stdout"
        },
        {
          "output_type": "stream",
          "text": [
            "\r 91%|█████████ | 72/79 [00:27<00:02,  2.49it/s]"
          ],
          "name": "stderr"
        },
        {
          "output_type": "stream",
          "text": [
            "[1/4][71/79]\tLoss_D: 0.0000\tLoss_G: 45.1781\tD(x): 1.0000\tD(G(z)): 0.0000 / 0.0000\n"
          ],
          "name": "stdout"
        },
        {
          "output_type": "stream",
          "text": [
            "\r 92%|█████████▏| 73/79 [00:28<00:02,  2.49it/s]"
          ],
          "name": "stderr"
        },
        {
          "output_type": "stream",
          "text": [
            "[1/4][72/79]\tLoss_D: 0.0001\tLoss_G: 45.3754\tD(x): 0.9999\tD(G(z)): 0.0000 / 0.0000\n"
          ],
          "name": "stdout"
        },
        {
          "output_type": "stream",
          "text": [
            "\r 94%|█████████▎| 74/79 [00:28<00:02,  2.49it/s]"
          ],
          "name": "stderr"
        },
        {
          "output_type": "stream",
          "text": [
            "[1/4][73/79]\tLoss_D: 0.0000\tLoss_G: 45.4874\tD(x): 1.0000\tD(G(z)): 0.0000 / 0.0000\n"
          ],
          "name": "stdout"
        },
        {
          "output_type": "stream",
          "text": [
            "\r 95%|█████████▍| 75/79 [00:29<00:01,  2.48it/s]"
          ],
          "name": "stderr"
        },
        {
          "output_type": "stream",
          "text": [
            "[1/4][74/79]\tLoss_D: 0.0000\tLoss_G: 45.1329\tD(x): 1.0000\tD(G(z)): 0.0000 / 0.0000\n"
          ],
          "name": "stdout"
        },
        {
          "output_type": "stream",
          "text": [
            "\r 96%|█████████▌| 76/79 [00:29<00:01,  2.47it/s]"
          ],
          "name": "stderr"
        },
        {
          "output_type": "stream",
          "text": [
            "[1/4][75/79]\tLoss_D: 0.0001\tLoss_G: 45.6309\tD(x): 0.9999\tD(G(z)): 0.0000 / 0.0000\n"
          ],
          "name": "stdout"
        },
        {
          "output_type": "stream",
          "text": [
            "\r 97%|█████████▋| 77/79 [00:29<00:00,  2.47it/s]"
          ],
          "name": "stderr"
        },
        {
          "output_type": "stream",
          "text": [
            "[1/4][76/79]\tLoss_D: 0.0000\tLoss_G: 45.1485\tD(x): 1.0000\tD(G(z)): 0.0000 / 0.0000\n"
          ],
          "name": "stdout"
        },
        {
          "output_type": "stream",
          "text": [
            "100%|██████████| 79/79 [00:30<00:00,  2.59it/s]\n",
            "  0%|          | 0/79 [00:00<?, ?it/s]"
          ],
          "name": "stderr"
        },
        {
          "output_type": "stream",
          "text": [
            "[1/4][77/79]\tLoss_D: 0.0001\tLoss_G: 45.2238\tD(x): 0.9999\tD(G(z)): 0.0000 / 0.0000\n",
            "[1/4][78/79]\tLoss_D: 0.0001\tLoss_G: 45.1618\tD(x): 0.9999\tD(G(z)): 0.0000 / 0.0000\n"
          ],
          "name": "stdout"
        },
        {
          "output_type": "stream",
          "text": [
            "\r  1%|▏         | 1/79 [00:00<00:30,  2.52it/s]"
          ],
          "name": "stderr"
        },
        {
          "output_type": "stream",
          "text": [
            "[2/4][0/79]\tLoss_D: 0.0002\tLoss_G: 45.4294\tD(x): 0.9998\tD(G(z)): 0.0000 / 0.0000\n"
          ],
          "name": "stdout"
        },
        {
          "output_type": "stream",
          "text": [
            "\r  3%|▎         | 2/79 [00:00<00:30,  2.51it/s]"
          ],
          "name": "stderr"
        },
        {
          "output_type": "stream",
          "text": [
            "[2/4][1/79]\tLoss_D: 0.0001\tLoss_G: 45.5208\tD(x): 0.9999\tD(G(z)): 0.0000 / 0.0000\n"
          ],
          "name": "stdout"
        },
        {
          "output_type": "stream",
          "text": [
            "\r  4%|▍         | 3/79 [00:01<00:30,  2.50it/s]"
          ],
          "name": "stderr"
        },
        {
          "output_type": "stream",
          "text": [
            "[2/4][2/79]\tLoss_D: 0.0001\tLoss_G: 45.2571\tD(x): 0.9999\tD(G(z)): 0.0000 / 0.0000\n"
          ],
          "name": "stdout"
        },
        {
          "output_type": "stream",
          "text": [
            "\r  5%|▌         | 4/79 [00:01<00:30,  2.49it/s]"
          ],
          "name": "stderr"
        },
        {
          "output_type": "stream",
          "text": [
            "[2/4][3/79]\tLoss_D: 0.0000\tLoss_G: 45.1185\tD(x): 1.0000\tD(G(z)): 0.0000 / 0.0000\n"
          ],
          "name": "stdout"
        },
        {
          "output_type": "stream",
          "text": [
            "\r  6%|▋         | 5/79 [00:02<00:29,  2.48it/s]"
          ],
          "name": "stderr"
        },
        {
          "output_type": "stream",
          "text": [
            "[2/4][4/79]\tLoss_D: 0.0001\tLoss_G: 45.3453\tD(x): 0.9999\tD(G(z)): 0.0000 / 0.0000\n"
          ],
          "name": "stdout"
        },
        {
          "output_type": "stream",
          "text": [
            "\r  8%|▊         | 6/79 [00:02<00:29,  2.48it/s]"
          ],
          "name": "stderr"
        },
        {
          "output_type": "stream",
          "text": [
            "[2/4][5/79]\tLoss_D: 0.0001\tLoss_G: 45.3840\tD(x): 0.9999\tD(G(z)): 0.0000 / 0.0000\n"
          ],
          "name": "stdout"
        },
        {
          "output_type": "stream",
          "text": [
            "\r  9%|▉         | 7/79 [00:02<00:29,  2.47it/s]"
          ],
          "name": "stderr"
        },
        {
          "output_type": "stream",
          "text": [
            "[2/4][6/79]\tLoss_D: 0.0001\tLoss_G: 45.2897\tD(x): 0.9999\tD(G(z)): 0.0000 / 0.0000\n"
          ],
          "name": "stdout"
        },
        {
          "output_type": "stream",
          "text": [
            "\r 10%|█         | 8/79 [00:03<00:28,  2.47it/s]"
          ],
          "name": "stderr"
        },
        {
          "output_type": "stream",
          "text": [
            "[2/4][7/79]\tLoss_D: 0.0001\tLoss_G: 45.4915\tD(x): 0.9999\tD(G(z)): 0.0000 / 0.0000\n"
          ],
          "name": "stdout"
        },
        {
          "output_type": "stream",
          "text": [
            "\r 11%|█▏        | 9/79 [00:03<00:28,  2.47it/s]"
          ],
          "name": "stderr"
        },
        {
          "output_type": "stream",
          "text": [
            "[2/4][8/79]\tLoss_D: 0.0001\tLoss_G: 45.3262\tD(x): 0.9999\tD(G(z)): 0.0000 / 0.0000\n"
          ],
          "name": "stdout"
        },
        {
          "output_type": "stream",
          "text": [
            "\r 13%|█▎        | 10/79 [00:04<00:27,  2.47it/s]"
          ],
          "name": "stderr"
        },
        {
          "output_type": "stream",
          "text": [
            "[2/4][9/79]\tLoss_D: 0.0002\tLoss_G: 45.5381\tD(x): 0.9998\tD(G(z)): 0.0000 / 0.0000\n"
          ],
          "name": "stdout"
        },
        {
          "output_type": "stream",
          "text": [
            "\r 14%|█▍        | 11/79 [00:04<00:27,  2.47it/s]"
          ],
          "name": "stderr"
        },
        {
          "output_type": "stream",
          "text": [
            "[2/4][10/79]\tLoss_D: 0.0002\tLoss_G: 44.8579\tD(x): 0.9998\tD(G(z)): 0.0000 / 0.0000\n"
          ],
          "name": "stdout"
        },
        {
          "output_type": "stream",
          "text": [
            "\r 15%|█▌        | 12/79 [00:04<00:27,  2.47it/s]"
          ],
          "name": "stderr"
        },
        {
          "output_type": "stream",
          "text": [
            "[2/4][11/79]\tLoss_D: 0.0000\tLoss_G: 45.2741\tD(x): 1.0000\tD(G(z)): 0.0000 / 0.0000\n"
          ],
          "name": "stdout"
        },
        {
          "output_type": "stream",
          "text": [
            "\r 16%|█▋        | 13/79 [00:05<00:26,  2.47it/s]"
          ],
          "name": "stderr"
        },
        {
          "output_type": "stream",
          "text": [
            "[2/4][12/79]\tLoss_D: 0.0001\tLoss_G: 45.1105\tD(x): 0.9999\tD(G(z)): 0.0000 / 0.0000\n"
          ],
          "name": "stdout"
        },
        {
          "output_type": "stream",
          "text": [
            "\r 18%|█▊        | 14/79 [00:05<00:26,  2.47it/s]"
          ],
          "name": "stderr"
        },
        {
          "output_type": "stream",
          "text": [
            "[2/4][13/79]\tLoss_D: 0.0001\tLoss_G: 45.3627\tD(x): 0.9999\tD(G(z)): 0.0000 / 0.0000\n"
          ],
          "name": "stdout"
        },
        {
          "output_type": "stream",
          "text": [
            "\r 19%|█▉        | 15/79 [00:06<00:25,  2.47it/s]"
          ],
          "name": "stderr"
        },
        {
          "output_type": "stream",
          "text": [
            "[2/4][14/79]\tLoss_D: 0.0000\tLoss_G: 45.2569\tD(x): 1.0000\tD(G(z)): 0.0000 / 0.0000\n"
          ],
          "name": "stdout"
        },
        {
          "output_type": "stream",
          "text": [
            "\r 20%|██        | 16/79 [00:06<00:25,  2.47it/s]"
          ],
          "name": "stderr"
        },
        {
          "output_type": "stream",
          "text": [
            "[2/4][15/79]\tLoss_D: 0.0001\tLoss_G: 45.1903\tD(x): 0.9999\tD(G(z)): 0.0000 / 0.0000\n"
          ],
          "name": "stdout"
        },
        {
          "output_type": "stream",
          "text": [
            "\r 22%|██▏       | 17/79 [00:06<00:25,  2.46it/s]"
          ],
          "name": "stderr"
        },
        {
          "output_type": "stream",
          "text": [
            "[2/4][16/79]\tLoss_D: 0.0002\tLoss_G: 45.6284\tD(x): 0.9998\tD(G(z)): 0.0000 / 0.0000\n"
          ],
          "name": "stdout"
        },
        {
          "output_type": "stream",
          "text": [
            "\r 23%|██▎       | 18/79 [00:07<00:24,  2.47it/s]"
          ],
          "name": "stderr"
        },
        {
          "output_type": "stream",
          "text": [
            "[2/4][17/79]\tLoss_D: 0.0002\tLoss_G: 45.3705\tD(x): 0.9998\tD(G(z)): 0.0000 / 0.0000\n"
          ],
          "name": "stdout"
        },
        {
          "output_type": "stream",
          "text": [
            "\r 24%|██▍       | 19/79 [00:07<00:24,  2.47it/s]"
          ],
          "name": "stderr"
        },
        {
          "output_type": "stream",
          "text": [
            "[2/4][18/79]\tLoss_D: 0.0000\tLoss_G: 45.4015\tD(x): 1.0000\tD(G(z)): 0.0000 / 0.0000\n"
          ],
          "name": "stdout"
        },
        {
          "output_type": "stream",
          "text": [
            "\r 25%|██▌       | 20/79 [00:08<00:23,  2.47it/s]"
          ],
          "name": "stderr"
        },
        {
          "output_type": "stream",
          "text": [
            "[2/4][19/79]\tLoss_D: 0.0002\tLoss_G: 45.1101\tD(x): 0.9998\tD(G(z)): 0.0000 / 0.0000\n"
          ],
          "name": "stdout"
        },
        {
          "output_type": "stream",
          "text": [
            "\r 27%|██▋       | 21/79 [00:08<00:23,  2.47it/s]"
          ],
          "name": "stderr"
        },
        {
          "output_type": "stream",
          "text": [
            "[2/4][20/79]\tLoss_D: 0.0000\tLoss_G: 45.2821\tD(x): 1.0000\tD(G(z)): 0.0000 / 0.0000\n"
          ],
          "name": "stdout"
        },
        {
          "output_type": "stream",
          "text": [
            "\r 28%|██▊       | 22/79 [00:08<00:23,  2.46it/s]"
          ],
          "name": "stderr"
        },
        {
          "output_type": "stream",
          "text": [
            "[2/4][21/79]\tLoss_D: 0.0002\tLoss_G: 45.2583\tD(x): 0.9998\tD(G(z)): 0.0000 / 0.0000\n"
          ],
          "name": "stdout"
        },
        {
          "output_type": "stream",
          "text": [
            "\r 29%|██▉       | 23/79 [00:09<00:22,  2.47it/s]"
          ],
          "name": "stderr"
        },
        {
          "output_type": "stream",
          "text": [
            "[2/4][22/79]\tLoss_D: 0.0002\tLoss_G: 45.1802\tD(x): 0.9998\tD(G(z)): 0.0000 / 0.0000\n"
          ],
          "name": "stdout"
        },
        {
          "output_type": "stream",
          "text": [
            "\r 30%|███       | 24/79 [00:09<00:22,  2.47it/s]"
          ],
          "name": "stderr"
        },
        {
          "output_type": "stream",
          "text": [
            "[2/4][23/79]\tLoss_D: 0.0002\tLoss_G: 45.2461\tD(x): 0.9998\tD(G(z)): 0.0000 / 0.0000\n"
          ],
          "name": "stdout"
        },
        {
          "output_type": "stream",
          "text": [
            "\r 32%|███▏      | 25/79 [00:10<00:21,  2.47it/s]"
          ],
          "name": "stderr"
        },
        {
          "output_type": "stream",
          "text": [
            "[2/4][24/79]\tLoss_D: 0.0000\tLoss_G: 45.2004\tD(x): 1.0000\tD(G(z)): 0.0000 / 0.0000\n"
          ],
          "name": "stdout"
        },
        {
          "output_type": "stream",
          "text": [
            "\r 33%|███▎      | 26/79 [00:10<00:21,  2.47it/s]"
          ],
          "name": "stderr"
        },
        {
          "output_type": "stream",
          "text": [
            "[2/4][25/79]\tLoss_D: 0.0001\tLoss_G: 45.2669\tD(x): 0.9999\tD(G(z)): 0.0000 / 0.0000\n"
          ],
          "name": "stdout"
        },
        {
          "output_type": "stream",
          "text": [
            "\r 34%|███▍      | 27/79 [00:10<00:21,  2.47it/s]"
          ],
          "name": "stderr"
        },
        {
          "output_type": "stream",
          "text": [
            "[2/4][26/79]\tLoss_D: 0.0001\tLoss_G: 45.1619\tD(x): 0.9999\tD(G(z)): 0.0000 / 0.0000\n"
          ],
          "name": "stdout"
        },
        {
          "output_type": "stream",
          "text": [
            "\r 35%|███▌      | 28/79 [00:11<00:20,  2.47it/s]"
          ],
          "name": "stderr"
        },
        {
          "output_type": "stream",
          "text": [
            "[2/4][27/79]\tLoss_D: 0.0001\tLoss_G: 45.2957\tD(x): 0.9999\tD(G(z)): 0.0000 / 0.0000\n"
          ],
          "name": "stdout"
        },
        {
          "output_type": "stream",
          "text": [
            "\r 37%|███▋      | 29/79 [00:11<00:20,  2.47it/s]"
          ],
          "name": "stderr"
        },
        {
          "output_type": "stream",
          "text": [
            "[2/4][28/79]\tLoss_D: 0.0001\tLoss_G: 45.3204\tD(x): 0.9999\tD(G(z)): 0.0000 / 0.0000\n"
          ],
          "name": "stdout"
        },
        {
          "output_type": "stream",
          "text": [
            "\r 38%|███▊      | 30/79 [00:12<00:19,  2.47it/s]"
          ],
          "name": "stderr"
        },
        {
          "output_type": "stream",
          "text": [
            "[2/4][29/79]\tLoss_D: 0.0001\tLoss_G: 45.1749\tD(x): 0.9999\tD(G(z)): 0.0000 / 0.0000\n"
          ],
          "name": "stdout"
        },
        {
          "output_type": "stream",
          "text": [
            "\r 39%|███▉      | 31/79 [00:12<00:19,  2.47it/s]"
          ],
          "name": "stderr"
        },
        {
          "output_type": "stream",
          "text": [
            "[2/4][30/79]\tLoss_D: 0.0001\tLoss_G: 45.0619\tD(x): 0.9999\tD(G(z)): 0.0000 / 0.0000\n"
          ],
          "name": "stdout"
        },
        {
          "output_type": "stream",
          "text": [
            "\r 41%|████      | 32/79 [00:12<00:19,  2.47it/s]"
          ],
          "name": "stderr"
        },
        {
          "output_type": "stream",
          "text": [
            "[2/4][31/79]\tLoss_D: 0.0001\tLoss_G: 45.4811\tD(x): 0.9999\tD(G(z)): 0.0000 / 0.0000\n"
          ],
          "name": "stdout"
        },
        {
          "output_type": "stream",
          "text": [
            "\r 42%|████▏     | 33/79 [00:13<00:18,  2.47it/s]"
          ],
          "name": "stderr"
        },
        {
          "output_type": "stream",
          "text": [
            "[2/4][32/79]\tLoss_D: 0.0001\tLoss_G: 45.3011\tD(x): 0.9999\tD(G(z)): 0.0000 / 0.0000\n"
          ],
          "name": "stdout"
        },
        {
          "output_type": "stream",
          "text": [
            "\r 43%|████▎     | 34/79 [00:13<00:18,  2.47it/s]"
          ],
          "name": "stderr"
        },
        {
          "output_type": "stream",
          "text": [
            "[2/4][33/79]\tLoss_D: 0.0003\tLoss_G: 45.3828\tD(x): 0.9997\tD(G(z)): 0.0000 / 0.0000\n"
          ],
          "name": "stdout"
        },
        {
          "output_type": "stream",
          "text": [
            "\r 44%|████▍     | 35/79 [00:14<00:17,  2.47it/s]"
          ],
          "name": "stderr"
        },
        {
          "output_type": "stream",
          "text": [
            "[2/4][34/79]\tLoss_D: 0.0001\tLoss_G: 45.4763\tD(x): 0.9999\tD(G(z)): 0.0000 / 0.0000\n"
          ],
          "name": "stdout"
        },
        {
          "output_type": "stream",
          "text": [
            "\r 46%|████▌     | 36/79 [00:14<00:17,  2.47it/s]"
          ],
          "name": "stderr"
        },
        {
          "output_type": "stream",
          "text": [
            "[2/4][35/79]\tLoss_D: 0.0001\tLoss_G: 45.0131\tD(x): 0.9999\tD(G(z)): 0.0000 / 0.0000\n"
          ],
          "name": "stdout"
        },
        {
          "output_type": "stream",
          "text": [
            "\r 47%|████▋     | 37/79 [00:14<00:17,  2.47it/s]"
          ],
          "name": "stderr"
        },
        {
          "output_type": "stream",
          "text": [
            "[2/4][36/79]\tLoss_D: 0.0001\tLoss_G: 45.2689\tD(x): 0.9999\tD(G(z)): 0.0000 / 0.0000\n"
          ],
          "name": "stdout"
        },
        {
          "output_type": "stream",
          "text": [
            "\r 48%|████▊     | 38/79 [00:15<00:16,  2.47it/s]"
          ],
          "name": "stderr"
        },
        {
          "output_type": "stream",
          "text": [
            "[2/4][37/79]\tLoss_D: 0.0002\tLoss_G: 45.4715\tD(x): 0.9998\tD(G(z)): 0.0000 / 0.0000\n"
          ],
          "name": "stdout"
        },
        {
          "output_type": "stream",
          "text": [
            "\r 49%|████▉     | 39/79 [00:15<00:16,  2.47it/s]"
          ],
          "name": "stderr"
        },
        {
          "output_type": "stream",
          "text": [
            "[2/4][38/79]\tLoss_D: 0.0001\tLoss_G: 45.3436\tD(x): 0.9999\tD(G(z)): 0.0000 / 0.0000\n"
          ],
          "name": "stdout"
        },
        {
          "output_type": "stream",
          "text": [
            "\r 51%|█████     | 40/79 [00:16<00:15,  2.48it/s]"
          ],
          "name": "stderr"
        },
        {
          "output_type": "stream",
          "text": [
            "[2/4][39/79]\tLoss_D: 0.0001\tLoss_G: 45.3245\tD(x): 0.9999\tD(G(z)): 0.0000 / 0.0000\n"
          ],
          "name": "stdout"
        },
        {
          "output_type": "stream",
          "text": [
            "\r 52%|█████▏    | 41/79 [00:16<00:15,  2.49it/s]"
          ],
          "name": "stderr"
        },
        {
          "output_type": "stream",
          "text": [
            "[2/4][40/79]\tLoss_D: 0.0001\tLoss_G: 45.5871\tD(x): 0.9999\tD(G(z)): 0.0000 / 0.0000\n"
          ],
          "name": "stdout"
        },
        {
          "output_type": "stream",
          "text": [
            "\r 53%|█████▎    | 42/79 [00:16<00:14,  2.49it/s]"
          ],
          "name": "stderr"
        },
        {
          "output_type": "stream",
          "text": [
            "[2/4][41/79]\tLoss_D: 0.0000\tLoss_G: 45.2654\tD(x): 1.0000\tD(G(z)): 0.0000 / 0.0000\n"
          ],
          "name": "stdout"
        },
        {
          "output_type": "stream",
          "text": [
            "\r 54%|█████▍    | 43/79 [00:17<00:14,  2.49it/s]"
          ],
          "name": "stderr"
        },
        {
          "output_type": "stream",
          "text": [
            "[2/4][42/79]\tLoss_D: 0.0001\tLoss_G: 45.2231\tD(x): 0.9999\tD(G(z)): 0.0000 / 0.0000\n"
          ],
          "name": "stdout"
        },
        {
          "output_type": "stream",
          "text": [
            "\r 56%|█████▌    | 44/79 [00:17<00:14,  2.49it/s]"
          ],
          "name": "stderr"
        },
        {
          "output_type": "stream",
          "text": [
            "[2/4][43/79]\tLoss_D: 0.0001\tLoss_G: 45.3683\tD(x): 0.9999\tD(G(z)): 0.0000 / 0.0000\n"
          ],
          "name": "stdout"
        },
        {
          "output_type": "stream",
          "text": [
            "\r 57%|█████▋    | 45/79 [00:18<00:13,  2.50it/s]"
          ],
          "name": "stderr"
        },
        {
          "output_type": "stream",
          "text": [
            "[2/4][44/79]\tLoss_D: 0.0001\tLoss_G: 45.3618\tD(x): 0.9999\tD(G(z)): 0.0000 / 0.0000\n"
          ],
          "name": "stdout"
        },
        {
          "output_type": "stream",
          "text": [
            "\r 58%|█████▊    | 46/79 [00:18<00:13,  2.51it/s]"
          ],
          "name": "stderr"
        },
        {
          "output_type": "stream",
          "text": [
            "[2/4][45/79]\tLoss_D: 0.0001\tLoss_G: 45.0729\tD(x): 0.9999\tD(G(z)): 0.0000 / 0.0000\n"
          ],
          "name": "stdout"
        },
        {
          "output_type": "stream",
          "text": [
            "\r 59%|█████▉    | 47/79 [00:18<00:12,  2.51it/s]"
          ],
          "name": "stderr"
        },
        {
          "output_type": "stream",
          "text": [
            "[2/4][46/79]\tLoss_D: 0.0004\tLoss_G: 45.2802\tD(x): 0.9996\tD(G(z)): 0.0000 / 0.0000\n"
          ],
          "name": "stdout"
        },
        {
          "output_type": "stream",
          "text": [
            "\r 61%|██████    | 48/79 [00:19<00:12,  2.51it/s]"
          ],
          "name": "stderr"
        },
        {
          "output_type": "stream",
          "text": [
            "[2/4][47/79]\tLoss_D: 0.0001\tLoss_G: 45.4432\tD(x): 0.9999\tD(G(z)): 0.0000 / 0.0000\n"
          ],
          "name": "stdout"
        },
        {
          "output_type": "stream",
          "text": [
            "\r 62%|██████▏   | 49/79 [00:19<00:11,  2.51it/s]"
          ],
          "name": "stderr"
        },
        {
          "output_type": "stream",
          "text": [
            "[2/4][48/79]\tLoss_D: 0.0001\tLoss_G: 45.2998\tD(x): 0.9999\tD(G(z)): 0.0000 / 0.0000\n"
          ],
          "name": "stdout"
        },
        {
          "output_type": "stream",
          "text": [
            "\r 63%|██████▎   | 50/79 [00:20<00:11,  2.50it/s]"
          ],
          "name": "stderr"
        },
        {
          "output_type": "stream",
          "text": [
            "[2/4][49/79]\tLoss_D: 0.0004\tLoss_G: 45.1851\tD(x): 0.9996\tD(G(z)): 0.0000 / 0.0000\n"
          ],
          "name": "stdout"
        },
        {
          "output_type": "stream",
          "text": [
            "\r 65%|██████▍   | 51/79 [00:20<00:11,  2.50it/s]"
          ],
          "name": "stderr"
        },
        {
          "output_type": "stream",
          "text": [
            "[2/4][50/79]\tLoss_D: 0.0001\tLoss_G: 45.0133\tD(x): 0.9999\tD(G(z)): 0.0000 / 0.0000\n"
          ],
          "name": "stdout"
        },
        {
          "output_type": "stream",
          "text": [
            "\r 66%|██████▌   | 52/79 [00:20<00:10,  2.50it/s]"
          ],
          "name": "stderr"
        },
        {
          "output_type": "stream",
          "text": [
            "[2/4][51/79]\tLoss_D: 0.0002\tLoss_G: 45.4604\tD(x): 0.9998\tD(G(z)): 0.0000 / 0.0000\n"
          ],
          "name": "stdout"
        },
        {
          "output_type": "stream",
          "text": [
            "\r 67%|██████▋   | 53/79 [00:21<00:10,  2.52it/s]"
          ],
          "name": "stderr"
        },
        {
          "output_type": "stream",
          "text": [
            "[2/4][52/79]\tLoss_D: 0.0001\tLoss_G: 45.2000\tD(x): 0.9999\tD(G(z)): 0.0000 / 0.0000\n"
          ],
          "name": "stdout"
        },
        {
          "output_type": "stream",
          "text": [
            "\r 68%|██████▊   | 54/79 [00:21<00:09,  2.52it/s]"
          ],
          "name": "stderr"
        },
        {
          "output_type": "stream",
          "text": [
            "[2/4][53/79]\tLoss_D: 0.0001\tLoss_G: 45.4072\tD(x): 0.9999\tD(G(z)): 0.0000 / 0.0000\n"
          ],
          "name": "stdout"
        },
        {
          "output_type": "stream",
          "text": [
            "\r 70%|██████▉   | 55/79 [00:22<00:09,  2.52it/s]"
          ],
          "name": "stderr"
        },
        {
          "output_type": "stream",
          "text": [
            "[2/4][54/79]\tLoss_D: 0.0001\tLoss_G: 45.2778\tD(x): 0.9999\tD(G(z)): 0.0000 / 0.0000\n"
          ],
          "name": "stdout"
        },
        {
          "output_type": "stream",
          "text": [
            "\r 71%|███████   | 56/79 [00:22<00:09,  2.52it/s]"
          ],
          "name": "stderr"
        },
        {
          "output_type": "stream",
          "text": [
            "[2/4][55/79]\tLoss_D: 0.0001\tLoss_G: 45.4824\tD(x): 0.9999\tD(G(z)): 0.0000 / 0.0000\n"
          ],
          "name": "stdout"
        },
        {
          "output_type": "stream",
          "text": [
            "\r 72%|███████▏  | 57/79 [00:22<00:08,  2.53it/s]"
          ],
          "name": "stderr"
        },
        {
          "output_type": "stream",
          "text": [
            "[2/4][56/79]\tLoss_D: 0.0001\tLoss_G: 45.0891\tD(x): 0.9999\tD(G(z)): 0.0000 / 0.0000\n"
          ],
          "name": "stdout"
        },
        {
          "output_type": "stream",
          "text": [
            "\r 73%|███████▎  | 58/79 [00:23<00:08,  2.52it/s]"
          ],
          "name": "stderr"
        },
        {
          "output_type": "stream",
          "text": [
            "[2/4][57/79]\tLoss_D: 0.0001\tLoss_G: 45.5056\tD(x): 0.9999\tD(G(z)): 0.0000 / 0.0000\n"
          ],
          "name": "stdout"
        },
        {
          "output_type": "stream",
          "text": [
            "\r 75%|███████▍  | 59/79 [00:23<00:07,  2.52it/s]"
          ],
          "name": "stderr"
        },
        {
          "output_type": "stream",
          "text": [
            "[2/4][58/79]\tLoss_D: 0.0001\tLoss_G: 45.3496\tD(x): 0.9999\tD(G(z)): 0.0000 / 0.0000\n"
          ],
          "name": "stdout"
        },
        {
          "output_type": "stream",
          "text": [
            "\r 76%|███████▌  | 60/79 [00:24<00:07,  2.53it/s]"
          ],
          "name": "stderr"
        },
        {
          "output_type": "stream",
          "text": [
            "[2/4][59/79]\tLoss_D: 0.0000\tLoss_G: 45.2215\tD(x): 1.0000\tD(G(z)): 0.0000 / 0.0000\n"
          ],
          "name": "stdout"
        },
        {
          "output_type": "stream",
          "text": [
            "\r 77%|███████▋  | 61/79 [00:24<00:07,  2.53it/s]"
          ],
          "name": "stderr"
        },
        {
          "output_type": "stream",
          "text": [
            "[2/4][60/79]\tLoss_D: 0.0000\tLoss_G: 45.0818\tD(x): 1.0000\tD(G(z)): 0.0000 / 0.0000\n"
          ],
          "name": "stdout"
        },
        {
          "output_type": "stream",
          "text": [
            "\r 78%|███████▊  | 62/79 [00:24<00:06,  2.53it/s]"
          ],
          "name": "stderr"
        },
        {
          "output_type": "stream",
          "text": [
            "[2/4][61/79]\tLoss_D: 0.0001\tLoss_G: 45.2443\tD(x): 0.9999\tD(G(z)): 0.0000 / 0.0000\n"
          ],
          "name": "stdout"
        },
        {
          "output_type": "stream",
          "text": [
            "\r 80%|███████▉  | 63/79 [00:25<00:06,  2.54it/s]"
          ],
          "name": "stderr"
        },
        {
          "output_type": "stream",
          "text": [
            "[2/4][62/79]\tLoss_D: 0.0000\tLoss_G: 45.2904\tD(x): 1.0000\tD(G(z)): 0.0000 / 0.0000\n"
          ],
          "name": "stdout"
        },
        {
          "output_type": "stream",
          "text": [
            "\r 81%|████████  | 64/79 [00:25<00:05,  2.54it/s]"
          ],
          "name": "stderr"
        },
        {
          "output_type": "stream",
          "text": [
            "[2/4][63/79]\tLoss_D: 0.0001\tLoss_G: 45.0228\tD(x): 0.9999\tD(G(z)): 0.0000 / 0.0000\n"
          ],
          "name": "stdout"
        },
        {
          "output_type": "stream",
          "text": [
            "\r 82%|████████▏ | 65/79 [00:26<00:05,  2.54it/s]"
          ],
          "name": "stderr"
        },
        {
          "output_type": "stream",
          "text": [
            "[2/4][64/79]\tLoss_D: 0.0001\tLoss_G: 45.5359\tD(x): 0.9999\tD(G(z)): 0.0000 / 0.0000\n"
          ],
          "name": "stdout"
        },
        {
          "output_type": "stream",
          "text": [
            "\r 84%|████████▎ | 66/79 [00:26<00:05,  2.54it/s]"
          ],
          "name": "stderr"
        },
        {
          "output_type": "stream",
          "text": [
            "[2/4][65/79]\tLoss_D: 0.0001\tLoss_G: 45.1139\tD(x): 0.9999\tD(G(z)): 0.0000 / 0.0000\n"
          ],
          "name": "stdout"
        },
        {
          "output_type": "stream",
          "text": [
            "\r 85%|████████▍ | 67/79 [00:26<00:04,  2.55it/s]"
          ],
          "name": "stderr"
        },
        {
          "output_type": "stream",
          "text": [
            "[2/4][66/79]\tLoss_D: 0.0001\tLoss_G: 45.3014\tD(x): 0.9999\tD(G(z)): 0.0000 / 0.0000\n"
          ],
          "name": "stdout"
        },
        {
          "output_type": "stream",
          "text": [
            "\r 86%|████████▌ | 68/79 [00:27<00:04,  2.53it/s]"
          ],
          "name": "stderr"
        },
        {
          "output_type": "stream",
          "text": [
            "[2/4][67/79]\tLoss_D: 0.0001\tLoss_G: 45.3711\tD(x): 0.9999\tD(G(z)): 0.0000 / 0.0000\n"
          ],
          "name": "stdout"
        },
        {
          "output_type": "stream",
          "text": [
            "\r 87%|████████▋ | 69/79 [00:27<00:03,  2.54it/s]"
          ],
          "name": "stderr"
        },
        {
          "output_type": "stream",
          "text": [
            "[2/4][68/79]\tLoss_D: 0.0000\tLoss_G: 45.3884\tD(x): 1.0000\tD(G(z)): 0.0000 / 0.0000\n"
          ],
          "name": "stdout"
        },
        {
          "output_type": "stream",
          "text": [
            "\r 89%|████████▊ | 70/79 [00:28<00:03,  2.54it/s]"
          ],
          "name": "stderr"
        },
        {
          "output_type": "stream",
          "text": [
            "[2/4][69/79]\tLoss_D: 0.0001\tLoss_G: 45.0526\tD(x): 0.9999\tD(G(z)): 0.0000 / 0.0000\n"
          ],
          "name": "stdout"
        },
        {
          "output_type": "stream",
          "text": [
            "\r 90%|████████▉ | 71/79 [00:28<00:03,  2.55it/s]"
          ],
          "name": "stderr"
        },
        {
          "output_type": "stream",
          "text": [
            "[2/4][70/79]\tLoss_D: 0.0001\tLoss_G: 45.3689\tD(x): 0.9999\tD(G(z)): 0.0000 / 0.0000\n"
          ],
          "name": "stdout"
        },
        {
          "output_type": "stream",
          "text": [
            "\r 91%|█████████ | 72/79 [00:28<00:02,  2.55it/s]"
          ],
          "name": "stderr"
        },
        {
          "output_type": "stream",
          "text": [
            "[2/4][71/79]\tLoss_D: 0.0000\tLoss_G: 45.2062\tD(x): 1.0000\tD(G(z)): 0.0000 / 0.0000\n"
          ],
          "name": "stdout"
        },
        {
          "output_type": "stream",
          "text": [
            "\r 92%|█████████▏| 73/79 [00:29<00:02,  2.56it/s]"
          ],
          "name": "stderr"
        },
        {
          "output_type": "stream",
          "text": [
            "[2/4][72/79]\tLoss_D: 0.0001\tLoss_G: 45.2293\tD(x): 0.9999\tD(G(z)): 0.0000 / 0.0000\n"
          ],
          "name": "stdout"
        },
        {
          "output_type": "stream",
          "text": [
            "\r 94%|█████████▎| 74/79 [00:29<00:01,  2.55it/s]"
          ],
          "name": "stderr"
        },
        {
          "output_type": "stream",
          "text": [
            "[2/4][73/79]\tLoss_D: 0.0001\tLoss_G: 45.3366\tD(x): 0.9999\tD(G(z)): 0.0000 / 0.0000\n"
          ],
          "name": "stdout"
        },
        {
          "output_type": "stream",
          "text": [
            "\r 95%|█████████▍| 75/79 [00:30<00:01,  2.56it/s]"
          ],
          "name": "stderr"
        },
        {
          "output_type": "stream",
          "text": [
            "[2/4][74/79]\tLoss_D: 0.0000\tLoss_G: 45.3234\tD(x): 1.0000\tD(G(z)): 0.0000 / 0.0000\n"
          ],
          "name": "stdout"
        },
        {
          "output_type": "stream",
          "text": [
            "\r 96%|█████████▌| 76/79 [00:30<00:01,  2.55it/s]"
          ],
          "name": "stderr"
        },
        {
          "output_type": "stream",
          "text": [
            "[2/4][75/79]\tLoss_D: 0.0000\tLoss_G: 45.1344\tD(x): 1.0000\tD(G(z)): 0.0000 / 0.0000\n"
          ],
          "name": "stdout"
        },
        {
          "output_type": "stream",
          "text": [
            "\r 97%|█████████▋| 77/79 [00:30<00:00,  2.55it/s]"
          ],
          "name": "stderr"
        },
        {
          "output_type": "stream",
          "text": [
            "[2/4][76/79]\tLoss_D: 0.0001\tLoss_G: 45.1158\tD(x): 0.9999\tD(G(z)): 0.0000 / 0.0000\n"
          ],
          "name": "stdout"
        },
        {
          "output_type": "stream",
          "text": [
            "100%|██████████| 79/79 [00:31<00:00,  2.53it/s]\n",
            "  0%|          | 0/79 [00:00<?, ?it/s]"
          ],
          "name": "stderr"
        },
        {
          "output_type": "stream",
          "text": [
            "[2/4][77/79]\tLoss_D: 0.0001\tLoss_G: 45.3800\tD(x): 0.9999\tD(G(z)): 0.0000 / 0.0000\n",
            "[2/4][78/79]\tLoss_D: 0.0004\tLoss_G: 44.5469\tD(x): 0.9996\tD(G(z)): 0.0000 / 0.0000\n"
          ],
          "name": "stdout"
        },
        {
          "output_type": "stream",
          "text": [
            "\r  1%|▏         | 1/79 [00:00<00:30,  2.59it/s]"
          ],
          "name": "stderr"
        },
        {
          "output_type": "stream",
          "text": [
            "[3/4][0/79]\tLoss_D: 0.0000\tLoss_G: 45.1525\tD(x): 1.0000\tD(G(z)): 0.0000 / 0.0000\n"
          ],
          "name": "stdout"
        },
        {
          "output_type": "stream",
          "text": [
            "\r  3%|▎         | 2/79 [00:00<00:29,  2.59it/s]"
          ],
          "name": "stderr"
        },
        {
          "output_type": "stream",
          "text": [
            "[3/4][1/79]\tLoss_D: 0.0001\tLoss_G: 44.7710\tD(x): 0.9999\tD(G(z)): 0.0000 / 0.0000\n"
          ],
          "name": "stdout"
        },
        {
          "output_type": "stream",
          "text": [
            "\r  4%|▍         | 3/79 [00:01<00:29,  2.57it/s]"
          ],
          "name": "stderr"
        },
        {
          "output_type": "stream",
          "text": [
            "[3/4][2/79]\tLoss_D: 0.0001\tLoss_G: 45.2260\tD(x): 0.9999\tD(G(z)): 0.0000 / 0.0000\n"
          ],
          "name": "stdout"
        },
        {
          "output_type": "stream",
          "text": [
            "\r  5%|▌         | 4/79 [00:01<00:29,  2.57it/s]"
          ],
          "name": "stderr"
        },
        {
          "output_type": "stream",
          "text": [
            "[3/4][3/79]\tLoss_D: 0.0001\tLoss_G: 45.2309\tD(x): 0.9999\tD(G(z)): 0.0000 / 0.0000\n"
          ],
          "name": "stdout"
        },
        {
          "output_type": "stream",
          "text": [
            "\r  6%|▋         | 5/79 [00:01<00:28,  2.58it/s]"
          ],
          "name": "stderr"
        },
        {
          "output_type": "stream",
          "text": [
            "[3/4][4/79]\tLoss_D: 0.0000\tLoss_G: 45.1474\tD(x): 1.0000\tD(G(z)): 0.0000 / 0.0000\n"
          ],
          "name": "stdout"
        },
        {
          "output_type": "stream",
          "text": [
            "\r  8%|▊         | 6/79 [00:02<00:28,  2.58it/s]"
          ],
          "name": "stderr"
        },
        {
          "output_type": "stream",
          "text": [
            "[3/4][5/79]\tLoss_D: 0.0000\tLoss_G: 45.1789\tD(x): 1.0000\tD(G(z)): 0.0000 / 0.0000\n"
          ],
          "name": "stdout"
        },
        {
          "output_type": "stream",
          "text": [
            "\r  9%|▉         | 7/79 [00:02<00:27,  2.58it/s]"
          ],
          "name": "stderr"
        },
        {
          "output_type": "stream",
          "text": [
            "[3/4][6/79]\tLoss_D: 0.0001\tLoss_G: 45.0510\tD(x): 0.9999\tD(G(z)): 0.0000 / 0.0000\n"
          ],
          "name": "stdout"
        },
        {
          "output_type": "stream",
          "text": [
            "\r 10%|█         | 8/79 [00:03<00:27,  2.58it/s]"
          ],
          "name": "stderr"
        },
        {
          "output_type": "stream",
          "text": [
            "[3/4][7/79]\tLoss_D: 0.0000\tLoss_G: 45.0875\tD(x): 1.0000\tD(G(z)): 0.0000 / 0.0000\n"
          ],
          "name": "stdout"
        },
        {
          "output_type": "stream",
          "text": [
            "\r 11%|█▏        | 9/79 [00:03<00:27,  2.58it/s]"
          ],
          "name": "stderr"
        },
        {
          "output_type": "stream",
          "text": [
            "[3/4][8/79]\tLoss_D: 0.0001\tLoss_G: 45.0379\tD(x): 0.9999\tD(G(z)): 0.0000 / 0.0000\n"
          ],
          "name": "stdout"
        },
        {
          "output_type": "stream",
          "text": [
            "\r 13%|█▎        | 10/79 [00:03<00:26,  2.58it/s]"
          ],
          "name": "stderr"
        },
        {
          "output_type": "stream",
          "text": [
            "[3/4][9/79]\tLoss_D: 0.0001\tLoss_G: 45.1532\tD(x): 0.9999\tD(G(z)): 0.0000 / 0.0000\n"
          ],
          "name": "stdout"
        },
        {
          "output_type": "stream",
          "text": [
            "\r 14%|█▍        | 11/79 [00:04<00:26,  2.57it/s]"
          ],
          "name": "stderr"
        },
        {
          "output_type": "stream",
          "text": [
            "[3/4][10/79]\tLoss_D: 0.0001\tLoss_G: 45.4421\tD(x): 0.9999\tD(G(z)): 0.0000 / 0.0000\n"
          ],
          "name": "stdout"
        },
        {
          "output_type": "stream",
          "text": [
            "\r 15%|█▌        | 12/79 [00:04<00:26,  2.58it/s]"
          ],
          "name": "stderr"
        },
        {
          "output_type": "stream",
          "text": [
            "[3/4][11/79]\tLoss_D: 0.0000\tLoss_G: 45.1062\tD(x): 1.0000\tD(G(z)): 0.0000 / 0.0000\n"
          ],
          "name": "stdout"
        },
        {
          "output_type": "stream",
          "text": [
            "\r 16%|█▋        | 13/79 [00:05<00:25,  2.58it/s]"
          ],
          "name": "stderr"
        },
        {
          "output_type": "stream",
          "text": [
            "[3/4][12/79]\tLoss_D: 0.0000\tLoss_G: 45.0722\tD(x): 1.0000\tD(G(z)): 0.0000 / 0.0000\n"
          ],
          "name": "stdout"
        },
        {
          "output_type": "stream",
          "text": [
            "\r 18%|█▊        | 14/79 [00:05<00:25,  2.58it/s]"
          ],
          "name": "stderr"
        },
        {
          "output_type": "stream",
          "text": [
            "[3/4][13/79]\tLoss_D: 0.0000\tLoss_G: 45.0152\tD(x): 1.0000\tD(G(z)): 0.0000 / 0.0000\n"
          ],
          "name": "stdout"
        },
        {
          "output_type": "stream",
          "text": [
            "\r 19%|█▉        | 15/79 [00:05<00:24,  2.59it/s]"
          ],
          "name": "stderr"
        },
        {
          "output_type": "stream",
          "text": [
            "[3/4][14/79]\tLoss_D: 0.0001\tLoss_G: 45.2482\tD(x): 0.9999\tD(G(z)): 0.0000 / 0.0000\n"
          ],
          "name": "stdout"
        },
        {
          "output_type": "stream",
          "text": [
            "\r 20%|██        | 16/79 [00:06<00:24,  2.59it/s]"
          ],
          "name": "stderr"
        },
        {
          "output_type": "stream",
          "text": [
            "[3/4][15/79]\tLoss_D: 0.0000\tLoss_G: 44.9375\tD(x): 1.0000\tD(G(z)): 0.0000 / 0.0000\n"
          ],
          "name": "stdout"
        },
        {
          "output_type": "stream",
          "text": [
            "\r 22%|██▏       | 17/79 [00:06<00:24,  2.58it/s]"
          ],
          "name": "stderr"
        },
        {
          "output_type": "stream",
          "text": [
            "[3/4][16/79]\tLoss_D: 0.0001\tLoss_G: 45.0336\tD(x): 0.9999\tD(G(z)): 0.0000 / 0.0000\n"
          ],
          "name": "stdout"
        },
        {
          "output_type": "stream",
          "text": [
            "\r 23%|██▎       | 18/79 [00:06<00:23,  2.58it/s]"
          ],
          "name": "stderr"
        },
        {
          "output_type": "stream",
          "text": [
            "[3/4][17/79]\tLoss_D: 0.0001\tLoss_G: 45.2942\tD(x): 0.9999\tD(G(z)): 0.0000 / 0.0000\n"
          ],
          "name": "stdout"
        },
        {
          "output_type": "stream",
          "text": [
            "\r 24%|██▍       | 19/79 [00:07<00:23,  2.58it/s]"
          ],
          "name": "stderr"
        },
        {
          "output_type": "stream",
          "text": [
            "[3/4][18/79]\tLoss_D: 0.0001\tLoss_G: 44.8026\tD(x): 0.9999\tD(G(z)): 0.0000 / 0.0000\n"
          ],
          "name": "stdout"
        },
        {
          "output_type": "stream",
          "text": [
            "\r 25%|██▌       | 20/79 [00:07<00:22,  2.58it/s]"
          ],
          "name": "stderr"
        },
        {
          "output_type": "stream",
          "text": [
            "[3/4][19/79]\tLoss_D: 0.0000\tLoss_G: 45.3392\tD(x): 1.0000\tD(G(z)): 0.0000 / 0.0000\n"
          ],
          "name": "stdout"
        },
        {
          "output_type": "stream",
          "text": [
            "\r 27%|██▋       | 21/79 [00:08<00:22,  2.58it/s]"
          ],
          "name": "stderr"
        },
        {
          "output_type": "stream",
          "text": [
            "[3/4][20/79]\tLoss_D: 0.0001\tLoss_G: 45.3764\tD(x): 0.9999\tD(G(z)): 0.0000 / 0.0000\n"
          ],
          "name": "stdout"
        },
        {
          "output_type": "stream",
          "text": [
            "\r 28%|██▊       | 22/79 [00:08<00:22,  2.58it/s]"
          ],
          "name": "stderr"
        },
        {
          "output_type": "stream",
          "text": [
            "[3/4][21/79]\tLoss_D: 0.0001\tLoss_G: 45.1068\tD(x): 0.9999\tD(G(z)): 0.0000 / 0.0000\n"
          ],
          "name": "stdout"
        },
        {
          "output_type": "stream",
          "text": [
            "\r 29%|██▉       | 23/79 [00:08<00:21,  2.58it/s]"
          ],
          "name": "stderr"
        },
        {
          "output_type": "stream",
          "text": [
            "[3/4][22/79]\tLoss_D: 0.0001\tLoss_G: 45.0852\tD(x): 0.9999\tD(G(z)): 0.0000 / 0.0000\n"
          ],
          "name": "stdout"
        },
        {
          "output_type": "stream",
          "text": [
            "\r 30%|███       | 24/79 [00:09<00:21,  2.55it/s]"
          ],
          "name": "stderr"
        },
        {
          "output_type": "stream",
          "text": [
            "[3/4][23/79]\tLoss_D: 0.0002\tLoss_G: 45.1947\tD(x): 0.9998\tD(G(z)): 0.0000 / 0.0000\n"
          ],
          "name": "stdout"
        },
        {
          "output_type": "stream",
          "text": [
            "\r 32%|███▏      | 25/79 [00:09<00:21,  2.56it/s]"
          ],
          "name": "stderr"
        },
        {
          "output_type": "stream",
          "text": [
            "[3/4][24/79]\tLoss_D: 0.0001\tLoss_G: 45.2606\tD(x): 0.9999\tD(G(z)): 0.0000 / 0.0000\n"
          ],
          "name": "stdout"
        },
        {
          "output_type": "stream",
          "text": [
            "\r 33%|███▎      | 26/79 [00:10<00:20,  2.57it/s]"
          ],
          "name": "stderr"
        },
        {
          "output_type": "stream",
          "text": [
            "[3/4][25/79]\tLoss_D: 0.0001\tLoss_G: 45.0900\tD(x): 0.9999\tD(G(z)): 0.0000 / 0.0000\n"
          ],
          "name": "stdout"
        },
        {
          "output_type": "stream",
          "text": [
            "\r 34%|███▍      | 27/79 [00:10<00:20,  2.57it/s]"
          ],
          "name": "stderr"
        },
        {
          "output_type": "stream",
          "text": [
            "[3/4][26/79]\tLoss_D: 0.0001\tLoss_G: 45.2022\tD(x): 0.9999\tD(G(z)): 0.0000 / 0.0000\n"
          ],
          "name": "stdout"
        },
        {
          "output_type": "stream",
          "text": [
            "\r 35%|███▌      | 28/79 [00:10<00:19,  2.58it/s]"
          ],
          "name": "stderr"
        },
        {
          "output_type": "stream",
          "text": [
            "[3/4][27/79]\tLoss_D: 0.0000\tLoss_G: 45.1380\tD(x): 1.0000\tD(G(z)): 0.0000 / 0.0000\n"
          ],
          "name": "stdout"
        },
        {
          "output_type": "stream",
          "text": [
            "\r 37%|███▋      | 29/79 [00:11<00:19,  2.58it/s]"
          ],
          "name": "stderr"
        },
        {
          "output_type": "stream",
          "text": [
            "[3/4][28/79]\tLoss_D: 0.0001\tLoss_G: 45.0673\tD(x): 0.9999\tD(G(z)): 0.0000 / 0.0000\n"
          ],
          "name": "stdout"
        },
        {
          "output_type": "stream",
          "text": [
            "\r 38%|███▊      | 30/79 [00:11<00:18,  2.59it/s]"
          ],
          "name": "stderr"
        },
        {
          "output_type": "stream",
          "text": [
            "[3/4][29/79]\tLoss_D: 0.0000\tLoss_G: 45.1738\tD(x): 1.0000\tD(G(z)): 0.0000 / 0.0000\n"
          ],
          "name": "stdout"
        },
        {
          "output_type": "stream",
          "text": [
            "\r 39%|███▉      | 31/79 [00:12<00:18,  2.59it/s]"
          ],
          "name": "stderr"
        },
        {
          "output_type": "stream",
          "text": [
            "[3/4][30/79]\tLoss_D: 0.0000\tLoss_G: 45.4014\tD(x): 1.0000\tD(G(z)): 0.0000 / 0.0000\n"
          ],
          "name": "stdout"
        },
        {
          "output_type": "stream",
          "text": [
            "\r 41%|████      | 32/79 [00:12<00:18,  2.59it/s]"
          ],
          "name": "stderr"
        },
        {
          "output_type": "stream",
          "text": [
            "[3/4][31/79]\tLoss_D: 0.0000\tLoss_G: 44.9599\tD(x): 1.0000\tD(G(z)): 0.0000 / 0.0000\n"
          ],
          "name": "stdout"
        },
        {
          "output_type": "stream",
          "text": [
            "\r 42%|████▏     | 33/79 [00:12<00:17,  2.60it/s]"
          ],
          "name": "stderr"
        },
        {
          "output_type": "stream",
          "text": [
            "[3/4][32/79]\tLoss_D: 0.0000\tLoss_G: 45.1883\tD(x): 1.0000\tD(G(z)): 0.0000 / 0.0000\n"
          ],
          "name": "stdout"
        },
        {
          "output_type": "stream",
          "text": [
            "\r 43%|████▎     | 34/79 [00:13<00:17,  2.60it/s]"
          ],
          "name": "stderr"
        },
        {
          "output_type": "stream",
          "text": [
            "[3/4][33/79]\tLoss_D: 0.0001\tLoss_G: 45.0631\tD(x): 0.9999\tD(G(z)): 0.0000 / 0.0000\n"
          ],
          "name": "stdout"
        },
        {
          "output_type": "stream",
          "text": [
            "\r 44%|████▍     | 35/79 [00:13<00:16,  2.60it/s]"
          ],
          "name": "stderr"
        },
        {
          "output_type": "stream",
          "text": [
            "[3/4][34/79]\tLoss_D: 0.0000\tLoss_G: 45.1927\tD(x): 1.0000\tD(G(z)): 0.0000 / 0.0000\n"
          ],
          "name": "stdout"
        },
        {
          "output_type": "stream",
          "text": [
            "\r 46%|████▌     | 36/79 [00:13<00:16,  2.60it/s]"
          ],
          "name": "stderr"
        },
        {
          "output_type": "stream",
          "text": [
            "[3/4][35/79]\tLoss_D: 0.0003\tLoss_G: 45.1044\tD(x): 0.9997\tD(G(z)): 0.0000 / 0.0000\n"
          ],
          "name": "stdout"
        },
        {
          "output_type": "stream",
          "text": [
            "\r 47%|████▋     | 37/79 [00:14<00:16,  2.60it/s]"
          ],
          "name": "stderr"
        },
        {
          "output_type": "stream",
          "text": [
            "[3/4][36/79]\tLoss_D: 0.0000\tLoss_G: 45.2927\tD(x): 1.0000\tD(G(z)): 0.0000 / 0.0000\n"
          ],
          "name": "stdout"
        },
        {
          "output_type": "stream",
          "text": [
            "\r 48%|████▊     | 38/79 [00:14<00:15,  2.60it/s]"
          ],
          "name": "stderr"
        },
        {
          "output_type": "stream",
          "text": [
            "[3/4][37/79]\tLoss_D: 0.0005\tLoss_G: 45.3555\tD(x): 0.9995\tD(G(z)): 0.0000 / 0.0000\n"
          ],
          "name": "stdout"
        },
        {
          "output_type": "stream",
          "text": [
            "\r 49%|████▉     | 39/79 [00:15<00:15,  2.60it/s]"
          ],
          "name": "stderr"
        },
        {
          "output_type": "stream",
          "text": [
            "[3/4][38/79]\tLoss_D: 0.0001\tLoss_G: 44.9808\tD(x): 0.9999\tD(G(z)): 0.0000 / 0.0000\n"
          ],
          "name": "stdout"
        },
        {
          "output_type": "stream",
          "text": [
            "\r 51%|█████     | 40/79 [00:15<00:14,  2.60it/s]"
          ],
          "name": "stderr"
        },
        {
          "output_type": "stream",
          "text": [
            "[3/4][39/79]\tLoss_D: 0.0001\tLoss_G: 45.3231\tD(x): 0.9999\tD(G(z)): 0.0000 / 0.0000\n"
          ],
          "name": "stdout"
        },
        {
          "output_type": "stream",
          "text": [
            "\r 52%|█████▏    | 41/79 [00:15<00:14,  2.60it/s]"
          ],
          "name": "stderr"
        },
        {
          "output_type": "stream",
          "text": [
            "[3/4][40/79]\tLoss_D: 0.0000\tLoss_G: 45.0236\tD(x): 1.0000\tD(G(z)): 0.0000 / 0.0000\n"
          ],
          "name": "stdout"
        },
        {
          "output_type": "stream",
          "text": [
            "\r 53%|█████▎    | 42/79 [00:16<00:14,  2.60it/s]"
          ],
          "name": "stderr"
        },
        {
          "output_type": "stream",
          "text": [
            "[3/4][41/79]\tLoss_D: 0.0001\tLoss_G: 44.9390\tD(x): 0.9999\tD(G(z)): 0.0000 / 0.0000\n"
          ],
          "name": "stdout"
        },
        {
          "output_type": "stream",
          "text": [
            "\r 54%|█████▍    | 43/79 [00:16<00:13,  2.59it/s]"
          ],
          "name": "stderr"
        },
        {
          "output_type": "stream",
          "text": [
            "[3/4][42/79]\tLoss_D: 0.0001\tLoss_G: 45.0477\tD(x): 0.9999\tD(G(z)): 0.0000 / 0.0000\n"
          ],
          "name": "stdout"
        },
        {
          "output_type": "stream",
          "text": [
            "\r 56%|█████▌    | 44/79 [00:17<00:13,  2.59it/s]"
          ],
          "name": "stderr"
        },
        {
          "output_type": "stream",
          "text": [
            "[3/4][43/79]\tLoss_D: 0.0002\tLoss_G: 44.7125\tD(x): 0.9998\tD(G(z)): 0.0000 / 0.0000\n"
          ],
          "name": "stdout"
        },
        {
          "output_type": "stream",
          "text": [
            "\r 57%|█████▋    | 45/79 [00:17<00:13,  2.59it/s]"
          ],
          "name": "stderr"
        },
        {
          "output_type": "stream",
          "text": [
            "[3/4][44/79]\tLoss_D: 0.0000\tLoss_G: 45.3298\tD(x): 1.0000\tD(G(z)): 0.0000 / 0.0000\n"
          ],
          "name": "stdout"
        },
        {
          "output_type": "stream",
          "text": [
            "\r 58%|█████▊    | 46/79 [00:17<00:12,  2.59it/s]"
          ],
          "name": "stderr"
        },
        {
          "output_type": "stream",
          "text": [
            "[3/4][45/79]\tLoss_D: 0.0000\tLoss_G: 45.0611\tD(x): 1.0000\tD(G(z)): 0.0000 / 0.0000\n"
          ],
          "name": "stdout"
        },
        {
          "output_type": "stream",
          "text": [
            "\r 59%|█████▉    | 47/79 [00:18<00:12,  2.60it/s]"
          ],
          "name": "stderr"
        },
        {
          "output_type": "stream",
          "text": [
            "[3/4][46/79]\tLoss_D: 0.0000\tLoss_G: 44.8128\tD(x): 1.0000\tD(G(z)): 0.0000 / 0.0000\n"
          ],
          "name": "stdout"
        },
        {
          "output_type": "stream",
          "text": [
            "\r 61%|██████    | 48/79 [00:18<00:11,  2.60it/s]"
          ],
          "name": "stderr"
        },
        {
          "output_type": "stream",
          "text": [
            "[3/4][47/79]\tLoss_D: 0.0000\tLoss_G: 45.1167\tD(x): 1.0000\tD(G(z)): 0.0000 / 0.0000\n"
          ],
          "name": "stdout"
        },
        {
          "output_type": "stream",
          "text": [
            "\r 62%|██████▏   | 49/79 [00:18<00:11,  2.60it/s]"
          ],
          "name": "stderr"
        },
        {
          "output_type": "stream",
          "text": [
            "[3/4][48/79]\tLoss_D: 0.0001\tLoss_G: 45.1212\tD(x): 0.9999\tD(G(z)): 0.0000 / 0.0000\n"
          ],
          "name": "stdout"
        },
        {
          "output_type": "stream",
          "text": [
            "\r 63%|██████▎   | 50/79 [00:19<00:11,  2.60it/s]"
          ],
          "name": "stderr"
        },
        {
          "output_type": "stream",
          "text": [
            "[3/4][49/79]\tLoss_D: 0.0000\tLoss_G: 45.0202\tD(x): 1.0000\tD(G(z)): 0.0000 / 0.0000\n"
          ],
          "name": "stdout"
        },
        {
          "output_type": "stream",
          "text": [
            "\r 65%|██████▍   | 51/79 [00:19<00:10,  2.60it/s]"
          ],
          "name": "stderr"
        },
        {
          "output_type": "stream",
          "text": [
            "[3/4][50/79]\tLoss_D: 0.0000\tLoss_G: 44.9692\tD(x): 1.0000\tD(G(z)): 0.0000 / 0.0000\n"
          ],
          "name": "stdout"
        },
        {
          "output_type": "stream",
          "text": [
            "\r 66%|██████▌   | 52/79 [00:20<00:10,  2.60it/s]"
          ],
          "name": "stderr"
        },
        {
          "output_type": "stream",
          "text": [
            "[3/4][51/79]\tLoss_D: 0.0001\tLoss_G: 45.1277\tD(x): 0.9999\tD(G(z)): 0.0000 / 0.0000\n"
          ],
          "name": "stdout"
        },
        {
          "output_type": "stream",
          "text": [
            "\r 67%|██████▋   | 53/79 [00:20<00:10,  2.60it/s]"
          ],
          "name": "stderr"
        },
        {
          "output_type": "stream",
          "text": [
            "[3/4][52/79]\tLoss_D: 0.0001\tLoss_G: 45.0169\tD(x): 0.9999\tD(G(z)): 0.0000 / 0.0000\n"
          ],
          "name": "stdout"
        },
        {
          "output_type": "stream",
          "text": [
            "\r 68%|██████▊   | 54/79 [00:20<00:09,  2.59it/s]"
          ],
          "name": "stderr"
        },
        {
          "output_type": "stream",
          "text": [
            "[3/4][53/79]\tLoss_D: 0.0000\tLoss_G: 44.7320\tD(x): 1.0000\tD(G(z)): 0.0000 / 0.0000\n"
          ],
          "name": "stdout"
        },
        {
          "output_type": "stream",
          "text": [
            "\r 70%|██████▉   | 55/79 [00:21<00:09,  2.59it/s]"
          ],
          "name": "stderr"
        },
        {
          "output_type": "stream",
          "text": [
            "[3/4][54/79]\tLoss_D: 0.0000\tLoss_G: 44.9411\tD(x): 1.0000\tD(G(z)): 0.0000 / 0.0000\n"
          ],
          "name": "stdout"
        },
        {
          "output_type": "stream",
          "text": [
            "\r 71%|███████   | 56/79 [00:21<00:08,  2.59it/s]"
          ],
          "name": "stderr"
        },
        {
          "output_type": "stream",
          "text": [
            "[3/4][55/79]\tLoss_D: 0.0001\tLoss_G: 45.0899\tD(x): 0.9999\tD(G(z)): 0.0000 / 0.0000\n"
          ],
          "name": "stdout"
        },
        {
          "output_type": "stream",
          "text": [
            "\r 72%|███████▏  | 57/79 [00:22<00:08,  2.59it/s]"
          ],
          "name": "stderr"
        },
        {
          "output_type": "stream",
          "text": [
            "[3/4][56/79]\tLoss_D: 0.0000\tLoss_G: 45.3231\tD(x): 1.0000\tD(G(z)): 0.0000 / 0.0000\n"
          ],
          "name": "stdout"
        },
        {
          "output_type": "stream",
          "text": [
            "\r 73%|███████▎  | 58/79 [00:22<00:08,  2.59it/s]"
          ],
          "name": "stderr"
        },
        {
          "output_type": "stream",
          "text": [
            "[3/4][57/79]\tLoss_D: 0.0001\tLoss_G: 45.1493\tD(x): 0.9999\tD(G(z)): 0.0000 / 0.0000\n"
          ],
          "name": "stdout"
        },
        {
          "output_type": "stream",
          "text": [
            "\r 75%|███████▍  | 59/79 [00:22<00:07,  2.58it/s]"
          ],
          "name": "stderr"
        },
        {
          "output_type": "stream",
          "text": [
            "[3/4][58/79]\tLoss_D: 0.0001\tLoss_G: 44.9995\tD(x): 0.9999\tD(G(z)): 0.0000 / 0.0000\n"
          ],
          "name": "stdout"
        },
        {
          "output_type": "stream",
          "text": [
            "\r 76%|███████▌  | 60/79 [00:23<00:07,  2.59it/s]"
          ],
          "name": "stderr"
        },
        {
          "output_type": "stream",
          "text": [
            "[3/4][59/79]\tLoss_D: 0.0001\tLoss_G: 45.1863\tD(x): 0.9999\tD(G(z)): 0.0000 / 0.0000\n"
          ],
          "name": "stdout"
        },
        {
          "output_type": "stream",
          "text": [
            "\r 77%|███████▋  | 61/79 [00:23<00:06,  2.57it/s]"
          ],
          "name": "stderr"
        },
        {
          "output_type": "stream",
          "text": [
            "[3/4][60/79]\tLoss_D: 0.0000\tLoss_G: 44.9426\tD(x): 1.0000\tD(G(z)): 0.0000 / 0.0000\n"
          ],
          "name": "stdout"
        },
        {
          "output_type": "stream",
          "text": [
            "\r 78%|███████▊  | 62/79 [00:23<00:06,  2.58it/s]"
          ],
          "name": "stderr"
        },
        {
          "output_type": "stream",
          "text": [
            "[3/4][61/79]\tLoss_D: 0.0001\tLoss_G: 45.2598\tD(x): 0.9999\tD(G(z)): 0.0000 / 0.0000\n"
          ],
          "name": "stdout"
        },
        {
          "output_type": "stream",
          "text": [
            "\r 80%|███████▉  | 63/79 [00:24<00:06,  2.58it/s]"
          ],
          "name": "stderr"
        },
        {
          "output_type": "stream",
          "text": [
            "[3/4][62/79]\tLoss_D: 0.0000\tLoss_G: 45.1289\tD(x): 1.0000\tD(G(z)): 0.0000 / 0.0000\n"
          ],
          "name": "stdout"
        },
        {
          "output_type": "stream",
          "text": [
            "\r 81%|████████  | 64/79 [00:24<00:05,  2.58it/s]"
          ],
          "name": "stderr"
        },
        {
          "output_type": "stream",
          "text": [
            "[3/4][63/79]\tLoss_D: 0.0001\tLoss_G: 44.7924\tD(x): 0.9999\tD(G(z)): 0.0000 / 0.0000\n"
          ],
          "name": "stdout"
        },
        {
          "output_type": "stream",
          "text": [
            "\r 82%|████████▏ | 65/79 [00:25<00:05,  2.59it/s]"
          ],
          "name": "stderr"
        },
        {
          "output_type": "stream",
          "text": [
            "[3/4][64/79]\tLoss_D: 0.0001\tLoss_G: 45.0806\tD(x): 0.9999\tD(G(z)): 0.0000 / 0.0000\n"
          ],
          "name": "stdout"
        },
        {
          "output_type": "stream",
          "text": [
            "\r 84%|████████▎ | 66/79 [00:25<00:05,  2.59it/s]"
          ],
          "name": "stderr"
        },
        {
          "output_type": "stream",
          "text": [
            "[3/4][65/79]\tLoss_D: 0.0000\tLoss_G: 45.2846\tD(x): 1.0000\tD(G(z)): 0.0000 / 0.0000\n"
          ],
          "name": "stdout"
        },
        {
          "output_type": "stream",
          "text": [
            "\r 85%|████████▍ | 67/79 [00:25<00:04,  2.59it/s]"
          ],
          "name": "stderr"
        },
        {
          "output_type": "stream",
          "text": [
            "[3/4][66/79]\tLoss_D: 0.0001\tLoss_G: 44.9847\tD(x): 0.9999\tD(G(z)): 0.0000 / 0.0000\n"
          ],
          "name": "stdout"
        },
        {
          "output_type": "stream",
          "text": [
            "\r 86%|████████▌ | 68/79 [00:26<00:04,  2.59it/s]"
          ],
          "name": "stderr"
        },
        {
          "output_type": "stream",
          "text": [
            "[3/4][67/79]\tLoss_D: 0.0002\tLoss_G: 44.9535\tD(x): 0.9998\tD(G(z)): 0.0000 / 0.0000\n"
          ],
          "name": "stdout"
        },
        {
          "output_type": "stream",
          "text": [
            "\r 87%|████████▋ | 69/79 [00:26<00:03,  2.59it/s]"
          ],
          "name": "stderr"
        },
        {
          "output_type": "stream",
          "text": [
            "[3/4][68/79]\tLoss_D: 0.0001\tLoss_G: 45.0728\tD(x): 0.9999\tD(G(z)): 0.0000 / 0.0000\n"
          ],
          "name": "stdout"
        },
        {
          "output_type": "stream",
          "text": [
            "\r 89%|████████▊ | 70/79 [00:27<00:03,  2.59it/s]"
          ],
          "name": "stderr"
        },
        {
          "output_type": "stream",
          "text": [
            "[3/4][69/79]\tLoss_D: 0.0001\tLoss_G: 44.8983\tD(x): 0.9999\tD(G(z)): 0.0000 / 0.0000\n"
          ],
          "name": "stdout"
        },
        {
          "output_type": "stream",
          "text": [
            "\r 90%|████████▉ | 71/79 [00:27<00:03,  2.59it/s]"
          ],
          "name": "stderr"
        },
        {
          "output_type": "stream",
          "text": [
            "[3/4][70/79]\tLoss_D: 0.0000\tLoss_G: 45.0256\tD(x): 1.0000\tD(G(z)): 0.0000 / 0.0000\n"
          ],
          "name": "stdout"
        },
        {
          "output_type": "stream",
          "text": [
            "\r 91%|█████████ | 72/79 [00:27<00:02,  2.59it/s]"
          ],
          "name": "stderr"
        },
        {
          "output_type": "stream",
          "text": [
            "[3/4][71/79]\tLoss_D: 0.0001\tLoss_G: 44.7762\tD(x): 0.9999\tD(G(z)): 0.0000 / 0.0000\n"
          ],
          "name": "stdout"
        },
        {
          "output_type": "stream",
          "text": [
            "\r 92%|█████████▏| 73/79 [00:28<00:02,  2.59it/s]"
          ],
          "name": "stderr"
        },
        {
          "output_type": "stream",
          "text": [
            "[3/4][72/79]\tLoss_D: 0.0001\tLoss_G: 45.0004\tD(x): 0.9999\tD(G(z)): 0.0000 / 0.0000\n"
          ],
          "name": "stdout"
        },
        {
          "output_type": "stream",
          "text": [
            "\r 94%|█████████▎| 74/79 [00:28<00:01,  2.59it/s]"
          ],
          "name": "stderr"
        },
        {
          "output_type": "stream",
          "text": [
            "[3/4][73/79]\tLoss_D: 0.0000\tLoss_G: 45.0893\tD(x): 1.0000\tD(G(z)): 0.0000 / 0.0000\n"
          ],
          "name": "stdout"
        },
        {
          "output_type": "stream",
          "text": [
            "\r 95%|█████████▍| 75/79 [00:28<00:01,  2.58it/s]"
          ],
          "name": "stderr"
        },
        {
          "output_type": "stream",
          "text": [
            "[3/4][74/79]\tLoss_D: 0.0000\tLoss_G: 44.9793\tD(x): 1.0000\tD(G(z)): 0.0000 / 0.0000\n"
          ],
          "name": "stdout"
        },
        {
          "output_type": "stream",
          "text": [
            "\r 96%|█████████▌| 76/79 [00:29<00:01,  2.58it/s]"
          ],
          "name": "stderr"
        },
        {
          "output_type": "stream",
          "text": [
            "[3/4][75/79]\tLoss_D: 0.0001\tLoss_G: 44.9821\tD(x): 0.9999\tD(G(z)): 0.0000 / 0.0000\n"
          ],
          "name": "stdout"
        },
        {
          "output_type": "stream",
          "text": [
            "\r 97%|█████████▋| 77/79 [00:29<00:00,  2.59it/s]"
          ],
          "name": "stderr"
        },
        {
          "output_type": "stream",
          "text": [
            "[3/4][76/79]\tLoss_D: 0.0001\tLoss_G: 45.0424\tD(x): 0.9999\tD(G(z)): 0.0000 / 0.0000\n"
          ],
          "name": "stdout"
        },
        {
          "output_type": "stream",
          "text": [
            "100%|██████████| 79/79 [00:30<00:00,  2.61it/s]"
          ],
          "name": "stderr"
        },
        {
          "output_type": "stream",
          "text": [
            "[3/4][77/79]\tLoss_D: 0.0001\tLoss_G: 45.3628\tD(x): 0.9999\tD(G(z)): 0.0000 / 0.0000\n",
            "[3/4][78/79]\tLoss_D: 0.0000\tLoss_G: 45.1400\tD(x): 1.0000\tD(G(z)): 0.0000 / 0.0000\n"
          ],
          "name": "stdout"
        },
        {
          "output_type": "stream",
          "text": [
            "\n"
          ],
          "name": "stderr"
        }
      ]
    },
    {
      "cell_type": "code",
      "metadata": {
        "id": "4N0yiqHfzOzX",
        "colab_type": "code",
        "colab": {
          "base_uri": "https://localhost:8080/",
          "height": 323
        },
        "outputId": "87eefe85-91e4-42f7-8a63-0dd5f6135d25"
      },
      "source": [
        "print(generator)"
      ],
      "execution_count": 9,
      "outputs": [
        {
          "output_type": "stream",
          "text": [
            "Generator(\n",
            "  (_model): Sequential(\n",
            "    (0): ConvTranspose2d(100, 1024, kernel_size=(4, 4), stride=(1, 1), bias=False)\n",
            "    (1): BatchNorm2d(1024, eps=1e-05, momentum=0.1, affine=True, track_running_stats=True)\n",
            "    (2): ReLU(inplace=True)\n",
            "    (3): ConvTranspose2d(1024, 512, kernel_size=(4, 4), stride=(2, 2), padding=(1, 1), bias=False)\n",
            "    (4): BatchNorm2d(512, eps=1e-05, momentum=0.1, affine=True, track_running_stats=True)\n",
            "    (5): ReLU(inplace=True)\n",
            "    (6): ConvTranspose2d(512, 256, kernel_size=(4, 4), stride=(2, 2), padding=(1, 1), bias=False)\n",
            "    (7): BatchNorm2d(256, eps=1e-05, momentum=0.1, affine=True, track_running_stats=True)\n",
            "    (8): ReLU(inplace=True)\n",
            "    (9): ConvTranspose2d(256, 128, kernel_size=(4, 4), stride=(2, 2), padding=(1, 1), bias=False)\n",
            "    (10): BatchNorm2d(128, eps=1e-05, momentum=0.1, affine=True, track_running_stats=True)\n",
            "    (11): ReLU(inplace=True)\n",
            "    (12): ConvTranspose2d(128, 1, kernel_size=(4, 4), stride=(2, 2), padding=(1, 1), bias=False)\n",
            "    (13): Tanh()\n",
            "  )\n",
            ")\n"
          ],
          "name": "stdout"
        }
      ]
    },
    {
      "cell_type": "code",
      "metadata": {
        "id": "o-Z61n2SAhlv",
        "colab_type": "code",
        "colab": {
          "base_uri": "https://localhost:8080/",
          "height": 306
        },
        "outputId": "13f49e6d-2533-4546-aa1a-5d8c848f1558"
      },
      "source": [
        "print(discriminator)"
      ],
      "execution_count": 10,
      "outputs": [
        {
          "output_type": "stream",
          "text": [
            "Discriminator(\n",
            "  (_model): Sequential(\n",
            "    (0): Conv2d(1, 128, kernel_size=(4, 4), stride=(2, 2), padding=(1, 1), bias=False)\n",
            "    (1): LeakyReLU(negative_slope=0.2, inplace=True)\n",
            "    (2): Conv2d(128, 256, kernel_size=(4, 4), stride=(2, 2), padding=(1, 1), bias=False)\n",
            "    (3): BatchNorm2d(256, eps=1e-05, momentum=0.1, affine=True, track_running_stats=True)\n",
            "    (4): LeakyReLU(negative_slope=0.2, inplace=True)\n",
            "    (5): Conv2d(256, 512, kernel_size=(4, 4), stride=(2, 2), padding=(1, 1), bias=False)\n",
            "    (6): BatchNorm2d(512, eps=1e-05, momentum=0.1, affine=True, track_running_stats=True)\n",
            "    (7): LeakyReLU(negative_slope=0.2, inplace=True)\n",
            "    (8): Conv2d(512, 1024, kernel_size=(4, 4), stride=(2, 2), padding=(1, 1), bias=False)\n",
            "    (9): BatchNorm2d(1024, eps=1e-05, momentum=0.1, affine=True, track_running_stats=True)\n",
            "    (10): LeakyReLU(negative_slope=0.2, inplace=True)\n",
            "    (11): Conv2d(1024, 1, kernel_size=(4, 4), stride=(1, 1), bias=False)\n",
            "    (12): Sigmoid()\n",
            "  )\n",
            ")\n"
          ],
          "name": "stdout"
        }
      ]
    }
  ]
}