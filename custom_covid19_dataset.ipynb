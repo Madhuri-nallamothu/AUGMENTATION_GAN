{
  "nbformat": 4,
  "nbformat_minor": 0,
  "metadata": {
    "colab": {
      "name": "custom-covid19-dataset.ipynb",
      "provenance": [],
      "collapsed_sections": [],
      "authorship_tag": "ABX9TyPoxmtXyZRpVDdCGZqYfxpl",
      "include_colab_link": true
    },
    "kernelspec": {
      "name": "python3",
      "display_name": "Python 3"
    },
    "accelerator": "GPU"
  },
  "cells": [
    {
      "cell_type": "markdown",
      "metadata": {
        "id": "view-in-github",
        "colab_type": "text"
      },
      "source": [
        "<a href=\"https://colab.research.google.com/github/SimoneRosset/AUGMENTATION_GAN/blob/master/custom_covid19_dataset.ipynb\" target=\"_parent\"><img src=\"https://colab.research.google.com/assets/colab-badge.svg\" alt=\"Open In Colab\"/></a>"
      ]
    },
    {
      "cell_type": "code",
      "metadata": {
        "id": "7HiUA-waF1vI",
        "colab_type": "code",
        "colab": {}
      },
      "source": [
        "import torch\n",
        "import torchvision\n",
        "import torchvision.transforms as transforms\n",
        "from torchsummary import summary"
      ],
      "execution_count": 1,
      "outputs": []
    },
    {
      "cell_type": "code",
      "metadata": {
        "id": "UnEsFdblgHH-",
        "colab_type": "code",
        "colab": {}
      },
      "source": [
        "import os\n",
        "from tqdm import notebook\n",
        "from sklearn.metrics import classification_report, confusion_matrix\n",
        "from tabulate import tabulate\n",
        "import gc\n",
        "import matplotlib.pyplot as plt\n",
        "import numpy as np\n",
        "from PIL import Image"
      ],
      "execution_count": 2,
      "outputs": []
    },
    {
      "cell_type": "code",
      "metadata": {
        "id": "z0a9Inm_hOsz",
        "colab_type": "code",
        "colab": {
          "base_uri": "https://localhost:8080/",
          "height": 141
        },
        "outputId": "96a7332b-2b6e-4acf-eafb-052a479e8e5d"
      },
      "source": [
        "from google.colab import drive\n",
        "drive.mount('/content/drive') \n",
        "%cd /content/drive/My\\ Drive/"
      ],
      "execution_count": 3,
      "outputs": [
        {
          "output_type": "stream",
          "text": [
            "Go to this URL in a browser: https://accounts.google.com/o/oauth2/auth?client_id=947318989803-6bn6qk8qdgf4n4g3pfee6491hc0brc4i.apps.googleusercontent.com&redirect_uri=urn%3aietf%3awg%3aoauth%3a2.0%3aoob&scope=email%20https%3a%2f%2fwww.googleapis.com%2fauth%2fdocs.test%20https%3a%2f%2fwww.googleapis.com%2fauth%2fdrive%20https%3a%2f%2fwww.googleapis.com%2fauth%2fdrive.photos.readonly%20https%3a%2f%2fwww.googleapis.com%2fauth%2fpeopleapi.readonly&response_type=code\n",
            "\n",
            "Enter your authorization code:\n",
            "··········\n",
            "Mounted at /content/drive\n",
            "/content/drive/My Drive\n"
          ],
          "name": "stdout"
        }
      ]
    },
    {
      "cell_type": "code",
      "metadata": {
        "id": "WDfRQKdehgiX",
        "colab_type": "code",
        "colab": {
          "base_uri": "https://localhost:8080/",
          "height": 466
        },
        "outputId": "01a09c79-7261-4e85-d431-614b8d82bfa0"
      },
      "source": [
        "for func in [lambda: os.mkdir(os.path.join('.','custom_covid_dataset/')),\n",
        "            lambda: os.mkdir(os.path.join('.', 'custom_covid_dataset/classic_augment/')),\n",
        "            lambda: os.mkdir(os.path.join('.', 'custom_covid_dataset/classic_augment/test/')),\n",
        "            lambda: os.mkdir(os.path.join('.', 'custom_covid_dataset/classic_augment/test/covid')),\n",
        "            lambda: os.mkdir(os.path.join('.', 'custom_covid_dataset/classic_augment/test/normal')),\n",
        "            lambda: os.mkdir(os.path.join('.', 'custom_covid_dataset/classic_augment/test/pneumonia_bac'))]:\n",
        "  try:\n",
        "    func()\n",
        "  except Exception as error:\n",
        "    print(error)\n",
        "    continue\n",
        "\n",
        "sets=[0,500,1000,2000,3000,4000,5000,7500,10000,15000]\n",
        "\n",
        "paths=[]\n",
        "\n",
        "for i in range(len(sets)):\n",
        "  paths.append('custom_covid_dataset/classic_augment/'+str(sets[i])+'/')\n",
        "  paths.append('custom_covid_dataset/classic_augment/'+str(sets[i])+'/covid')\n",
        "  paths.append('custom_covid_dataset/classic_augment/'+str(sets[i])+'/normal')\n",
        "  paths.append('custom_covid_dataset/classic_augment/'+str(sets[i])+'/pneumonia_bac')\n",
        "\n",
        "for path in paths:\n",
        "  try:\n",
        "    os.mkdir(os.path.join('.', path))\n",
        "  except Exception as error:\n",
        "    print(error)\n",
        "    continue"
      ],
      "execution_count": 4,
      "outputs": [
        {
          "output_type": "stream",
          "text": [
            "[Errno 17] File exists: './custom_covid_dataset/'\n",
            "[Errno 17] File exists: './custom_covid_dataset/classic_augment/'\n",
            "[Errno 17] File exists: './custom_covid_dataset/classic_augment/test/'\n",
            "[Errno 17] File exists: './custom_covid_dataset/classic_augment/test/covid'\n",
            "[Errno 17] File exists: './custom_covid_dataset/classic_augment/test/normal'\n",
            "[Errno 17] File exists: './custom_covid_dataset/classic_augment/test/pneumonia_bac'\n",
            "[Errno 17] File exists: './custom_covid_dataset/classic_augment/0/'\n",
            "[Errno 17] File exists: './custom_covid_dataset/classic_augment/0/covid'\n",
            "[Errno 17] File exists: './custom_covid_dataset/classic_augment/0/normal'\n",
            "[Errno 17] File exists: './custom_covid_dataset/classic_augment/0/pneumonia_bac'\n",
            "[Errno 17] File exists: './custom_covid_dataset/classic_augment/500/'\n",
            "[Errno 17] File exists: './custom_covid_dataset/classic_augment/500/covid'\n",
            "[Errno 17] File exists: './custom_covid_dataset/classic_augment/500/normal'\n",
            "[Errno 17] File exists: './custom_covid_dataset/classic_augment/500/pneumonia_bac'\n",
            "[Errno 17] File exists: './custom_covid_dataset/classic_augment/7500/'\n",
            "[Errno 17] File exists: './custom_covid_dataset/classic_augment/7500/covid'\n",
            "[Errno 17] File exists: './custom_covid_dataset/classic_augment/7500/normal'\n",
            "[Errno 17] File exists: './custom_covid_dataset/classic_augment/7500/pneumonia_bac'\n",
            "[Errno 17] File exists: './custom_covid_dataset/classic_augment/10000/'\n",
            "[Errno 17] File exists: './custom_covid_dataset/classic_augment/10000/covid'\n",
            "[Errno 17] File exists: './custom_covid_dataset/classic_augment/10000/normal'\n",
            "[Errno 17] File exists: './custom_covid_dataset/classic_augment/10000/pneumonia_bac'\n",
            "[Errno 17] File exists: './custom_covid_dataset/classic_augment/15000/'\n",
            "[Errno 17] File exists: './custom_covid_dataset/classic_augment/15000/covid'\n",
            "[Errno 17] File exists: './custom_covid_dataset/classic_augment/15000/normal'\n",
            "[Errno 17] File exists: './custom_covid_dataset/classic_augment/15000/pneumonia_bac'\n"
          ],
          "name": "stdout"
        }
      ]
    },
    {
      "cell_type": "code",
      "metadata": {
        "id": "n2VqTBZSeQH2",
        "colab_type": "code",
        "colab": {
          "base_uri": "https://localhost:8080/",
          "height": 35
        },
        "outputId": "23a3b96d-6212-4629-c2f7-ecf1ede8dc29"
      },
      "source": [
        "!git clone https://github.com/vj2050/Transfer-Learning-COVID-19.git\n",
        "\n",
        "data_dir='Transfer-Learning-COVID-19/dataset_3_classes/'\n"
      ],
      "execution_count": 5,
      "outputs": [
        {
          "output_type": "stream",
          "text": [
            "fatal: destination path 'Transfer-Learning-COVID-19' already exists and is not an empty directory.\n"
          ],
          "name": "stdout"
        }
      ]
    },
    {
      "cell_type": "code",
      "metadata": {
        "id": "5_RpgtM2fx1J",
        "colab_type": "code",
        "colab": {}
      },
      "source": [
        "img_dim=64\n",
        "N_rot=3\n",
        "N_flip=5\n",
        "N_tran=7\n",
        "N_scal=3\n",
        "transform_list=[]\n",
        "\n",
        "transform_list.append(transforms.Resize((img_dim*2,img_dim*2),interpolation=2))\n",
        "\n",
        "for i in range(N_rot):\n",
        "  transform_list.append(transforms.RandomApply([transforms.RandomRotation(degrees=(-90,90))], p=0.5))\n",
        "for i in range(N_flip):\n",
        "  transform_list.append(transforms.RandomHorizontalFlip(p=0.5))\n",
        "for i in range(N_flip):\n",
        "  transform_list.append(transforms.RandomVerticalFlip(p=0.5))\n",
        "for i in range(N_scal):\n",
        "  transform_list.append(transforms.RandomApply([transforms.RandomAffine(degrees=0,scale=(0.9,1.1))], p=0.5))\n",
        "for i in range(N_tran):\n",
        "  transform_list.append(transforms.RandomApply([transforms.RandomAffine(degrees=0,translate=(0.1,0.1))], p=0.5))\n",
        "\n",
        "transform_list.append(transforms.Resize((img_dim,img_dim),interpolation=2))\n",
        "\n",
        "transform_list.append(transforms.ToTensor())\n",
        "\n",
        "#transform_list.append(transforms.Normalize((0.5, 0.5, 0.5), (0.5, 0.5, 0.5)))\n",
        "\n",
        "transform = transforms.Compose(transform_list)\n",
        "\n",
        "test_transform = transforms.Compose([transforms.Resize((img_dim,img_dim),interpolation=2),\n",
        "                                    transforms.ToTensor(),\n",
        "                                    #transforms.Normalize((0.5, 0.5, 0.5), (0.5, 0.5, 0.5))\n",
        "                                    ])"
      ],
      "execution_count": 6,
      "outputs": []
    },
    {
      "cell_type": "code",
      "metadata": {
        "id": "Psz_Y4I9GBBn",
        "colab_type": "code",
        "colab": {}
      },
      "source": [
        "class MyImageFolder(torchvision.datasets.ImageFolder):\n",
        "  def __getitem__(self, index):\n",
        "    return super(MyImageFolder, self).__getitem__(index)[0], super(MyImageFolder, self).__getitem__(index)[1], self.imgs[index][0]#return image path"
      ],
      "execution_count": 7,
      "outputs": []
    },
    {
      "cell_type": "code",
      "metadata": {
        "id": "2YOlOfWPFTys",
        "colab_type": "code",
        "colab": {}
      },
      "source": [
        "batch_size_train=1\n",
        "# batch_size_test=27\n",
        "\n",
        "trainset = MyImageFolder(os.path.join(\n",
        "          data_dir, \"train/\"), transform=transform)\n",
        "trainloader = torch.utils.data.DataLoader(\n",
        "          trainset, batch_size=batch_size_train, shuffle=True)\n",
        "# testset = torchvision.datasets.ImageFolder(os.path.join( \n",
        "#           data_dir, \"test/\"), transform=test_transform)\n",
        "# testloader = torch.utils.data.DataLoader(\n",
        "#           testset, batch_size=batch_size_test, shuffle=False)\n",
        "normalset = MyImageFolder(os.path.join(\n",
        "          data_dir, \"test/\"), transform=test_transform)\n",
        "normalloader = torch.utils.data.DataLoader(\n",
        "          normalset, batch_size=1, shuffle=False)\n",
        "\n",
        "classes = (\"covid\", \"normal\", \"pneumonia_bac\")"
      ],
      "execution_count": 8,
      "outputs": []
    },
    {
      "cell_type": "code",
      "metadata": {
        "id": "E5_y_AE9VfN_",
        "colab_type": "code",
        "colab": {
          "base_uri": "https://localhost:8080/",
          "height": 285
        },
        "outputId": "1a75b13b-f9a7-4087-c342-b8052a31eab9"
      },
      "source": [
        "# functions to show an image\n",
        "\n",
        "def imshow(img):\n",
        "    #img = img / 2 + 0.5     # unnormalize\n",
        "    npimg = img.numpy()\n",
        "    plt.imshow(np.transpose(npimg, (1, 2, 0)))\n",
        "    plt.show()\n",
        "\n",
        "\n",
        "# get some random training images\n",
        "dataiter = iter(normalloader)\n",
        "images, labels, path = dataiter.next()\n",
        "\n",
        "# show images\n",
        "imshow(torchvision.utils.make_grid(images))\n",
        "# print labels\n",
        "print(' '.join('%5s' % classes[labels[j]] for j in range(batch_size_train)))\n",
        "\n",
        "name, ext= (path[0].split(\"/\")[-1]).split(\".\")"
      ],
      "execution_count": 9,
      "outputs": [
        {
          "output_type": "display_data",
          "data": {
            "image/png": "[encoded data removed]",
            "text/plain": [
              "<Figure size 432x288 with 1 Axes>"
            ]
          },
          "metadata": {
            "tags": [],
            "needs_background": "light"
          }
        },
        {
          "output_type": "stream",
          "text": [
            "covid\n"
          ],
          "name": "stdout"
        }
      ]
    },
    {
      "cell_type": "code",
      "metadata": {
        "id": "FUnN9WZXW083",
        "colab_type": "code",
        "colab": {
          "base_uri": "https://localhost:8080/",
          "height": 268
        },
        "outputId": "e75ddfe6-d0fc-4cda-8a98-346e34f646b8"
      },
      "source": [
        "imshow(images[np.random.randint(0,batch_size_train)])"
      ],
      "execution_count": 10,
      "outputs": [
        {
          "output_type": "display_data",
          "data": {
            "image/png": "[encoded data removed]",
            "text/plain": [
              "<Figure size 432x288 with 1 Axes>"
            ]
          },
          "metadata": {
            "tags": [],
            "needs_background": "light"
          }
        }
      ]
    },
    {
      "cell_type": "code",
      "metadata": {
        "id": "JJ8zuHztBsDE",
        "colab_type": "code",
        "colab": {}
      },
      "source": [
        "# #MAKE FOLDER 0\n",
        "# dataiter = iter(normalloader)\n",
        "\n",
        "# for i in range(len(normalloader.dataset)):\n",
        "#     images, labels, path = dataiter.next()\n",
        "   \n",
        "#     npimg = np.transpose(images.squeeze(0).numpy(), (1, 2, 0))\n",
        "\n",
        "#     img = Image.fromarray((npimg * 255).astype(np.uint8))\n",
        "\n",
        "#     name, ext= (path[0].split(\"/\")[-1]).rsplit('.', 1)\n",
        "\n",
        "#     fold=classes[labels[0]]\n",
        "\n",
        "#     abs_path='custom_covid_dataset/classic_augment/test/'+fold+'/'+name+'.'+ext\n",
        "#     # abs_path='custom_covid_dataset/classic_augment/0/'+fold+'/'+name+'.'+ext\n",
        "\n",
        "#     if ext=='png':\n",
        "#       img.save(abs_path, 'PNG')\n",
        "#     else:\n",
        "#       img.save(abs_path, 'JPEG')"
      ],
      "execution_count": 14,
      "outputs": []
    },
    {
      "cell_type": "code",
      "metadata": {
        "id": "V7MHt8l3SjnQ",
        "colab_type": "code",
        "colab": {
          "base_uri": "https://localhost:8080/",
          "height": 81
        },
        "outputId": "4ad38b38-01ff-4e85-980a-a15ecf1437dc"
      },
      "source": [
        "# dataiter = iter(normalloader)\n",
        "\n",
        "# images, labels, path = dataiter.next()\n",
        "   \n",
        "# npimg = np.transpose(images.squeeze(0).numpy(), (1, 2, 0))\n",
        "\n",
        "# im = Image.fromarray((npimg * 255).astype(np.uint8))\n",
        "\n",
        "# display(im)"
      ],
      "execution_count": null,
      "outputs": [
        {
          "output_type": "display_data",
          "data": {
            "image/png": "[encoded data removed]",
            "text/plain": [
              "<PIL.Image.Image image mode=RGB size=64x64 at 0x7FB060534588>"
            ]
          },
          "metadata": {
            "tags": []
          }
        }
      ]
    },
    {
      "cell_type": "code",
      "metadata": {
        "id": "mR8bwBP0EQHJ",
        "colab_type": "code",
        "colab": {
          "base_uri": "https://localhost:8080/",
          "height": 104
        },
        "outputId": "e300c73f-4002-4161-d7be-7d40a783bd37"
      },
      "source": [
        "dataiter = iter(trainloader)\n",
        "\n",
        "for i in range(1,len(sets),1):\n",
        "  covid=sets[i-1] #sequential\n",
        "  normal=sets[i-1]\n",
        "  pneu=sets[i-1]\n",
        "  # covid=0 \n",
        "  # normal=0\n",
        "  # pneu=0\n",
        "  none=1\n",
        "  print('folder start: ',sets[i])\n",
        "  dataiter = iter(trainloader)\n",
        " \n",
        "  while covid<sets[i] or normal<sets[i] or pneu<sets[i]:\n",
        "\n",
        "    images, labels, path = dataiter.next()\n",
        "   \n",
        "    npimg = np.transpose(images.squeeze(0).numpy(), (1, 2, 0))\n",
        "\n",
        "    img = Image.fromarray((npimg * 255).astype(np.uint8))\n",
        "\n",
        "    name, ext= (path[0].split('/')[-1]).rsplit('.', 1)\n",
        "\n",
        "    fold=classes[labels[0]]\n",
        "\n",
        "\n",
        "    if fold == 'covid' and covid<sets[i]:\n",
        "      abs_path='custom_covid_dataset/classic_augment/'+str(sets[i])+'/'+fold+'/'+str(sets[i])+'.'+str(covid)+'.'+name+'.'+ext\n",
        "      covid+=1\n",
        "      if ext=='png':\n",
        "        img.save(abs_path, 'PNG')\n",
        "      else:\n",
        "        img.save(abs_path, 'JPEG')\n",
        "    else:\n",
        "      if fold == 'normal' and normal<sets[i]:\n",
        "        abs_path='custom_covid_dataset/classic_augment/'+str(sets[i])+'/'+fold+'/'+str(sets[i])+'.'+str(normal)+'.'+name+'.'+ext\n",
        "        normal+=1\n",
        "        if ext=='png':\n",
        "          img.save(abs_path, 'PNG')\n",
        "        else:\n",
        "          img.save(abs_path, 'JPEG')\n",
        "      else:\n",
        "        if fold == 'pneumonia_bac' and pneu<sets[i]:\n",
        "          abs_path='custom_covid_dataset/classic_augment/'+str(sets[i])+'/'+fold+'/'+str(sets[i])+'.'+str(pneu)+'.'+name+'.'+ext\n",
        "          pneu+=1\n",
        "          if ext=='png':\n",
        "            img.save(abs_path, 'PNG')\n",
        "          else:\n",
        "            img.save(abs_path, 'JPEG')\n",
        "        else:\n",
        "          none+=1\n",
        "\n",
        "    if (covid+normal+pneu+none)%200==0:\n",
        "      dataiter = iter(trainloader)\n",
        "\n",
        "\n",
        "  print('folder end: ',sets[i])\n",
        "\n",
        "\n",
        "\n"
      ],
      "execution_count": null,
      "outputs": [
        {
          "output_type": "stream",
          "text": [
            "folder start:  1000\n",
            "folder end:  1000\n",
            "folder start:  2000\n",
            "folder end:  2000\n",
            "folder start:  3000\n"
          ],
          "name": "stdout"
        }
      ]
    },
    {
      "cell_type": "code",
      "metadata": {
        "id": "tKHZrUjXUpPd",
        "colab_type": "code",
        "colab": {}
      },
      "source": [
        ""
      ],
      "execution_count": null,
      "outputs": []
    }
  ]
}